{
 "cells": [
  {
   "cell_type": "code",
   "execution_count": 1,
   "metadata": {},
   "outputs": [
    {
     "data": {
      "text/html": [
       "<div>\n",
       "<style scoped>\n",
       "    .dataframe tbody tr th:only-of-type {\n",
       "        vertical-align: middle;\n",
       "    }\n",
       "\n",
       "    .dataframe tbody tr th {\n",
       "        vertical-align: top;\n",
       "    }\n",
       "\n",
       "    .dataframe thead th {\n",
       "        text-align: right;\n",
       "    }\n",
       "</style>\n",
       "<table border=\"1\" class=\"dataframe\">\n",
       "  <thead>\n",
       "    <tr style=\"text-align: right;\">\n",
       "      <th></th>\n",
       "      <th>Accident_Index</th>\n",
       "      <th>Accident Date</th>\n",
       "      <th>Day_of_Week</th>\n",
       "      <th>Junction_Control</th>\n",
       "      <th>Junction_Detail</th>\n",
       "      <th>Accident_Severity</th>\n",
       "      <th>Latitude</th>\n",
       "      <th>Light_Conditions</th>\n",
       "      <th>Local_Authority_(District)</th>\n",
       "      <th>Carriageway_Hazards</th>\n",
       "      <th>Longitude</th>\n",
       "      <th>Number_of_Casualties</th>\n",
       "      <th>Number_of_Vehicles</th>\n",
       "      <th>Police_Force</th>\n",
       "      <th>Road_Surface_Conditions</th>\n",
       "      <th>Road_Type</th>\n",
       "      <th>Speed_limit</th>\n",
       "      <th>Time</th>\n",
       "      <th>Urban_or_Rural_Area</th>\n",
       "      <th>Weather_Conditions</th>\n",
       "      <th>Vehicle_Type</th>\n",
       "    </tr>\n",
       "  </thead>\n",
       "  <tbody>\n",
       "    <tr>\n",
       "      <th>0</th>\n",
       "      <td>200901BS70001</td>\n",
       "      <td>1/1/2021</td>\n",
       "      <td>Thursday</td>\n",
       "      <td>Give way or uncontrolled</td>\n",
       "      <td>T or staggered junction</td>\n",
       "      <td>Serious</td>\n",
       "      <td>51.512273</td>\n",
       "      <td>Daylight</td>\n",
       "      <td>Kensington and Chelsea</td>\n",
       "      <td>None</td>\n",
       "      <td>-0.201349</td>\n",
       "      <td>1</td>\n",
       "      <td>2</td>\n",
       "      <td>Metropolitan Police</td>\n",
       "      <td>Dry</td>\n",
       "      <td>One way street</td>\n",
       "      <td>30</td>\n",
       "      <td>15:11</td>\n",
       "      <td>Urban</td>\n",
       "      <td>Fine no high winds</td>\n",
       "      <td>Car</td>\n",
       "    </tr>\n",
       "    <tr>\n",
       "      <th>1</th>\n",
       "      <td>200901BS70002</td>\n",
       "      <td>1/5/2021</td>\n",
       "      <td>Monday</td>\n",
       "      <td>Give way or uncontrolled</td>\n",
       "      <td>Crossroads</td>\n",
       "      <td>Serious</td>\n",
       "      <td>51.514399</td>\n",
       "      <td>Daylight</td>\n",
       "      <td>Kensington and Chelsea</td>\n",
       "      <td>None</td>\n",
       "      <td>-0.199248</td>\n",
       "      <td>11</td>\n",
       "      <td>2</td>\n",
       "      <td>Metropolitan Police</td>\n",
       "      <td>Wet or damp</td>\n",
       "      <td>Single carriageway</td>\n",
       "      <td>30</td>\n",
       "      <td>10:59</td>\n",
       "      <td>Urban</td>\n",
       "      <td>Fine no high winds</td>\n",
       "      <td>Taxi/Private hire car</td>\n",
       "    </tr>\n",
       "    <tr>\n",
       "      <th>2</th>\n",
       "      <td>200901BS70003</td>\n",
       "      <td>1/4/2021</td>\n",
       "      <td>Sunday</td>\n",
       "      <td>Give way or uncontrolled</td>\n",
       "      <td>T or staggered junction</td>\n",
       "      <td>Slight</td>\n",
       "      <td>51.486668</td>\n",
       "      <td>Daylight</td>\n",
       "      <td>Kensington and Chelsea</td>\n",
       "      <td>None</td>\n",
       "      <td>-0.179599</td>\n",
       "      <td>1</td>\n",
       "      <td>2</td>\n",
       "      <td>Metropolitan Police</td>\n",
       "      <td>Dry</td>\n",
       "      <td>Single carriageway</td>\n",
       "      <td>30</td>\n",
       "      <td>14:19</td>\n",
       "      <td>Urban</td>\n",
       "      <td>Fine no high winds</td>\n",
       "      <td>Taxi/Private hire car</td>\n",
       "    </tr>\n",
       "    <tr>\n",
       "      <th>3</th>\n",
       "      <td>200901BS70004</td>\n",
       "      <td>1/5/2021</td>\n",
       "      <td>Monday</td>\n",
       "      <td>Auto traffic signal</td>\n",
       "      <td>T or staggered junction</td>\n",
       "      <td>Serious</td>\n",
       "      <td>51.507804</td>\n",
       "      <td>Daylight</td>\n",
       "      <td>Kensington and Chelsea</td>\n",
       "      <td>None</td>\n",
       "      <td>-0.203110</td>\n",
       "      <td>1</td>\n",
       "      <td>2</td>\n",
       "      <td>Metropolitan Police</td>\n",
       "      <td>Frost or ice</td>\n",
       "      <td>Single carriageway</td>\n",
       "      <td>30</td>\n",
       "      <td>08:10</td>\n",
       "      <td>Urban</td>\n",
       "      <td>Other</td>\n",
       "      <td>Motorcycle over 500cc</td>\n",
       "    </tr>\n",
       "    <tr>\n",
       "      <th>4</th>\n",
       "      <td>200901BS70005</td>\n",
       "      <td>1/6/2021</td>\n",
       "      <td>Tuesday</td>\n",
       "      <td>Auto traffic signal</td>\n",
       "      <td>Crossroads</td>\n",
       "      <td>Serious</td>\n",
       "      <td>51.482076</td>\n",
       "      <td>Darkness - lights lit</td>\n",
       "      <td>Kensington and Chelsea</td>\n",
       "      <td>None</td>\n",
       "      <td>-0.173445</td>\n",
       "      <td>1</td>\n",
       "      <td>2</td>\n",
       "      <td>Metropolitan Police</td>\n",
       "      <td>Dry</td>\n",
       "      <td>Single carriageway</td>\n",
       "      <td>30</td>\n",
       "      <td>17:25</td>\n",
       "      <td>Urban</td>\n",
       "      <td>Fine no high winds</td>\n",
       "      <td>Car</td>\n",
       "    </tr>\n",
       "  </tbody>\n",
       "</table>\n",
       "</div>"
      ],
      "text/plain": [
       "  Accident_Index Accident Date Day_of_Week          Junction_Control  \\\n",
       "0  200901BS70001      1/1/2021    Thursday  Give way or uncontrolled   \n",
       "1  200901BS70002      1/5/2021      Monday  Give way or uncontrolled   \n",
       "2  200901BS70003      1/4/2021      Sunday  Give way or uncontrolled   \n",
       "3  200901BS70004      1/5/2021      Monday       Auto traffic signal   \n",
       "4  200901BS70005      1/6/2021     Tuesday       Auto traffic signal   \n",
       "\n",
       "           Junction_Detail Accident_Severity   Latitude  \\\n",
       "0  T or staggered junction           Serious  51.512273   \n",
       "1               Crossroads           Serious  51.514399   \n",
       "2  T or staggered junction            Slight  51.486668   \n",
       "3  T or staggered junction           Serious  51.507804   \n",
       "4               Crossroads           Serious  51.482076   \n",
       "\n",
       "        Light_Conditions Local_Authority_(District) Carriageway_Hazards  \\\n",
       "0               Daylight     Kensington and Chelsea                None   \n",
       "1               Daylight     Kensington and Chelsea                None   \n",
       "2               Daylight     Kensington and Chelsea                None   \n",
       "3               Daylight     Kensington and Chelsea                None   \n",
       "4  Darkness - lights lit     Kensington and Chelsea                None   \n",
       "\n",
       "   Longitude  Number_of_Casualties  Number_of_Vehicles         Police_Force  \\\n",
       "0  -0.201349                     1                   2  Metropolitan Police   \n",
       "1  -0.199248                    11                   2  Metropolitan Police   \n",
       "2  -0.179599                     1                   2  Metropolitan Police   \n",
       "3  -0.203110                     1                   2  Metropolitan Police   \n",
       "4  -0.173445                     1                   2  Metropolitan Police   \n",
       "\n",
       "  Road_Surface_Conditions           Road_Type  Speed_limit   Time  \\\n",
       "0                     Dry      One way street           30  15:11   \n",
       "1             Wet or damp  Single carriageway           30  10:59   \n",
       "2                     Dry  Single carriageway           30  14:19   \n",
       "3            Frost or ice  Single carriageway           30  08:10   \n",
       "4                     Dry  Single carriageway           30  17:25   \n",
       "\n",
       "  Urban_or_Rural_Area  Weather_Conditions           Vehicle_Type  \n",
       "0               Urban  Fine no high winds                    Car  \n",
       "1               Urban  Fine no high winds  Taxi/Private hire car  \n",
       "2               Urban  Fine no high winds  Taxi/Private hire car  \n",
       "3               Urban               Other  Motorcycle over 500cc  \n",
       "4               Urban  Fine no high winds                    Car  "
      ]
     },
     "metadata": {},
     "output_type": "display_data"
    },
    {
     "name": "stdout",
     "output_type": "stream",
     "text": [
      "<class 'pandas.core.frame.DataFrame'>\n",
      "RangeIndex: 307973 entries, 0 to 307972\n",
      "Data columns (total 21 columns):\n",
      " #   Column                      Non-Null Count   Dtype  \n",
      "---  ------                      --------------   -----  \n",
      " 0   Accident_Index              307973 non-null  object \n",
      " 1   Accident Date               307973 non-null  object \n",
      " 2   Day_of_Week                 307973 non-null  object \n",
      " 3   Junction_Control            307973 non-null  object \n",
      " 4   Junction_Detail             307973 non-null  object \n",
      " 5   Accident_Severity           307973 non-null  object \n",
      " 6   Latitude                    307973 non-null  float64\n",
      " 7   Light_Conditions            307973 non-null  object \n",
      " 8   Local_Authority_(District)  307973 non-null  object \n",
      " 9   Carriageway_Hazards         307970 non-null  object \n",
      " 10  Longitude                   307973 non-null  float64\n",
      " 11  Number_of_Casualties        307973 non-null  int64  \n",
      " 12  Number_of_Vehicles          307973 non-null  int64  \n",
      " 13  Police_Force                307973 non-null  object \n",
      " 14  Road_Surface_Conditions     307656 non-null  object \n",
      " 15  Road_Type                   306439 non-null  object \n",
      " 16  Speed_limit                 307973 non-null  int64  \n",
      " 17  Time                        307956 non-null  object \n",
      " 18  Urban_or_Rural_Area         307973 non-null  object \n",
      " 19  Weather_Conditions          301916 non-null  object \n",
      " 20  Vehicle_Type                307973 non-null  object \n",
      "dtypes: float64(2), int64(3), object(16)\n",
      "memory usage: 49.3+ MB\n"
     ]
    },
    {
     "data": {
      "text/plain": [
       "None"
      ]
     },
     "metadata": {},
     "output_type": "display_data"
    },
    {
     "data": {
      "text/html": [
       "<div>\n",
       "<style scoped>\n",
       "    .dataframe tbody tr th:only-of-type {\n",
       "        vertical-align: middle;\n",
       "    }\n",
       "\n",
       "    .dataframe tbody tr th {\n",
       "        vertical-align: top;\n",
       "    }\n",
       "\n",
       "    .dataframe thead th {\n",
       "        text-align: right;\n",
       "    }\n",
       "</style>\n",
       "<table border=\"1\" class=\"dataframe\">\n",
       "  <thead>\n",
       "    <tr style=\"text-align: right;\">\n",
       "      <th></th>\n",
       "      <th>Latitude</th>\n",
       "      <th>Longitude</th>\n",
       "      <th>Number_of_Casualties</th>\n",
       "      <th>Number_of_Vehicles</th>\n",
       "      <th>Speed_limit</th>\n",
       "    </tr>\n",
       "  </thead>\n",
       "  <tbody>\n",
       "    <tr>\n",
       "      <th>count</th>\n",
       "      <td>307973.000000</td>\n",
       "      <td>307973.000000</td>\n",
       "      <td>307973.000000</td>\n",
       "      <td>307973.000000</td>\n",
       "      <td>307973.000000</td>\n",
       "    </tr>\n",
       "    <tr>\n",
       "      <th>mean</th>\n",
       "      <td>52.487005</td>\n",
       "      <td>-1.368884</td>\n",
       "      <td>1.356882</td>\n",
       "      <td>1.829063</td>\n",
       "      <td>38.866037</td>\n",
       "    </tr>\n",
       "    <tr>\n",
       "      <th>std</th>\n",
       "      <td>1.339011</td>\n",
       "      <td>1.356092</td>\n",
       "      <td>0.815857</td>\n",
       "      <td>0.710477</td>\n",
       "      <td>14.032933</td>\n",
       "    </tr>\n",
       "    <tr>\n",
       "      <th>min</th>\n",
       "      <td>49.914488</td>\n",
       "      <td>-7.516225</td>\n",
       "      <td>1.000000</td>\n",
       "      <td>1.000000</td>\n",
       "      <td>10.000000</td>\n",
       "    </tr>\n",
       "    <tr>\n",
       "      <th>25%</th>\n",
       "      <td>51.485248</td>\n",
       "      <td>-2.247937</td>\n",
       "      <td>1.000000</td>\n",
       "      <td>1.000000</td>\n",
       "      <td>30.000000</td>\n",
       "    </tr>\n",
       "    <tr>\n",
       "      <th>50%</th>\n",
       "      <td>52.225943</td>\n",
       "      <td>-1.349258</td>\n",
       "      <td>1.000000</td>\n",
       "      <td>2.000000</td>\n",
       "      <td>30.000000</td>\n",
       "    </tr>\n",
       "    <tr>\n",
       "      <th>75%</th>\n",
       "      <td>53.415517</td>\n",
       "      <td>-0.206810</td>\n",
       "      <td>1.000000</td>\n",
       "      <td>2.000000</td>\n",
       "      <td>50.000000</td>\n",
       "    </tr>\n",
       "    <tr>\n",
       "      <th>max</th>\n",
       "      <td>60.598055</td>\n",
       "      <td>1.759398</td>\n",
       "      <td>48.000000</td>\n",
       "      <td>32.000000</td>\n",
       "      <td>70.000000</td>\n",
       "    </tr>\n",
       "  </tbody>\n",
       "</table>\n",
       "</div>"
      ],
      "text/plain": [
       "            Latitude      Longitude  Number_of_Casualties  Number_of_Vehicles  \\\n",
       "count  307973.000000  307973.000000         307973.000000       307973.000000   \n",
       "mean       52.487005      -1.368884              1.356882            1.829063   \n",
       "std         1.339011       1.356092              0.815857            0.710477   \n",
       "min        49.914488      -7.516225              1.000000            1.000000   \n",
       "25%        51.485248      -2.247937              1.000000            1.000000   \n",
       "50%        52.225943      -1.349258              1.000000            2.000000   \n",
       "75%        53.415517      -0.206810              1.000000            2.000000   \n",
       "max        60.598055       1.759398             48.000000           32.000000   \n",
       "\n",
       "         Speed_limit  \n",
       "count  307973.000000  \n",
       "mean       38.866037  \n",
       "std        14.032933  \n",
       "min        10.000000  \n",
       "25%        30.000000  \n",
       "50%        30.000000  \n",
       "75%        50.000000  \n",
       "max        70.000000  "
      ]
     },
     "metadata": {},
     "output_type": "display_data"
    }
   ],
   "source": [
    "import pandas as pd\n",
    "import numpy as np\n",
    "import matplotlib.pyplot as plt\n",
    "import seaborn as sns\n",
    "pd.set_option('display.max_columns', None)\n",
    "import json\n",
    "\n",
    "# 读取 JSON 配置文件\n",
    "with open('base_config.json', 'r') as file:\n",
    "    config = json.load(file)\n",
    "\n",
    "# 获取 DATA_PATH 变量\n",
    "DATA_PATH = config['data_path']\n",
    "\n",
    "\n",
    "df_ta = pd.read_csv(DATA_PATH)\n",
    "display(df_ta.head())\n",
    "display(df_ta.info())\n",
    "display(df_ta.describe())"
   ]
  },
  {
   "cell_type": "code",
   "execution_count": 2,
   "metadata": {},
   "outputs": [
    {
     "data": {
      "text/plain": [
       "Metropolitan Police      46789\n",
       "West Midlands            13509\n",
       "West Yorkshire           12016\n",
       "Greater Manchester       11954\n",
       "Thames Valley            11483\n",
       "Kent                      9995\n",
       "Hampshire                 9492\n",
       "Lancashire                9143\n",
       "Devon and Cornwall        8804\n",
       "Sussex                    8548\n",
       "Essex                     8239\n",
       "Avon and Somerset         7929\n",
       "Surrey                    7897\n",
       "Northumbria               7557\n",
       "South Yorkshire           7258\n",
       "Staffordshire             6479\n",
       "Merseyside                6373\n",
       "Cheshire                  6288\n",
       "Nottinghamshire           6223\n",
       "West Mercia               5995\n",
       "Derbyshire                5818\n",
       "South Wales               5685\n",
       "Hertfordshire             5493\n",
       "Leicestershire            5326\n",
       "Cambridgeshire            5219\n",
       "Humberside                5024\n",
       "Lincolnshire              4780\n",
       "Strathclyde               4635\n",
       "North Yorkshire           4451\n",
       "Dorset                    3998\n",
       "Suffolk                   3759\n",
       "Norfolk                   3758\n",
       "North Wales               3419\n",
       "Bedfordshire              3184\n",
       "Durham                    3098\n",
       "Warwickshire              3071\n",
       "Dyfed-Powys               2996\n",
       "Northamptonshire          2803\n",
       "Cumbria                   2755\n",
       "Wiltshire                 2664\n",
       "Gloucestershire           2400\n",
       "Lothian and Borders       2344\n",
       "Cleveland                 1961\n",
       "Gwent                     1876\n",
       "Grampian                  1329\n",
       "Northern                  1009\n",
       "Tayside                    909\n",
       "City of London             635\n",
       "Central                    628\n",
       "Fife                       587\n",
       "Dumfries and Galloway      388\n",
       "Name: Police_Force, dtype: int64"
      ]
     },
     "execution_count": 2,
     "metadata": {},
     "output_type": "execute_result"
    }
   ],
   "source": [
    "df_ta[\"Police_Force\"].value_counts()"
   ]
  },
  {
   "cell_type": "code",
   "execution_count": 3,
   "metadata": {},
   "outputs": [
    {
     "data": {
      "text/plain": [
       "Birmingham            6165\n",
       "Leeds                 4140\n",
       "Manchester            3132\n",
       "Bradford              3006\n",
       "Westminster           2811\n",
       "                      ... \n",
       "Chester-le-Street       25\n",
       "Alnwick                 20\n",
       "South Shropshire        18\n",
       "Teesdale                15\n",
       "Berwick-upon-Tweed      13\n",
       "Name: Local_Authority_(District), Length: 422, dtype: int64"
      ]
     },
     "execution_count": 3,
     "metadata": {},
     "output_type": "execute_result"
    }
   ],
   "source": [
    "df_ta[\"Local_Authority_(District)\"].value_counts()"
   ]
  },
  {
   "cell_type": "code",
   "execution_count": 4,
   "metadata": {},
   "outputs": [
    {
     "data": {
      "application/vnd.plotly.v1+json": {
       "config": {
        "plotlyServerURL": "https://plot.ly"
       },
       "data": [
        {
         "geo": "geo",
         "hovertemplate": "Police_Force=Metropolitan Police<br>Latitude=%{lat}<br>Longitude=%{lon}<extra></extra>",
         "lat": [
          51.514399,
          51.507804,
          51.518021,
          51.527806,
          51.565364,
          51.545757,
          51.476978,
          51.493122,
          51.565367,
          51.525316,
          51.532137,
          51.530032,
          51.5767,
          51.526642,
          51.551049,
          51.447218,
          51.43559,
          51.489248,
          51.48858,
          51.445726,
          51.476012,
          51.484022,
          51.417601,
          51.597082,
          51.56423,
          51.585209,
          51.481258,
          51.453262,
          51.478062,
          51.432666,
          51.644593,
          51.411215,
          51.454106,
          51.440724,
          51.474258,
          51.400974,
          51.463554,
          51.460718,
          51.508703,
          51.508144,
          51.557677,
          51.57063,
          51.580178,
          51.377255,
          51.352063,
          51.344337
         ],
         "legendgroup": "Metropolitan Police",
         "lon": [
          -0.199248,
          -0.20311,
          -0.189159,
          -0.182283,
          -0.134469,
          -0.084071,
          -0.216131,
          -0.219246,
          -0.073435,
          -0.033463,
          -0.059699,
          -0.014517,
          0.04337,
          0.072269,
          0.1305,
          -0.129935,
          -0.128252,
          -0.109633,
          -0.09612,
          -0.017313,
          -0.048257,
          -0.032504,
          0.090057,
          -0.336034,
          -0.365945,
          -0.310629,
          0.065457,
          0.151996,
          0.187152,
          0.102542,
          -0.157525,
          -0.311443,
          -0.336344,
          -0.389063,
          -0.362539,
          -0.168483,
          -0.16785,
          -0.217197,
          -0.337238,
          -0.342158,
          -0.386232,
          -0.115061,
          -0.099366,
          -0.085512,
          -0.192264,
          -0.204486
         ],
         "marker": {
          "color": "#636efa",
          "symbol": "circle"
         },
         "mode": "markers",
         "name": "Metropolitan Police",
         "showlegend": true,
         "type": "scattergeo"
        },
        {
         "geo": "geo",
         "hovertemplate": "Police_Force=Cumbria<br>Latitude=%{lat}<br>Longitude=%{lon}<extra></extra>",
         "lat": [
          54.53769,
          54.118163,
          54.802714,
          54.710033,
          54.210423,
          54.257741
         ],
         "legendgroup": "Cumbria",
         "lon": [
          -3.537215,
          -3.200954,
          -2.918268,
          -3.505077,
          -3.267112,
          -3.078204
         ],
         "marker": {
          "color": "#EF553B",
          "symbol": "circle"
         },
         "mode": "markers",
         "name": "Cumbria",
         "showlegend": true,
         "type": "scattergeo"
        },
        {
         "geo": "geo",
         "hovertemplate": "Police_Force=Lancashire<br>Latitude=%{lat}<br>Longitude=%{lon}<extra></extra>",
         "lat": [
          53.807627,
          54.048672,
          54.022387,
          54.085066,
          53.864354,
          53.89279,
          53.583598,
          53.680605,
          53.738002,
          53.756354,
          53.791964,
          53.775367,
          53.657603,
          53.757066,
          53.831732,
          53.6917,
          53.734826,
          53.732077
         ],
         "legendgroup": "Lancashire",
         "lon": [
          -3.035184,
          -2.803198,
          -2.873365,
          -2.830653,
          -2.863683,
          -2.954202,
          -2.72079,
          -2.903523,
          -2.693714,
          -2.706454,
          -2.703712,
          -2.478402,
          -2.504456,
          -2.36641,
          -2.232743,
          -2.23091,
          -2.281324,
          -2.644048
         ],
         "marker": {
          "color": "#00cc96",
          "symbol": "circle"
         },
         "mode": "markers",
         "name": "Lancashire",
         "showlegend": true,
         "type": "scattergeo"
        },
        {
         "geo": "geo",
         "hovertemplate": "Police_Force=Merseyside<br>Latitude=%{lat}<br>Longitude=%{lon}<extra></extra>",
         "lat": [
          53.489125,
          53.455221,
          53.474413,
          53.460967,
          53.380331,
          53.346788,
          53.381597,
          53.366613
         ],
         "legendgroup": "Merseyside",
         "lon": [
          -2.894023,
          -2.738343,
          -2.636675,
          -2.753956,
          -2.873401,
          -2.837715,
          -2.93176,
          -2.892959
         ],
         "marker": {
          "color": "#ab63fa",
          "symbol": "circle"
         },
         "mode": "markers",
         "name": "Merseyside",
         "showlegend": true,
         "type": "scattergeo"
        },
        {
         "geo": "geo",
         "hovertemplate": "Police_Force=Greater Manchester<br>Latitude=%{lat}<br>Longitude=%{lon}<extra></extra>",
         "lat": [
          53.471533,
          53.494105,
          53.50244,
          53.490082,
          53.495494,
          53.452624,
          53.468914,
          53.581037,
          53.558618,
          53.589035,
          53.513365,
          53.451093,
          53.461552,
          53.542745,
          53.618752,
          53.562159,
          53.485473,
          53.591097,
          53.472107
         ],
         "legendgroup": "Greater Manchester",
         "lon": [
          -2.250202,
          -2.321029,
          -2.416224,
          -2.108635,
          -2.085134,
          -2.077217,
          -2.030397,
          -2.455512,
          -2.416624,
          -2.406197,
          -2.595938,
          -2.368138,
          -2.326206,
          -2.280501,
          -2.295367,
          -2.119992,
          -2.383054,
          -2.562887,
          -2.402067
         ],
         "marker": {
          "color": "#FFA15A",
          "symbol": "circle"
         },
         "mode": "markers",
         "name": "Greater Manchester",
         "showlegend": true,
         "type": "scattergeo"
        },
        {
         "geo": "geo",
         "hovertemplate": "Police_Force=Cheshire<br>Latitude=%{lat}<br>Longitude=%{lon}<extra></extra>",
         "lat": [
          53.357728,
          53.249731,
          53.383979,
          53.256291,
          53.393507,
          53.377812,
          53.181235,
          53.199937,
          52.97892,
          53.388277,
          53.152058,
          53.226526,
          53.201703,
          53.364887
         ],
         "legendgroup": "Cheshire",
         "lon": [
          -2.358618,
          -2.871638,
          -2.620741,
          -2.834297,
          -2.62088,
          -2.559169,
          -2.833588,
          -2.870778,
          -2.586324,
          -2.588626,
          -2.670925,
          -2.955353,
          -2.798204,
          -2.722954
         ],
         "marker": {
          "color": "#19d3f3",
          "symbol": "circle"
         },
         "mode": "markers",
         "name": "Cheshire",
         "showlegend": true,
         "type": "scattergeo"
        },
        {
         "geo": "geo",
         "hovertemplate": "Police_Force=Northumbria<br>Latitude=%{lat}<br>Longitude=%{lon}<extra></extra>",
         "lat": [
          55.05835,
          54.976483,
          54.960764,
          54.949856,
          54.993009,
          54.917948,
          55.033602,
          54.964491,
          55.770376,
          54.901199,
          55.057981
         ],
         "legendgroup": "Northumbria",
         "lon": [
          -1.488035,
          -2.330245,
          -1.67247,
          -1.574195,
          -1.579365,
          -1.384045,
          -1.62666,
          -1.624958,
          -2.005225,
          -1.538686,
          -1.635356
         ],
         "marker": {
          "color": "#FF6692",
          "symbol": "circle"
         },
         "mode": "markers",
         "name": "Northumbria",
         "showlegend": true,
         "type": "scattergeo"
        },
        {
         "geo": "geo",
         "hovertemplate": "Police_Force=Durham<br>Latitude=%{lat}<br>Longitude=%{lon}<extra></extra>",
         "lat": [
          54.789793,
          54.795099,
          54.859846,
          54.861428,
          54.656577,
          54.54743,
          54.555387,
          54.704764
         ],
         "legendgroup": "Durham",
         "lon": [
          -1.59734,
          -1.598531,
          -1.707716,
          -1.83109,
          -1.676936,
          -1.918187,
          -1.473017,
          -1.567145
         ],
         "marker": {
          "color": "#B6E880",
          "symbol": "circle"
         },
         "mode": "markers",
         "name": "Durham",
         "showlegend": true,
         "type": "scattergeo"
        },
        {
         "geo": "geo",
         "hovertemplate": "Police_Force=North Yorkshire<br>Latitude=%{lat}<br>Longitude=%{lon}<extra></extra>",
         "lat": [
          53.79601,
          54.246678,
          53.977543,
          53.964917,
          53.95581,
          54.148977
         ],
         "legendgroup": "North Yorkshire",
         "lon": [
          -1.20992,
          -1.060448,
          -2.069494,
          -1.07396,
          -1.047187,
          -1.433944
         ],
         "marker": {
          "color": "#FF97FF",
          "symbol": "circle"
         },
         "mode": "markers",
         "name": "North Yorkshire",
         "showlegend": true,
         "type": "scattergeo"
        },
        {
         "geo": "geo",
         "hovertemplate": "Police_Force=West Yorkshire<br>Latitude=%{lat}<br>Longitude=%{lon}<extra></extra>",
         "lat": [
          53.769828,
          53.865899,
          53.802019,
          53.912744,
          53.729075,
          53.663479,
          53.801252,
          53.770369,
          53.79734,
          53.798171,
          53.65128,
          53.685073,
          53.706723,
          53.799405,
          53.70426,
          53.607838,
          53.787511,
          53.676144,
          53.758114
         ],
         "legendgroup": "West Yorkshire",
         "lon": [
          -1.578337,
          -1.909791,
          -1.702672,
          -1.937701,
          -1.683331,
          -1.823659,
          -1.762044,
          -1.698192,
          -1.784687,
          -1.58701,
          -1.784222,
          -1.699105,
          -1.915282,
          -1.509111,
          -1.648676,
          -1.274347,
          -1.523973,
          -1.501613,
          -1.764563
         ],
         "marker": {
          "color": "#FECB52",
          "symbol": "circle"
         },
         "mode": "markers",
         "name": "West Yorkshire",
         "showlegend": true,
         "type": "scattergeo"
        },
        {
         "geo": "geo",
         "hovertemplate": "Police_Force=South Yorkshire<br>Latitude=%{lat}<br>Longitude=%{lon}<extra></extra>",
         "lat": [
          53.530768,
          53.513184,
          53.5748,
          53.508222,
          53.523031,
          53.540119,
          53.463507,
          53.421491,
          53.390884,
          53.389173,
          53.37696
         ],
         "legendgroup": "South Yorkshire",
         "lon": [
          -1.121478,
          -1.032715,
          -1.144427,
          -1.064343,
          -1.395714,
          -1.380079,
          -1.341279,
          -1.350657,
          -1.468863,
          -1.468283,
          -1.395228
         ],
         "marker": {
          "color": "#636efa",
          "symbol": "circle"
         },
         "mode": "markers",
         "name": "South Yorkshire",
         "showlegend": true,
         "type": "scattergeo"
        },
        {
         "geo": "geo",
         "hovertemplate": "Police_Force=Humberside<br>Latitude=%{lat}<br>Longitude=%{lon}<extra></extra>",
         "lat": [
          53.597894,
          53.586198,
          53.578739,
          53.551652,
          53.689212,
          53.756665
         ],
         "legendgroup": "Humberside",
         "lon": [
          -0.14418,
          -0.653978,
          -0.654214,
          -0.858854,
          -0.960841,
          -0.341213
         ],
         "marker": {
          "color": "#EF553B",
          "symbol": "circle"
         },
         "mode": "markers",
         "name": "Humberside",
         "showlegend": true,
         "type": "scattergeo"
        },
        {
         "geo": "geo",
         "hovertemplate": "Police_Force=Cleveland<br>Latitude=%{lat}<br>Longitude=%{lon}<extra></extra>",
         "lat": [
          54.587698,
          54.5935
         ],
         "legendgroup": "Cleveland",
         "lon": [
          -1.076138,
          -1.059291
         ],
         "marker": {
          "color": "#00cc96",
          "symbol": "circle"
         },
         "mode": "markers",
         "name": "Cleveland",
         "showlegend": true,
         "type": "scattergeo"
        },
        {
         "geo": "geo",
         "hovertemplate": "Police_Force=West Midlands<br>Latitude=%{lat}<br>Longitude=%{lon}<extra></extra>",
         "lat": [
          52.470903,
          52.544319,
          52.44557,
          52.423399,
          52.429975,
          52.484899,
          52.48911,
          52.486717,
          52.475961,
          52.499813,
          52.513149,
          52.510197,
          52.558928,
          52.46811,
          52.463318,
          52.463057,
          52.477117,
          52.381465
         ],
         "legendgroup": "West Midlands",
         "lon": [
          -1.844215,
          -1.895714,
          -1.859606,
          -1.893793,
          -1.909368,
          -1.902039,
          -1.885388,
          -1.92869,
          -2.13645,
          -2.109861,
          -2.069519,
          -1.96652,
          -1.996427,
          -2.066798,
          -1.72708,
          -1.730614,
          -1.746871,
          -1.539678
         ],
         "marker": {
          "color": "#ab63fa",
          "symbol": "circle"
         },
         "mode": "markers",
         "name": "West Midlands",
         "showlegend": true,
         "type": "scattergeo"
        },
        {
         "geo": "geo",
         "hovertemplate": "Police_Force=Staffordshire<br>Latitude=%{lat}<br>Longitude=%{lon}<extra></extra>",
         "lat": [
          52.994801,
          52.985487,
          52.667076,
          52.688471,
          52.785006,
          52.677582,
          52.621886,
          53.053684,
          52.702427,
          52.74552,
          52.991768,
          53.033406,
          53.020008,
          52.860654,
          52.656578
         ],
         "legendgroup": "Staffordshire",
         "lon": [
          -2.094277,
          -2.14803,
          -2.016677,
          -2.022898,
          -1.936507,
          -1.943171,
          -2.239273,
          -2.225993,
          -1.87077,
          -1.904715,
          -2.157586,
          -2.143273,
          -2.146956,
          -2.239545,
          -1.870019
         ],
         "marker": {
          "color": "#FFA15A",
          "symbol": "circle"
         },
         "mode": "markers",
         "name": "Staffordshire",
         "showlegend": true,
         "type": "scattergeo"
        },
        {
         "geo": "geo",
         "hovertemplate": "Police_Force=West Mercia<br>Latitude=%{lat}<br>Longitude=%{lon}<extra></extra>",
         "lat": [
          52.215345,
          52.360696,
          52.833405,
          52.955929,
          52.746465,
          52.766789
         ],
         "legendgroup": "West Mercia",
         "lon": [
          -2.190831,
          -2.205553,
          -2.562097,
          -2.458592,
          -2.323803,
          -2.523297
         ],
         "marker": {
          "color": "#19d3f3",
          "symbol": "circle"
         },
         "mode": "markers",
         "name": "West Mercia",
         "showlegend": true,
         "type": "scattergeo"
        },
        {
         "geo": "geo",
         "hovertemplate": "Police_Force=Warwickshire<br>Latitude=%{lat}<br>Longitude=%{lon}<extra></extra>",
         "lat": [
          52.332006,
          52.28211,
          52.216811,
          52.406172,
          52.384833
         ],
         "legendgroup": "Warwickshire",
         "lon": [
          -1.56015,
          -1.585271,
          -1.661262,
          -1.212786,
          -1.249311
         ],
         "marker": {
          "color": "#FF6692",
          "symbol": "circle"
         },
         "mode": "markers",
         "name": "Warwickshire",
         "showlegend": true,
         "type": "scattergeo"
        },
        {
         "geo": "geo",
         "hovertemplate": "Police_Force=Derbyshire<br>Latitude=%{lat}<br>Longitude=%{lon}<extra></extra>",
         "lat": [
          53.294832,
          53.437957,
          53.298742,
          53.304771,
          53.261349,
          53.325209,
          53.233275,
          53.141008,
          53.244605,
          52.859148,
          52.881222,
          53.202808
         ],
         "legendgroup": "Derbyshire",
         "lon": [
          -1.620688,
          -1.901818,
          -1.555533,
          -1.393697,
          -1.429092,
          -1.316686,
          -1.423323,
          -1.494076,
          -1.549351,
          -1.601625,
          -1.496213,
          -1.322078
         ],
         "marker": {
          "color": "#B6E880",
          "symbol": "circle"
         },
         "mode": "markers",
         "name": "Derbyshire",
         "showlegend": true,
         "type": "scattergeo"
        },
        {
         "geo": "geo",
         "hovertemplate": "Police_Force=Nottinghamshire<br>Latitude=%{lat}<br>Longitude=%{lon}<extra></extra>",
         "lat": [
          53.17233,
          53.227771,
          53.003441,
          52.977224,
          52.831797,
          52.937668,
          52.953366,
          52.979396
         ],
         "legendgroup": "Nottinghamshire",
         "lon": [
          -0.899915,
          -1.201544,
          -0.827464,
          -1.18666,
          -1.231238,
          -1.064347,
          -0.912476,
          -1.202109
         ],
         "marker": {
          "color": "#FF97FF",
          "symbol": "circle"
         },
         "mode": "markers",
         "name": "Nottinghamshire",
         "showlegend": true,
         "type": "scattergeo"
        },
        {
         "geo": "geo",
         "hovertemplate": "Police_Force=Lincolnshire<br>Latitude=%{lat}<br>Longitude=%{lon}<extra></extra>",
         "lat": [
          52.900013,
          52.840475,
          52.673373,
          52.8935,
          52.994556,
          53.224239,
          53.176405,
          53.277973,
          53.13843
         ],
         "legendgroup": "Lincolnshire",
         "lon": [
          -0.653783,
          -0.162685,
          -0.171037,
          -0.674202,
          -0.431067,
          -0.543272,
          -0.681505,
          -0.476501,
          -0.406394
         ],
         "marker": {
          "color": "#FECB52",
          "symbol": "circle"
         },
         "mode": "markers",
         "name": "Lincolnshire",
         "showlegend": true,
         "type": "scattergeo"
        },
        {
         "geo": "geo",
         "hovertemplate": "Police_Force=Leicestershire<br>Latitude=%{lat}<br>Longitude=%{lon}<extra></extra>",
         "lat": [
          52.644928,
          52.656852,
          52.723423,
          52.409362,
          52.547837,
          52.724146,
          52.74677,
          52.634019,
          52.642098,
          52.594537,
          52.650156,
          52.481967,
          52.616516
         ],
         "legendgroup": "Leicestershire",
         "lon": [
          -1.169339,
          -0.52761,
          -1.252246,
          -1.179504,
          -1.391794,
          -1.327896,
          -1.406509,
          -1.152404,
          -1.125941,
          -1.022069,
          -1.062809,
          -0.917659,
          -1.119213
         ],
         "marker": {
          "color": "#636efa",
          "symbol": "circle"
         },
         "mode": "markers",
         "name": "Leicestershire",
         "showlegend": true,
         "type": "scattergeo"
        },
        {
         "geo": "geo",
         "hovertemplate": "Police_Force=Northamptonshire<br>Latitude=%{lat}<br>Longitude=%{lon}<extra></extra>",
         "lat": [
          52.396226,
          52.351967,
          52.300714
         ],
         "legendgroup": "Northamptonshire",
         "lon": [
          -0.714143,
          -1.136668,
          -1.053633
         ],
         "marker": {
          "color": "#EF553B",
          "symbol": "circle"
         },
         "mode": "markers",
         "name": "Northamptonshire",
         "showlegend": true,
         "type": "scattergeo"
        },
        {
         "geo": "geo",
         "hovertemplate": "Police_Force=Cambridgeshire<br>Latitude=%{lat}<br>Longitude=%{lon}<extra></extra>",
         "lat": [
          52.182196,
          52.128722,
          52.217602,
          52.350376,
          52.378025,
          52.469919,
          52.612822,
          52.231841,
          52.574287,
          52.339942
         ],
         "legendgroup": "Cambridgeshire",
         "lon": [
          0.087547,
          0.38019,
          0.011177,
          -0.252237,
          -0.255259,
          -0.273858,
          -0.180061,
          0.076843,
          -0.242017,
          -0.209931
         ],
         "marker": {
          "color": "#00cc96",
          "symbol": "circle"
         },
         "mode": "markers",
         "name": "Cambridgeshire",
         "showlegend": true,
         "type": "scattergeo"
        },
        {
         "geo": "geo",
         "hovertemplate": "Police_Force=Norfolk<br>Latitude=%{lat}<br>Longitude=%{lon}<extra></extra>",
         "lat": [
          52.634612,
          52.739848,
          52.739141,
          52.673194,
          52.48134,
          52.863955,
          52.621193
         ],
         "legendgroup": "Norfolk",
         "lon": [
          1.511892,
          0.388326,
          0.821497,
          1.054694,
          0.661501,
          0.798836,
          1.287069
         ],
         "marker": {
          "color": "#ab63fa",
          "symbol": "circle"
         },
         "mode": "markers",
         "name": "Norfolk",
         "showlegend": true,
         "type": "scattergeo"
        },
        {
         "geo": "geo",
         "hovertemplate": "Police_Force=Suffolk<br>Latitude=%{lat}<br>Longitude=%{lon}<extra></extra>",
         "lat": [
          52.451648,
          52.493119
         ],
         "legendgroup": "Suffolk",
         "lon": [
          1.692374,
          1.726651
         ],
         "marker": {
          "color": "#FFA15A",
          "symbol": "circle"
         },
         "mode": "markers",
         "name": "Suffolk",
         "showlegend": true,
         "type": "scattergeo"
        },
        {
         "geo": "geo",
         "hovertemplate": "Police_Force=Bedfordshire<br>Latitude=%{lat}<br>Longitude=%{lon}<extra></extra>",
         "lat": [
          51.941192
         ],
         "legendgroup": "Bedfordshire",
         "lon": [
          -0.516244
         ],
         "marker": {
          "color": "#19d3f3",
          "symbol": "circle"
         },
         "mode": "markers",
         "name": "Bedfordshire",
         "showlegend": true,
         "type": "scattergeo"
        },
        {
         "geo": "geo",
         "hovertemplate": "Police_Force=Hertfordshire<br>Latitude=%{lat}<br>Longitude=%{lon}<extra></extra>",
         "lat": [
          51.834327,
          51.737415,
          51.771844,
          51.784683,
          51.777592,
          51.738021,
          51.728698,
          51.80438,
          52.008529,
          51.956492
         ],
         "legendgroup": "Hertfordshire",
         "lon": [
          -0.084038,
          -0.205312,
          -0.59413,
          -0.622871,
          -0.430148,
          -0.470625,
          -0.359441,
          -0.409491,
          -0.047171,
          -0.273275
         ],
         "marker": {
          "color": "#FF6692",
          "symbol": "circle"
         },
         "mode": "markers",
         "name": "Hertfordshire",
         "showlegend": true,
         "type": "scattergeo"
        },
        {
         "geo": "geo",
         "hovertemplate": "Police_Force=Essex<br>Latitude=%{lat}<br>Longitude=%{lon}<extra></extra>",
         "lat": [
          51.615445,
          51.653684,
          51.664716,
          51.720227,
          52.019158,
          51.568932,
          51.809562,
          51.51412,
          51.547889,
          51.652583,
          52.045998
         ],
         "legendgroup": "Essex",
         "lon": [
          0.273924,
          0.341621,
          0.369956,
          0.221553,
          0.152967,
          0.595438,
          0.518568,
          0.420793,
          0.639678,
          0.631301,
          0.208947
         ],
         "marker": {
          "color": "#B6E880",
          "symbol": "circle"
         },
         "mode": "markers",
         "name": "Essex",
         "showlegend": true,
         "type": "scattergeo"
        },
        {
         "geo": "geo",
         "hovertemplate": "Police_Force=Thames Valley<br>Latitude=%{lat}<br>Longitude=%{lon}<extra></extra>",
         "lat": [
          51.616188,
          51.82343,
          51.562573,
          51.612222,
          51.858087,
          51.739723,
          51.823797,
          51.377439,
          51.406037,
          51.409423,
          51.451567,
          51.439055,
          51.461937,
          51.434466,
          51.39983,
          51.408807
         ],
         "legendgroup": "Thames Valley",
         "lon": [
          -0.778485,
          -0.61458,
          -0.497583,
          -0.768915,
          -0.870544,
          -0.821213,
          -1.503016,
          -0.702374,
          -0.769284,
          -0.74935,
          -0.957888,
          -0.878464,
          -1.013216,
          -0.906774,
          -1.320747,
          -1.517305
         ],
         "marker": {
          "color": "#FF97FF",
          "symbol": "circle"
         },
         "mode": "markers",
         "name": "Thames Valley",
         "showlegend": true,
         "type": "scattergeo"
        },
        {
         "geo": "geo",
         "hovertemplate": "Police_Force=Hampshire<br>Latitude=%{lat}<br>Longitude=%{lon}<extra></extra>",
         "lat": [
          51.260096,
          50.747303,
          50.976126,
          50.920205,
          50.902919,
          50.969216,
          51.207765,
          51.002896,
          51.08323,
          50.898997,
          51.320844,
          50.919742,
          51.043887,
          51.051819
         ],
         "legendgroup": "Hampshire",
         "lon": [
          -0.736065,
          -1.663897,
          -1.354581,
          -1.390495,
          -1.337248,
          -1.390708,
          -1.500513,
          -1.349506,
          -1.355233,
          -1.312133,
          -1.214286,
          -1.085336,
          -1.285454,
          -1.366512
         ],
         "marker": {
          "color": "#FECB52",
          "symbol": "circle"
         },
         "mode": "markers",
         "name": "Hampshire",
         "showlegend": true,
         "type": "scattergeo"
        },
        {
         "geo": "geo",
         "hovertemplate": "Police_Force=Surrey<br>Latitude=%{lat}<br>Longitude=%{lon}<extra></extra>",
         "lat": [
          51.407693,
          51.377094,
          51.309944,
          51.266081,
          51.236701,
          51.204043,
          51.230697,
          51.257238,
          51.279805,
          51.345337,
          51.425402,
          51.443932,
          51.297335,
          51.218843
         ],
         "legendgroup": "Surrey",
         "lon": [
          -0.367506,
          -0.247606,
          -0.650045,
          -0.553858,
          -0.570681,
          -0.251749,
          -0.334245,
          -0.195557,
          -0.172017,
          -0.506278,
          -0.419521,
          -0.530547,
          -0.070765,
          -0.789174
         ],
         "marker": {
          "color": "#636efa",
          "symbol": "circle"
         },
         "mode": "markers",
         "name": "Surrey",
         "showlegend": true,
         "type": "scattergeo"
        },
        {
         "geo": "geo",
         "hovertemplate": "Police_Force=Kent<br>Latitude=%{lat}<br>Longitude=%{lon}<extra></extra>",
         "lat": [
          51.269068,
          51.437901,
          51.134495,
          51.313734,
          51.156914,
          51.152227,
          51.292611,
          51.306168,
          51.343991,
          51.29376,
          51.283301,
          51.247414
         ],
         "legendgroup": "Kent",
         "lon": [
          0.526025,
          0.242214,
          1.299251,
          0.870762,
          0.303931,
          1.191959,
          0.476538,
          0.544707,
          0.275824,
          0.425963,
          0.146478,
          0.279792
         ],
         "marker": {
          "color": "#EF553B",
          "symbol": "circle"
         },
         "mode": "markers",
         "name": "Kent",
         "showlegend": true,
         "type": "scattergeo"
        },
        {
         "geo": "geo",
         "hovertemplate": "Police_Force=Sussex<br>Latitude=%{lat}<br>Longitude=%{lon}<extra></extra>",
         "lat": [
          51.140432,
          50.859165,
          50.896034,
          51.054065,
          50.784279,
          50.8226,
          50.831289,
          50.845959,
          50.818448,
          50.852568,
          50.857208
         ],
         "legendgroup": "Sussex",
         "lon": [
          -0.139073,
          -0.783737,
          0.061779,
          -0.786057,
          -0.670774,
          0.286153,
          -0.136627,
          0.446976,
          -0.378772,
          -0.197297,
          0.468028
         ],
         "marker": {
          "color": "#00cc96",
          "symbol": "circle"
         },
         "mode": "markers",
         "name": "Sussex",
         "showlegend": true,
         "type": "scattergeo"
        },
        {
         "geo": "geo",
         "hovertemplate": "Police_Force=Devon and Cornwall<br>Latitude=%{lat}<br>Longitude=%{lon}<extra></extra>",
         "lat": [
          50.24934,
          50.673417,
          51.187647,
          51.015644,
          50.734582,
          50.72494,
          50.376019,
          50.449542,
          50.205471,
          50.257259,
          50.262781,
          50.525273,
          50.497135,
          50.887909
         ],
         "legendgroup": "Devon and Cornwall",
         "lon": [
          -5.221059,
          -4.392067,
          -4.124794,
          -3.741805,
          -3.503904,
          -3.526123,
          -4.15948,
          -3.560912,
          -5.121105,
          -5.194932,
          -5.083874,
          -3.593884,
          -4.132427,
          -3.454951
         ],
         "marker": {
          "color": "#ab63fa",
          "symbol": "circle"
         },
         "mode": "markers",
         "name": "Devon and Cornwall",
         "showlegend": true,
         "type": "scattergeo"
        },
        {
         "geo": "geo",
         "hovertemplate": "Police_Force=Avon and Somerset<br>Latitude=%{lat}<br>Longitude=%{lon}<extra></extra>",
         "lat": [
          51.381936,
          51.423144,
          51.191419,
          51.139976,
          51.488919,
          50.946312,
          51.371096,
          51.634146,
          51.383234,
          51.50419,
          51.394128,
          51.608209,
          51.506932,
          51.092662,
          51.506931
         ],
         "legendgroup": "Avon and Somerset",
         "lon": [
          -2.381044,
          -2.816312,
          -2.59169,
          -2.517274,
          -2.651129,
          -2.637825,
          -2.396182,
          -2.434736,
          -2.551912,
          -2.58579,
          -2.825138,
          -2.468858,
          -2.576748,
          -3.013826,
          -2.519257
         ],
         "marker": {
          "color": "#FFA15A",
          "symbol": "circle"
         },
         "mode": "markers",
         "name": "Avon and Somerset",
         "showlegend": true,
         "type": "scattergeo"
        },
        {
         "geo": "geo",
         "hovertemplate": "Police_Force=Gloucestershire<br>Latitude=%{lat}<br>Longitude=%{lon}<extra></extra>",
         "lat": [
          51.895734,
          51.650765,
          52.027669
         ],
         "legendgroup": "Gloucestershire",
         "lon": [
          -2.111142,
          -2.438798,
          -1.940646
         ],
         "marker": {
          "color": "#19d3f3",
          "symbol": "circle"
         },
         "mode": "markers",
         "name": "Gloucestershire",
         "showlegend": true,
         "type": "scattergeo"
        },
        {
         "geo": "geo",
         "hovertemplate": "Police_Force=Wiltshire<br>Latitude=%{lat}<br>Longitude=%{lon}<extra></extra>",
         "lat": [
          51.246391,
          51.462891,
          51.581913,
          51.071897,
          51.509724
         ],
         "legendgroup": "Wiltshire",
         "lon": [
          -1.780191,
          -1.657228,
          -1.864304,
          -1.804854,
          -2.190174
         ],
         "marker": {
          "color": "#FF6692",
          "symbol": "circle"
         },
         "mode": "markers",
         "name": "Wiltshire",
         "showlegend": true,
         "type": "scattergeo"
        },
        {
         "geo": "geo",
         "hovertemplate": "Police_Force=Dorset<br>Latitude=%{lat}<br>Longitude=%{lon}<extra></extra>",
         "lat": [
          50.717803,
          50.735327,
          50.60084,
          51.013239,
          50.644674
         ],
         "legendgroup": "Dorset",
         "lon": [
          -1.905202,
          -1.767996,
          -2.480961,
          -2.210659,
          -2.534163
         ],
         "marker": {
          "color": "#B6E880",
          "symbol": "circle"
         },
         "mode": "markers",
         "name": "Dorset",
         "showlegend": true,
         "type": "scattergeo"
        },
        {
         "geo": "geo",
         "hovertemplate": "Police_Force=North Wales<br>Latitude=%{lat}<br>Longitude=%{lon}<extra></extra>",
         "lat": [
          53.203262,
          52.9748,
          53.019529,
          53.131665,
          53.284319,
          53.205529,
          53.175928
         ],
         "legendgroup": "North Wales",
         "lon": [
          -3.018316,
          -3.944521,
          -2.94019,
          -4.27076,
          -3.581562,
          -3.793682,
          -2.942558
         ],
         "marker": {
          "color": "#FF97FF",
          "symbol": "circle"
         },
         "mode": "markers",
         "name": "North Wales",
         "showlegend": true,
         "type": "scattergeo"
        },
        {
         "geo": "geo",
         "hovertemplate": "Police_Force=Gwent<br>Latitude=%{lat}<br>Longitude=%{lon}<extra></extra>",
         "lat": [
          51.672584,
          51.594857
         ],
         "legendgroup": "Gwent",
         "lon": [
          -2.877477,
          -2.962744
         ],
         "marker": {
          "color": "#FECB52",
          "symbol": "circle"
         },
         "mode": "markers",
         "name": "Gwent",
         "showlegend": true,
         "type": "scattergeo"
        },
        {
         "geo": "geo",
         "hovertemplate": "Police_Force=South Wales<br>Latitude=%{lat}<br>Longitude=%{lon}<extra></extra>",
         "lat": [
          51.512883,
          51.592225,
          51.504888,
          51.520333
         ],
         "legendgroup": "South Wales",
         "lon": [
          -3.220271,
          -3.579413,
          -3.581002,
          -3.56251
         ],
         "marker": {
          "color": "#636efa",
          "symbol": "circle"
         },
         "mode": "markers",
         "name": "South Wales",
         "showlegend": true,
         "type": "scattergeo"
        },
        {
         "geo": "geo",
         "hovertemplate": "Police_Force=Dyfed-Powys<br>Latitude=%{lat}<br>Longitude=%{lon}<extra></extra>",
         "lat": [
          51.850816,
          51.667603,
          52.317445,
          51.689897,
          51.789934
         ],
         "legendgroup": "Dyfed-Powys",
         "lon": [
          -4.336823,
          -4.145013,
          -4.132287,
          -4.94235,
          -3.746681
         ],
         "marker": {
          "color": "#EF553B",
          "symbol": "circle"
         },
         "mode": "markers",
         "name": "Dyfed-Powys",
         "showlegend": true,
         "type": "scattergeo"
        },
        {
         "geo": "geo",
         "hovertemplate": "Police_Force=Northern<br>Latitude=%{lat}<br>Longitude=%{lon}<extra></extra>",
         "lat": [
          57.737435,
          57.482359,
          56.83167
         ],
         "legendgroup": "Northern",
         "lon": [
          -4.269381,
          -4.20732,
          -5.82806
         ],
         "marker": {
          "color": "#00cc96",
          "symbol": "circle"
         },
         "mode": "markers",
         "name": "Northern",
         "showlegend": true,
         "type": "scattergeo"
        },
        {
         "geo": "geo",
         "hovertemplate": "Police_Force=Grampian<br>Latitude=%{lat}<br>Longitude=%{lon}<extra></extra>",
         "lat": [
          57.464015,
          57.130012,
          57.612415,
          57.634475,
          57.075563,
          57.221795
         ],
         "legendgroup": "Grampian",
         "lon": [
          -2.827275,
          -2.093461,
          -3.314888,
          -3.229595,
          -2.786939,
          -2.466957
         ],
         "marker": {
          "color": "#ab63fa",
          "symbol": "circle"
         },
         "mode": "markers",
         "name": "Grampian",
         "showlegend": true,
         "type": "scattergeo"
        },
        {
         "geo": "geo",
         "hovertemplate": "Police_Force=Tayside<br>Latitude=%{lat}<br>Longitude=%{lon}<extra></extra>",
         "lat": [
          56.289604,
          56.712095
         ],
         "legendgroup": "Tayside",
         "lon": [
          -3.391912,
          -2.459317
         ],
         "marker": {
          "color": "#FFA15A",
          "symbol": "circle"
         },
         "mode": "markers",
         "name": "Tayside",
         "showlegend": true,
         "type": "scattergeo"
        },
        {
         "geo": "geo",
         "hovertemplate": "Police_Force=Fife<br>Latitude=%{lat}<br>Longitude=%{lon}<extra></extra>",
         "lat": [
          56.117611,
          56.064441,
          56.215915
         ],
         "legendgroup": "Fife",
         "lon": [
          -3.485259,
          -3.238586,
          -3.157198
         ],
         "marker": {
          "color": "#19d3f3",
          "symbol": "circle"
         },
         "mode": "markers",
         "name": "Fife",
         "showlegend": true,
         "type": "scattergeo"
        },
        {
         "geo": "geo",
         "hovertemplate": "Police_Force=Lothian and Borders<br>Latitude=%{lat}<br>Longitude=%{lon}<extra></extra>",
         "lat": [
          55.930211,
          55.952744,
          55.952566,
          55.857083,
          55.9558,
          55.963434,
          55.850049,
          55.857846,
          55.900971,
          55.97878,
          55.969127
         ],
         "legendgroup": "Lothian and Borders",
         "lon": [
          -3.209811,
          -2.94498,
          -3.40638,
          -2.210513,
          -3.193471,
          -3.221421,
          -3.575833,
          -2.235439,
          -3.204422,
          -3.285209,
          -3.143091
         ],
         "marker": {
          "color": "#FF6692",
          "symbol": "circle"
         },
         "mode": "markers",
         "name": "Lothian and Borders",
         "showlegend": true,
         "type": "scattergeo"
        },
        {
         "geo": "geo",
         "hovertemplate": "Police_Force=Central<br>Latitude=%{lat}<br>Longitude=%{lon}<extra></extra>",
         "lat": [
          56.079196
         ],
         "legendgroup": "Central",
         "lon": [
          -3.811591
         ],
         "marker": {
          "color": "#B6E880",
          "symbol": "circle"
         },
         "mode": "markers",
         "name": "Central",
         "showlegend": true,
         "type": "scattergeo"
        },
        {
         "geo": "geo",
         "hovertemplate": "Police_Force=Strathclyde<br>Latitude=%{lat}<br>Longitude=%{lon}<extra></extra>",
         "lat": [
          55.850265,
          55.824465,
          55.84702,
          55.839841,
          55.893634,
          55.882892,
          55.882802,
          55.984099,
          55.779309,
          55.774097,
          55.599426,
          55.453684,
          55.490268
         ],
         "legendgroup": "Strathclyde",
         "lon": [
          -4.112927,
          -4.235262,
          -4.416123,
          -4.415517,
          -4.390229,
          -3.971916,
          -3.971911,
          -3.993416,
          -3.96955,
          -4.078667,
          -4.464217,
          -4.600635,
          -4.570907
         ],
         "marker": {
          "color": "#FF97FF",
          "symbol": "circle"
         },
         "mode": "markers",
         "name": "Strathclyde",
         "showlegend": true,
         "type": "scattergeo"
        },
        {
         "geo": "geo",
         "hovertemplate": "Police_Force=Dumfries and Galloway<br>Latitude=%{lat}<br>Longitude=%{lon}<extra></extra>",
         "lat": [
          55.397165
         ],
         "legendgroup": "Dumfries and Galloway",
         "lon": [
          -3.486232
         ],
         "marker": {
          "color": "#FECB52",
          "symbol": "circle"
         },
         "mode": "markers",
         "name": "Dumfries and Galloway",
         "showlegend": true,
         "type": "scattergeo"
        }
       ],
       "layout": {
        "geo": {
         "center": {},
         "domain": {
          "x": [
           0,
           1
          ],
          "y": [
           0,
           1
          ]
         },
         "projection": {
          "type": "natural earth"
         }
        },
        "legend": {
         "title": {
          "text": "Police_Force"
         },
         "tracegroupgap": 0
        },
        "template": {
         "data": {
          "bar": [
           {
            "error_x": {
             "color": "#2a3f5f"
            },
            "error_y": {
             "color": "#2a3f5f"
            },
            "marker": {
             "line": {
              "color": "#E5ECF6",
              "width": 0.5
             },
             "pattern": {
              "fillmode": "overlay",
              "size": 10,
              "solidity": 0.2
             }
            },
            "type": "bar"
           }
          ],
          "barpolar": [
           {
            "marker": {
             "line": {
              "color": "#E5ECF6",
              "width": 0.5
             },
             "pattern": {
              "fillmode": "overlay",
              "size": 10,
              "solidity": 0.2
             }
            },
            "type": "barpolar"
           }
          ],
          "carpet": [
           {
            "aaxis": {
             "endlinecolor": "#2a3f5f",
             "gridcolor": "white",
             "linecolor": "white",
             "minorgridcolor": "white",
             "startlinecolor": "#2a3f5f"
            },
            "baxis": {
             "endlinecolor": "#2a3f5f",
             "gridcolor": "white",
             "linecolor": "white",
             "minorgridcolor": "white",
             "startlinecolor": "#2a3f5f"
            },
            "type": "carpet"
           }
          ],
          "choropleth": [
           {
            "colorbar": {
             "outlinewidth": 0,
             "ticks": ""
            },
            "type": "choropleth"
           }
          ],
          "contour": [
           {
            "colorbar": {
             "outlinewidth": 0,
             "ticks": ""
            },
            "colorscale": [
             [
              0,
              "#0d0887"
             ],
             [
              0.1111111111111111,
              "#46039f"
             ],
             [
              0.2222222222222222,
              "#7201a8"
             ],
             [
              0.3333333333333333,
              "#9c179e"
             ],
             [
              0.4444444444444444,
              "#bd3786"
             ],
             [
              0.5555555555555556,
              "#d8576b"
             ],
             [
              0.6666666666666666,
              "#ed7953"
             ],
             [
              0.7777777777777778,
              "#fb9f3a"
             ],
             [
              0.8888888888888888,
              "#fdca26"
             ],
             [
              1,
              "#f0f921"
             ]
            ],
            "type": "contour"
           }
          ],
          "contourcarpet": [
           {
            "colorbar": {
             "outlinewidth": 0,
             "ticks": ""
            },
            "type": "contourcarpet"
           }
          ],
          "heatmap": [
           {
            "colorbar": {
             "outlinewidth": 0,
             "ticks": ""
            },
            "colorscale": [
             [
              0,
              "#0d0887"
             ],
             [
              0.1111111111111111,
              "#46039f"
             ],
             [
              0.2222222222222222,
              "#7201a8"
             ],
             [
              0.3333333333333333,
              "#9c179e"
             ],
             [
              0.4444444444444444,
              "#bd3786"
             ],
             [
              0.5555555555555556,
              "#d8576b"
             ],
             [
              0.6666666666666666,
              "#ed7953"
             ],
             [
              0.7777777777777778,
              "#fb9f3a"
             ],
             [
              0.8888888888888888,
              "#fdca26"
             ],
             [
              1,
              "#f0f921"
             ]
            ],
            "type": "heatmap"
           }
          ],
          "heatmapgl": [
           {
            "colorbar": {
             "outlinewidth": 0,
             "ticks": ""
            },
            "colorscale": [
             [
              0,
              "#0d0887"
             ],
             [
              0.1111111111111111,
              "#46039f"
             ],
             [
              0.2222222222222222,
              "#7201a8"
             ],
             [
              0.3333333333333333,
              "#9c179e"
             ],
             [
              0.4444444444444444,
              "#bd3786"
             ],
             [
              0.5555555555555556,
              "#d8576b"
             ],
             [
              0.6666666666666666,
              "#ed7953"
             ],
             [
              0.7777777777777778,
              "#fb9f3a"
             ],
             [
              0.8888888888888888,
              "#fdca26"
             ],
             [
              1,
              "#f0f921"
             ]
            ],
            "type": "heatmapgl"
           }
          ],
          "histogram": [
           {
            "marker": {
             "pattern": {
              "fillmode": "overlay",
              "size": 10,
              "solidity": 0.2
             }
            },
            "type": "histogram"
           }
          ],
          "histogram2d": [
           {
            "colorbar": {
             "outlinewidth": 0,
             "ticks": ""
            },
            "colorscale": [
             [
              0,
              "#0d0887"
             ],
             [
              0.1111111111111111,
              "#46039f"
             ],
             [
              0.2222222222222222,
              "#7201a8"
             ],
             [
              0.3333333333333333,
              "#9c179e"
             ],
             [
              0.4444444444444444,
              "#bd3786"
             ],
             [
              0.5555555555555556,
              "#d8576b"
             ],
             [
              0.6666666666666666,
              "#ed7953"
             ],
             [
              0.7777777777777778,
              "#fb9f3a"
             ],
             [
              0.8888888888888888,
              "#fdca26"
             ],
             [
              1,
              "#f0f921"
             ]
            ],
            "type": "histogram2d"
           }
          ],
          "histogram2dcontour": [
           {
            "colorbar": {
             "outlinewidth": 0,
             "ticks": ""
            },
            "colorscale": [
             [
              0,
              "#0d0887"
             ],
             [
              0.1111111111111111,
              "#46039f"
             ],
             [
              0.2222222222222222,
              "#7201a8"
             ],
             [
              0.3333333333333333,
              "#9c179e"
             ],
             [
              0.4444444444444444,
              "#bd3786"
             ],
             [
              0.5555555555555556,
              "#d8576b"
             ],
             [
              0.6666666666666666,
              "#ed7953"
             ],
             [
              0.7777777777777778,
              "#fb9f3a"
             ],
             [
              0.8888888888888888,
              "#fdca26"
             ],
             [
              1,
              "#f0f921"
             ]
            ],
            "type": "histogram2dcontour"
           }
          ],
          "mesh3d": [
           {
            "colorbar": {
             "outlinewidth": 0,
             "ticks": ""
            },
            "type": "mesh3d"
           }
          ],
          "parcoords": [
           {
            "line": {
             "colorbar": {
              "outlinewidth": 0,
              "ticks": ""
             }
            },
            "type": "parcoords"
           }
          ],
          "pie": [
           {
            "automargin": true,
            "type": "pie"
           }
          ],
          "scatter": [
           {
            "fillpattern": {
             "fillmode": "overlay",
             "size": 10,
             "solidity": 0.2
            },
            "type": "scatter"
           }
          ],
          "scatter3d": [
           {
            "line": {
             "colorbar": {
              "outlinewidth": 0,
              "ticks": ""
             }
            },
            "marker": {
             "colorbar": {
              "outlinewidth": 0,
              "ticks": ""
             }
            },
            "type": "scatter3d"
           }
          ],
          "scattercarpet": [
           {
            "marker": {
             "colorbar": {
              "outlinewidth": 0,
              "ticks": ""
             }
            },
            "type": "scattercarpet"
           }
          ],
          "scattergeo": [
           {
            "marker": {
             "colorbar": {
              "outlinewidth": 0,
              "ticks": ""
             }
            },
            "type": "scattergeo"
           }
          ],
          "scattergl": [
           {
            "marker": {
             "colorbar": {
              "outlinewidth": 0,
              "ticks": ""
             }
            },
            "type": "scattergl"
           }
          ],
          "scattermapbox": [
           {
            "marker": {
             "colorbar": {
              "outlinewidth": 0,
              "ticks": ""
             }
            },
            "type": "scattermapbox"
           }
          ],
          "scatterpolar": [
           {
            "marker": {
             "colorbar": {
              "outlinewidth": 0,
              "ticks": ""
             }
            },
            "type": "scatterpolar"
           }
          ],
          "scatterpolargl": [
           {
            "marker": {
             "colorbar": {
              "outlinewidth": 0,
              "ticks": ""
             }
            },
            "type": "scatterpolargl"
           }
          ],
          "scatterternary": [
           {
            "marker": {
             "colorbar": {
              "outlinewidth": 0,
              "ticks": ""
             }
            },
            "type": "scatterternary"
           }
          ],
          "surface": [
           {
            "colorbar": {
             "outlinewidth": 0,
             "ticks": ""
            },
            "colorscale": [
             [
              0,
              "#0d0887"
             ],
             [
              0.1111111111111111,
              "#46039f"
             ],
             [
              0.2222222222222222,
              "#7201a8"
             ],
             [
              0.3333333333333333,
              "#9c179e"
             ],
             [
              0.4444444444444444,
              "#bd3786"
             ],
             [
              0.5555555555555556,
              "#d8576b"
             ],
             [
              0.6666666666666666,
              "#ed7953"
             ],
             [
              0.7777777777777778,
              "#fb9f3a"
             ],
             [
              0.8888888888888888,
              "#fdca26"
             ],
             [
              1,
              "#f0f921"
             ]
            ],
            "type": "surface"
           }
          ],
          "table": [
           {
            "cells": {
             "fill": {
              "color": "#EBF0F8"
             },
             "line": {
              "color": "white"
             }
            },
            "header": {
             "fill": {
              "color": "#C8D4E3"
             },
             "line": {
              "color": "white"
             }
            },
            "type": "table"
           }
          ]
         },
         "layout": {
          "annotationdefaults": {
           "arrowcolor": "#2a3f5f",
           "arrowhead": 0,
           "arrowwidth": 1
          },
          "autotypenumbers": "strict",
          "coloraxis": {
           "colorbar": {
            "outlinewidth": 0,
            "ticks": ""
           }
          },
          "colorscale": {
           "diverging": [
            [
             0,
             "#8e0152"
            ],
            [
             0.1,
             "#c51b7d"
            ],
            [
             0.2,
             "#de77ae"
            ],
            [
             0.3,
             "#f1b6da"
            ],
            [
             0.4,
             "#fde0ef"
            ],
            [
             0.5,
             "#f7f7f7"
            ],
            [
             0.6,
             "#e6f5d0"
            ],
            [
             0.7,
             "#b8e186"
            ],
            [
             0.8,
             "#7fbc41"
            ],
            [
             0.9,
             "#4d9221"
            ],
            [
             1,
             "#276419"
            ]
           ],
           "sequential": [
            [
             0,
             "#0d0887"
            ],
            [
             0.1111111111111111,
             "#46039f"
            ],
            [
             0.2222222222222222,
             "#7201a8"
            ],
            [
             0.3333333333333333,
             "#9c179e"
            ],
            [
             0.4444444444444444,
             "#bd3786"
            ],
            [
             0.5555555555555556,
             "#d8576b"
            ],
            [
             0.6666666666666666,
             "#ed7953"
            ],
            [
             0.7777777777777778,
             "#fb9f3a"
            ],
            [
             0.8888888888888888,
             "#fdca26"
            ],
            [
             1,
             "#f0f921"
            ]
           ],
           "sequentialminus": [
            [
             0,
             "#0d0887"
            ],
            [
             0.1111111111111111,
             "#46039f"
            ],
            [
             0.2222222222222222,
             "#7201a8"
            ],
            [
             0.3333333333333333,
             "#9c179e"
            ],
            [
             0.4444444444444444,
             "#bd3786"
            ],
            [
             0.5555555555555556,
             "#d8576b"
            ],
            [
             0.6666666666666666,
             "#ed7953"
            ],
            [
             0.7777777777777778,
             "#fb9f3a"
            ],
            [
             0.8888888888888888,
             "#fdca26"
            ],
            [
             1,
             "#f0f921"
            ]
           ]
          },
          "colorway": [
           "#636efa",
           "#EF553B",
           "#00cc96",
           "#ab63fa",
           "#FFA15A",
           "#19d3f3",
           "#FF6692",
           "#B6E880",
           "#FF97FF",
           "#FECB52"
          ],
          "font": {
           "color": "#2a3f5f"
          },
          "geo": {
           "bgcolor": "white",
           "lakecolor": "white",
           "landcolor": "#E5ECF6",
           "showlakes": true,
           "showland": true,
           "subunitcolor": "white"
          },
          "hoverlabel": {
           "align": "left"
          },
          "hovermode": "closest",
          "mapbox": {
           "style": "light"
          },
          "paper_bgcolor": "white",
          "plot_bgcolor": "#E5ECF6",
          "polar": {
           "angularaxis": {
            "gridcolor": "white",
            "linecolor": "white",
            "ticks": ""
           },
           "bgcolor": "#E5ECF6",
           "radialaxis": {
            "gridcolor": "white",
            "linecolor": "white",
            "ticks": ""
           }
          },
          "scene": {
           "xaxis": {
            "backgroundcolor": "#E5ECF6",
            "gridcolor": "white",
            "gridwidth": 2,
            "linecolor": "white",
            "showbackground": true,
            "ticks": "",
            "zerolinecolor": "white"
           },
           "yaxis": {
            "backgroundcolor": "#E5ECF6",
            "gridcolor": "white",
            "gridwidth": 2,
            "linecolor": "white",
            "showbackground": true,
            "ticks": "",
            "zerolinecolor": "white"
           },
           "zaxis": {
            "backgroundcolor": "#E5ECF6",
            "gridcolor": "white",
            "gridwidth": 2,
            "linecolor": "white",
            "showbackground": true,
            "ticks": "",
            "zerolinecolor": "white"
           }
          },
          "shapedefaults": {
           "line": {
            "color": "#2a3f5f"
           }
          },
          "ternary": {
           "aaxis": {
            "gridcolor": "white",
            "linecolor": "white",
            "ticks": ""
           },
           "baxis": {
            "gridcolor": "white",
            "linecolor": "white",
            "ticks": ""
           },
           "bgcolor": "#E5ECF6",
           "caxis": {
            "gridcolor": "white",
            "linecolor": "white",
            "ticks": ""
           }
          },
          "title": {
           "x": 0.05
          },
          "xaxis": {
           "automargin": true,
           "gridcolor": "white",
           "linecolor": "white",
           "ticks": "",
           "title": {
            "standoff": 15
           },
           "zerolinecolor": "white",
           "zerolinewidth": 2
          },
          "yaxis": {
           "automargin": true,
           "gridcolor": "white",
           "linecolor": "white",
           "ticks": "",
           "title": {
            "standoff": 15
           },
           "zerolinecolor": "white",
           "zerolinewidth": 2
          }
         }
        },
        "title": {
         "text": "Traffic Accidents"
        }
       }
      }
     },
     "metadata": {},
     "output_type": "display_data"
    },
    {
     "data": {
      "text/plain": [
       "'my_plotly_chart.html'"
      ]
     },
     "execution_count": 4,
     "metadata": {},
     "output_type": "execute_result"
    }
   ],
   "source": [
    "import plotly.express as px\n",
    "import plotly.offline as pyo\n",
    "\n",
    "# 使用 Plotly Express 创建地图\n",
    "fig = px.scatter_geo(\n",
    "    df_ta[df_ta[\"Accident Date\"] == \"1/5/2021\"],\n",
    "    lat='Latitude',\n",
    "    lon='Longitude',  # 在地图上显示地点名称\n",
    "    color=\"Police_Force\",\n",
    "    title='Traffic Accidents',\n",
    "    projection='natural earth'  # 选择地图投影类型\n",
    ")\n",
    "\n",
    "# 显示地图\n",
    "fig.show()\n",
    "\n",
    "\n",
    "pyo.plot(fig, filename='my_plotly_chart.html', auto_open=True)"
   ]
  },
  {
   "cell_type": "code",
   "execution_count": 5,
   "metadata": {},
   "outputs": [
    {
     "name": "stderr",
     "output_type": "stream",
     "text": [
      "/var/folders/4t/k648lnt161n8zjprt2d7p8d00000gn/T/ipykernel_71435/23922157.py:2: SettingWithCopyWarning:\n",
      "\n",
      "\n",
      "A value is trying to be set on a copy of a slice from a DataFrame.\n",
      "Try using .loc[row_indexer,col_indexer] = value instead\n",
      "\n",
      "See the caveats in the documentation: https://pandas.pydata.org/pandas-docs/stable/user_guide/indexing.html#returning-a-view-versus-a-copy\n",
      "\n"
     ]
    },
    {
     "data": {
      "application/vnd.plotly.v1+json": {
       "config": {
        "plotlyServerURL": "https://plot.ly"
       },
       "data": [
        {
         "hovertemplate": "Date=%{x}<br>Number of Accidents=%{y}<extra></extra>",
         "legendgroup": "",
         "line": {
          "color": "#636efa",
          "dash": "solid"
         },
         "marker": {
          "symbol": "circle"
         },
         "mode": "lines",
         "name": "",
         "orientation": "v",
         "showlegend": false,
         "type": "scatter",
         "x": [
          "2021-01-01T00:00:00",
          "2021-01-02T00:00:00",
          "2021-01-03T00:00:00",
          "2021-01-04T00:00:00",
          "2021-01-05T00:00:00",
          "2021-01-06T00:00:00",
          "2021-01-07T00:00:00",
          "2021-01-08T00:00:00",
          "2021-01-09T00:00:00",
          "2021-01-10T00:00:00",
          "2021-01-11T00:00:00",
          "2021-01-12T00:00:00",
          "2021-01-13T00:00:00",
          "2021-01-14T00:00:00",
          "2021-01-15T00:00:00",
          "2021-01-16T00:00:00",
          "2021-01-17T00:00:00",
          "2021-01-18T00:00:00",
          "2021-01-19T00:00:00",
          "2021-01-20T00:00:00",
          "2021-01-21T00:00:00",
          "2021-01-22T00:00:00",
          "2021-01-23T00:00:00",
          "2021-01-24T00:00:00",
          "2021-01-25T00:00:00",
          "2021-01-26T00:00:00",
          "2021-01-27T00:00:00",
          "2021-01-28T00:00:00",
          "2021-01-29T00:00:00",
          "2021-01-30T00:00:00",
          "2021-01-31T00:00:00",
          "2021-02-01T00:00:00",
          "2021-02-02T00:00:00",
          "2021-02-03T00:00:00",
          "2021-02-04T00:00:00",
          "2021-02-05T00:00:00",
          "2021-02-06T00:00:00",
          "2021-02-07T00:00:00",
          "2021-02-08T00:00:00",
          "2021-02-09T00:00:00",
          "2021-02-10T00:00:00",
          "2021-02-11T00:00:00",
          "2021-02-12T00:00:00",
          "2021-02-13T00:00:00",
          "2021-02-14T00:00:00",
          "2021-02-15T00:00:00",
          "2021-02-16T00:00:00",
          "2021-02-17T00:00:00",
          "2021-02-18T00:00:00",
          "2021-02-19T00:00:00",
          "2021-02-20T00:00:00",
          "2021-02-21T00:00:00",
          "2021-02-22T00:00:00",
          "2021-02-23T00:00:00",
          "2021-02-24T00:00:00",
          "2021-02-25T00:00:00",
          "2021-02-26T00:00:00",
          "2021-02-27T00:00:00",
          "2021-02-28T00:00:00",
          "2021-03-01T00:00:00",
          "2021-03-02T00:00:00",
          "2021-03-03T00:00:00",
          "2021-03-04T00:00:00",
          "2021-03-05T00:00:00",
          "2021-03-06T00:00:00",
          "2021-03-07T00:00:00",
          "2021-03-08T00:00:00",
          "2021-03-09T00:00:00",
          "2021-03-10T00:00:00",
          "2021-03-11T00:00:00",
          "2021-03-12T00:00:00",
          "2021-03-13T00:00:00",
          "2021-03-14T00:00:00",
          "2021-03-15T00:00:00",
          "2021-03-16T00:00:00",
          "2021-03-17T00:00:00",
          "2021-03-18T00:00:00",
          "2021-03-19T00:00:00",
          "2021-03-20T00:00:00",
          "2021-03-21T00:00:00",
          "2021-03-22T00:00:00",
          "2021-03-23T00:00:00",
          "2021-03-24T00:00:00",
          "2021-03-25T00:00:00",
          "2021-03-26T00:00:00",
          "2021-03-27T00:00:00",
          "2021-03-28T00:00:00",
          "2021-03-29T00:00:00",
          "2021-03-30T00:00:00",
          "2021-03-31T00:00:00",
          "2021-04-01T00:00:00",
          "2021-04-02T00:00:00",
          "2021-04-03T00:00:00",
          "2021-04-04T00:00:00",
          "2021-04-05T00:00:00",
          "2021-04-06T00:00:00",
          "2021-04-07T00:00:00",
          "2021-04-08T00:00:00",
          "2021-04-09T00:00:00",
          "2021-04-10T00:00:00",
          "2021-04-11T00:00:00",
          "2021-04-12T00:00:00",
          "2021-04-13T00:00:00",
          "2021-04-14T00:00:00",
          "2021-04-15T00:00:00",
          "2021-04-16T00:00:00",
          "2021-04-17T00:00:00",
          "2021-04-18T00:00:00",
          "2021-04-19T00:00:00",
          "2021-04-20T00:00:00",
          "2021-04-21T00:00:00",
          "2021-04-22T00:00:00",
          "2021-04-23T00:00:00",
          "2021-04-24T00:00:00",
          "2021-04-25T00:00:00",
          "2021-04-26T00:00:00",
          "2021-04-27T00:00:00",
          "2021-04-28T00:00:00",
          "2021-04-29T00:00:00",
          "2021-04-30T00:00:00",
          "2021-05-01T00:00:00",
          "2021-05-02T00:00:00",
          "2021-05-03T00:00:00",
          "2021-05-04T00:00:00",
          "2021-05-05T00:00:00",
          "2021-05-06T00:00:00",
          "2021-05-07T00:00:00",
          "2021-05-08T00:00:00",
          "2021-05-09T00:00:00",
          "2021-05-10T00:00:00",
          "2021-05-11T00:00:00",
          "2021-05-12T00:00:00",
          "2021-05-13T00:00:00",
          "2021-05-14T00:00:00",
          "2021-05-15T00:00:00",
          "2021-05-16T00:00:00",
          "2021-05-17T00:00:00",
          "2021-05-18T00:00:00",
          "2021-05-19T00:00:00",
          "2021-05-20T00:00:00",
          "2021-05-21T00:00:00",
          "2021-05-22T00:00:00",
          "2021-05-23T00:00:00",
          "2021-05-24T00:00:00",
          "2021-05-25T00:00:00",
          "2021-05-26T00:00:00",
          "2021-05-27T00:00:00",
          "2021-05-28T00:00:00",
          "2021-05-29T00:00:00",
          "2021-05-30T00:00:00",
          "2021-05-31T00:00:00",
          "2021-06-01T00:00:00",
          "2021-06-02T00:00:00",
          "2021-06-03T00:00:00",
          "2021-06-04T00:00:00",
          "2021-06-05T00:00:00",
          "2021-06-06T00:00:00",
          "2021-06-07T00:00:00",
          "2021-06-08T00:00:00",
          "2021-06-09T00:00:00",
          "2021-06-10T00:00:00",
          "2021-06-11T00:00:00",
          "2021-06-12T00:00:00",
          "2021-06-13T00:00:00",
          "2021-06-14T00:00:00",
          "2021-06-15T00:00:00",
          "2021-06-16T00:00:00",
          "2021-06-17T00:00:00",
          "2021-06-18T00:00:00",
          "2021-06-19T00:00:00",
          "2021-06-20T00:00:00",
          "2021-06-21T00:00:00",
          "2021-06-22T00:00:00",
          "2021-06-23T00:00:00",
          "2021-06-24T00:00:00",
          "2021-06-25T00:00:00",
          "2021-06-26T00:00:00",
          "2021-06-27T00:00:00",
          "2021-06-28T00:00:00",
          "2021-06-29T00:00:00",
          "2021-06-30T00:00:00",
          "2021-07-01T00:00:00",
          "2021-07-02T00:00:00",
          "2021-07-03T00:00:00",
          "2021-07-04T00:00:00",
          "2021-07-05T00:00:00",
          "2021-07-06T00:00:00",
          "2021-07-07T00:00:00",
          "2021-07-08T00:00:00",
          "2021-07-09T00:00:00",
          "2021-07-10T00:00:00",
          "2021-07-11T00:00:00",
          "2021-07-12T00:00:00",
          "2021-07-13T00:00:00",
          "2021-07-14T00:00:00",
          "2021-07-15T00:00:00",
          "2021-07-16T00:00:00",
          "2021-07-17T00:00:00",
          "2021-07-18T00:00:00",
          "2021-07-19T00:00:00",
          "2021-07-20T00:00:00",
          "2021-07-21T00:00:00",
          "2021-07-22T00:00:00",
          "2021-07-23T00:00:00",
          "2021-07-24T00:00:00",
          "2021-07-25T00:00:00",
          "2021-07-26T00:00:00",
          "2021-07-27T00:00:00",
          "2021-07-28T00:00:00",
          "2021-07-29T00:00:00",
          "2021-07-30T00:00:00",
          "2021-07-31T00:00:00",
          "2021-08-01T00:00:00",
          "2021-08-02T00:00:00",
          "2021-08-03T00:00:00",
          "2021-08-04T00:00:00",
          "2021-08-05T00:00:00",
          "2021-08-06T00:00:00",
          "2021-08-07T00:00:00",
          "2021-08-08T00:00:00",
          "2021-08-09T00:00:00",
          "2021-08-10T00:00:00",
          "2021-08-11T00:00:00",
          "2021-08-12T00:00:00",
          "2021-08-13T00:00:00",
          "2021-08-14T00:00:00",
          "2021-08-15T00:00:00",
          "2021-08-16T00:00:00",
          "2021-08-17T00:00:00",
          "2021-08-18T00:00:00",
          "2021-08-19T00:00:00",
          "2021-08-20T00:00:00",
          "2021-08-21T00:00:00",
          "2021-08-22T00:00:00",
          "2021-08-23T00:00:00",
          "2021-08-24T00:00:00",
          "2021-08-25T00:00:00",
          "2021-08-26T00:00:00",
          "2021-08-27T00:00:00",
          "2021-08-28T00:00:00",
          "2021-08-29T00:00:00",
          "2021-08-30T00:00:00",
          "2021-08-31T00:00:00",
          "2021-09-01T00:00:00",
          "2021-09-02T00:00:00",
          "2021-09-03T00:00:00",
          "2021-09-04T00:00:00",
          "2021-09-05T00:00:00",
          "2021-09-06T00:00:00",
          "2021-09-07T00:00:00",
          "2021-09-08T00:00:00",
          "2021-09-09T00:00:00",
          "2021-09-10T00:00:00",
          "2021-09-11T00:00:00",
          "2021-09-12T00:00:00",
          "2021-09-13T00:00:00",
          "2021-09-14T00:00:00",
          "2021-09-15T00:00:00",
          "2021-09-16T00:00:00",
          "2021-09-17T00:00:00",
          "2021-09-18T00:00:00",
          "2021-09-19T00:00:00",
          "2021-09-20T00:00:00",
          "2021-09-21T00:00:00",
          "2021-09-22T00:00:00",
          "2021-09-23T00:00:00",
          "2021-09-24T00:00:00",
          "2021-09-25T00:00:00",
          "2021-09-26T00:00:00",
          "2021-09-27T00:00:00",
          "2021-09-28T00:00:00",
          "2021-09-29T00:00:00",
          "2021-09-30T00:00:00",
          "2021-10-01T00:00:00",
          "2021-10-02T00:00:00",
          "2021-10-03T00:00:00",
          "2021-10-04T00:00:00",
          "2021-10-05T00:00:00",
          "2021-10-06T00:00:00",
          "2021-10-07T00:00:00",
          "2021-10-08T00:00:00",
          "2021-10-09T00:00:00",
          "2021-10-10T00:00:00",
          "2021-10-11T00:00:00",
          "2021-10-12T00:00:00",
          "2021-10-13T00:00:00",
          "2021-10-14T00:00:00",
          "2021-10-15T00:00:00",
          "2021-10-16T00:00:00",
          "2021-10-17T00:00:00",
          "2021-10-18T00:00:00",
          "2021-10-19T00:00:00",
          "2021-10-20T00:00:00",
          "2021-10-21T00:00:00",
          "2021-10-22T00:00:00",
          "2021-10-23T00:00:00",
          "2021-10-24T00:00:00",
          "2021-10-25T00:00:00",
          "2021-10-26T00:00:00",
          "2021-10-27T00:00:00",
          "2021-10-28T00:00:00",
          "2021-10-29T00:00:00",
          "2021-10-30T00:00:00",
          "2021-10-31T00:00:00",
          "2021-11-01T00:00:00",
          "2021-11-02T00:00:00",
          "2021-11-03T00:00:00",
          "2021-11-04T00:00:00",
          "2021-11-05T00:00:00",
          "2021-11-06T00:00:00",
          "2021-11-07T00:00:00",
          "2021-11-08T00:00:00",
          "2021-11-09T00:00:00",
          "2021-11-10T00:00:00",
          "2021-11-11T00:00:00",
          "2021-11-12T00:00:00",
          "2021-11-13T00:00:00",
          "2021-11-14T00:00:00",
          "2021-11-15T00:00:00",
          "2021-11-16T00:00:00",
          "2021-11-17T00:00:00",
          "2021-11-18T00:00:00",
          "2021-11-19T00:00:00",
          "2021-11-20T00:00:00",
          "2021-11-21T00:00:00",
          "2021-11-22T00:00:00",
          "2021-11-23T00:00:00",
          "2021-11-24T00:00:00",
          "2021-11-25T00:00:00",
          "2021-11-26T00:00:00",
          "2021-11-27T00:00:00",
          "2021-11-28T00:00:00",
          "2021-11-29T00:00:00",
          "2021-11-30T00:00:00",
          "2021-12-01T00:00:00",
          "2021-12-02T00:00:00",
          "2021-12-03T00:00:00",
          "2021-12-04T00:00:00",
          "2021-12-05T00:00:00",
          "2021-12-06T00:00:00",
          "2021-12-07T00:00:00",
          "2021-12-08T00:00:00",
          "2021-12-09T00:00:00",
          "2021-12-10T00:00:00",
          "2021-12-11T00:00:00",
          "2021-12-12T00:00:00",
          "2021-12-13T00:00:00",
          "2021-12-14T00:00:00",
          "2021-12-15T00:00:00",
          "2021-12-16T00:00:00",
          "2021-12-17T00:00:00",
          "2021-12-18T00:00:00",
          "2021-12-19T00:00:00",
          "2021-12-20T00:00:00",
          "2021-12-21T00:00:00",
          "2021-12-22T00:00:00",
          "2021-12-23T00:00:00",
          "2021-12-24T00:00:00",
          "2021-12-25T00:00:00",
          "2021-12-26T00:00:00",
          "2021-12-27T00:00:00",
          "2021-12-28T00:00:00",
          "2021-12-29T00:00:00",
          "2021-12-30T00:00:00",
          "2021-12-31T00:00:00",
          "2022-01-01T00:00:00",
          "2022-01-02T00:00:00",
          "2022-01-03T00:00:00",
          "2022-01-04T00:00:00",
          "2022-01-05T00:00:00",
          "2022-01-06T00:00:00",
          "2022-01-07T00:00:00",
          "2022-01-08T00:00:00",
          "2022-01-09T00:00:00",
          "2022-01-10T00:00:00",
          "2022-01-11T00:00:00",
          "2022-01-12T00:00:00",
          "2022-01-13T00:00:00",
          "2022-01-14T00:00:00",
          "2022-01-15T00:00:00",
          "2022-01-16T00:00:00",
          "2022-01-17T00:00:00",
          "2022-01-18T00:00:00",
          "2022-01-19T00:00:00",
          "2022-01-20T00:00:00",
          "2022-01-21T00:00:00",
          "2022-01-22T00:00:00",
          "2022-01-23T00:00:00",
          "2022-01-24T00:00:00",
          "2022-01-25T00:00:00",
          "2022-01-26T00:00:00",
          "2022-01-27T00:00:00",
          "2022-01-28T00:00:00",
          "2022-01-29T00:00:00",
          "2022-01-30T00:00:00",
          "2022-01-31T00:00:00",
          "2022-02-01T00:00:00",
          "2022-02-02T00:00:00",
          "2022-02-03T00:00:00",
          "2022-02-04T00:00:00",
          "2022-02-05T00:00:00",
          "2022-02-06T00:00:00",
          "2022-02-07T00:00:00",
          "2022-02-08T00:00:00",
          "2022-02-09T00:00:00",
          "2022-02-10T00:00:00",
          "2022-02-11T00:00:00",
          "2022-02-12T00:00:00",
          "2022-02-13T00:00:00",
          "2022-02-14T00:00:00",
          "2022-02-15T00:00:00",
          "2022-02-16T00:00:00",
          "2022-02-17T00:00:00",
          "2022-02-18T00:00:00",
          "2022-02-19T00:00:00",
          "2022-02-20T00:00:00",
          "2022-02-21T00:00:00",
          "2022-02-22T00:00:00",
          "2022-02-23T00:00:00",
          "2022-02-24T00:00:00",
          "2022-02-25T00:00:00",
          "2022-02-26T00:00:00",
          "2022-02-27T00:00:00",
          "2022-02-28T00:00:00",
          "2022-03-01T00:00:00",
          "2022-03-02T00:00:00",
          "2022-03-03T00:00:00",
          "2022-03-04T00:00:00",
          "2022-03-05T00:00:00",
          "2022-03-06T00:00:00",
          "2022-03-07T00:00:00",
          "2022-03-08T00:00:00",
          "2022-03-09T00:00:00",
          "2022-03-10T00:00:00",
          "2022-03-11T00:00:00",
          "2022-03-12T00:00:00",
          "2022-03-13T00:00:00",
          "2022-03-14T00:00:00",
          "2022-03-15T00:00:00",
          "2022-03-16T00:00:00",
          "2022-03-17T00:00:00",
          "2022-03-18T00:00:00",
          "2022-03-19T00:00:00",
          "2022-03-20T00:00:00",
          "2022-03-21T00:00:00",
          "2022-03-22T00:00:00",
          "2022-03-23T00:00:00",
          "2022-03-24T00:00:00",
          "2022-03-25T00:00:00",
          "2022-03-26T00:00:00",
          "2022-03-27T00:00:00",
          "2022-03-28T00:00:00",
          "2022-03-29T00:00:00",
          "2022-03-30T00:00:00",
          "2022-03-31T00:00:00",
          "2022-04-01T00:00:00",
          "2022-04-02T00:00:00",
          "2022-04-03T00:00:00",
          "2022-04-04T00:00:00",
          "2022-04-05T00:00:00",
          "2022-04-06T00:00:00",
          "2022-04-07T00:00:00",
          "2022-04-08T00:00:00",
          "2022-04-09T00:00:00",
          "2022-04-10T00:00:00",
          "2022-04-11T00:00:00",
          "2022-04-12T00:00:00",
          "2022-04-13T00:00:00",
          "2022-04-14T00:00:00",
          "2022-04-15T00:00:00",
          "2022-04-16T00:00:00",
          "2022-04-17T00:00:00",
          "2022-04-18T00:00:00",
          "2022-04-19T00:00:00",
          "2022-04-20T00:00:00",
          "2022-04-21T00:00:00",
          "2022-04-22T00:00:00",
          "2022-04-23T00:00:00",
          "2022-04-24T00:00:00",
          "2022-04-25T00:00:00",
          "2022-04-26T00:00:00",
          "2022-04-27T00:00:00",
          "2022-04-28T00:00:00",
          "2022-04-29T00:00:00",
          "2022-04-30T00:00:00",
          "2022-05-01T00:00:00",
          "2022-05-02T00:00:00",
          "2022-05-03T00:00:00",
          "2022-05-04T00:00:00",
          "2022-05-05T00:00:00",
          "2022-05-06T00:00:00",
          "2022-05-07T00:00:00",
          "2022-05-08T00:00:00",
          "2022-05-09T00:00:00",
          "2022-05-10T00:00:00",
          "2022-05-11T00:00:00",
          "2022-05-12T00:00:00",
          "2022-05-13T00:00:00",
          "2022-05-14T00:00:00",
          "2022-05-15T00:00:00",
          "2022-05-16T00:00:00",
          "2022-05-17T00:00:00",
          "2022-05-18T00:00:00",
          "2022-05-19T00:00:00",
          "2022-05-20T00:00:00",
          "2022-05-21T00:00:00",
          "2022-05-22T00:00:00",
          "2022-05-23T00:00:00",
          "2022-05-24T00:00:00",
          "2022-05-25T00:00:00",
          "2022-05-26T00:00:00",
          "2022-05-27T00:00:00",
          "2022-05-28T00:00:00",
          "2022-05-29T00:00:00",
          "2022-05-30T00:00:00",
          "2022-05-31T00:00:00",
          "2022-06-01T00:00:00",
          "2022-06-02T00:00:00",
          "2022-06-03T00:00:00",
          "2022-06-04T00:00:00",
          "2022-06-05T00:00:00",
          "2022-06-06T00:00:00",
          "2022-06-07T00:00:00",
          "2022-06-08T00:00:00",
          "2022-06-09T00:00:00",
          "2022-06-10T00:00:00",
          "2022-06-11T00:00:00",
          "2022-06-12T00:00:00",
          "2022-06-13T00:00:00",
          "2022-06-14T00:00:00",
          "2022-06-15T00:00:00",
          "2022-06-16T00:00:00",
          "2022-06-17T00:00:00",
          "2022-06-18T00:00:00",
          "2022-06-19T00:00:00",
          "2022-06-20T00:00:00",
          "2022-06-21T00:00:00",
          "2022-06-22T00:00:00",
          "2022-06-23T00:00:00",
          "2022-06-24T00:00:00",
          "2022-06-25T00:00:00",
          "2022-06-26T00:00:00",
          "2022-06-27T00:00:00",
          "2022-06-28T00:00:00",
          "2022-06-29T00:00:00",
          "2022-06-30T00:00:00",
          "2022-07-01T00:00:00",
          "2022-07-02T00:00:00",
          "2022-07-03T00:00:00",
          "2022-07-04T00:00:00",
          "2022-07-05T00:00:00",
          "2022-07-06T00:00:00",
          "2022-07-07T00:00:00",
          "2022-07-08T00:00:00",
          "2022-07-09T00:00:00",
          "2022-07-10T00:00:00",
          "2022-07-11T00:00:00",
          "2022-07-12T00:00:00",
          "2022-07-13T00:00:00",
          "2022-07-14T00:00:00",
          "2022-07-15T00:00:00",
          "2022-07-16T00:00:00",
          "2022-07-17T00:00:00",
          "2022-07-18T00:00:00",
          "2022-07-19T00:00:00",
          "2022-07-20T00:00:00",
          "2022-07-21T00:00:00",
          "2022-07-22T00:00:00",
          "2022-07-23T00:00:00",
          "2022-07-24T00:00:00",
          "2022-07-25T00:00:00",
          "2022-07-26T00:00:00",
          "2022-07-27T00:00:00",
          "2022-07-28T00:00:00",
          "2022-07-29T00:00:00",
          "2022-07-30T00:00:00",
          "2022-07-31T00:00:00",
          "2022-08-01T00:00:00",
          "2022-08-02T00:00:00",
          "2022-08-03T00:00:00",
          "2022-08-04T00:00:00",
          "2022-08-05T00:00:00",
          "2022-08-06T00:00:00",
          "2022-08-07T00:00:00",
          "2022-08-08T00:00:00",
          "2022-08-09T00:00:00",
          "2022-08-10T00:00:00",
          "2022-08-11T00:00:00",
          "2022-08-12T00:00:00",
          "2022-08-13T00:00:00",
          "2022-08-14T00:00:00",
          "2022-08-15T00:00:00",
          "2022-08-16T00:00:00",
          "2022-08-17T00:00:00",
          "2022-08-18T00:00:00",
          "2022-08-19T00:00:00",
          "2022-08-20T00:00:00",
          "2022-08-21T00:00:00",
          "2022-08-22T00:00:00",
          "2022-08-23T00:00:00",
          "2022-08-24T00:00:00",
          "2022-08-25T00:00:00",
          "2022-08-26T00:00:00",
          "2022-08-27T00:00:00",
          "2022-08-28T00:00:00",
          "2022-08-29T00:00:00",
          "2022-08-30T00:00:00",
          "2022-08-31T00:00:00",
          "2022-09-01T00:00:00",
          "2022-09-02T00:00:00",
          "2022-09-03T00:00:00",
          "2022-09-04T00:00:00",
          "2022-09-05T00:00:00",
          "2022-09-06T00:00:00",
          "2022-09-07T00:00:00",
          "2022-09-08T00:00:00",
          "2022-09-09T00:00:00",
          "2022-09-10T00:00:00",
          "2022-09-11T00:00:00",
          "2022-09-12T00:00:00",
          "2022-09-13T00:00:00",
          "2022-09-14T00:00:00",
          "2022-09-15T00:00:00",
          "2022-09-16T00:00:00",
          "2022-09-17T00:00:00",
          "2022-09-18T00:00:00",
          "2022-09-19T00:00:00",
          "2022-09-20T00:00:00",
          "2022-09-21T00:00:00",
          "2022-09-22T00:00:00",
          "2022-09-23T00:00:00",
          "2022-09-24T00:00:00",
          "2022-09-25T00:00:00",
          "2022-09-26T00:00:00",
          "2022-09-27T00:00:00",
          "2022-09-28T00:00:00",
          "2022-09-29T00:00:00",
          "2022-09-30T00:00:00",
          "2022-10-01T00:00:00",
          "2022-10-02T00:00:00",
          "2022-10-03T00:00:00",
          "2022-10-04T00:00:00",
          "2022-10-05T00:00:00",
          "2022-10-06T00:00:00",
          "2022-10-07T00:00:00",
          "2022-10-08T00:00:00",
          "2022-10-09T00:00:00",
          "2022-10-10T00:00:00",
          "2022-10-11T00:00:00",
          "2022-10-12T00:00:00",
          "2022-10-13T00:00:00",
          "2022-10-14T00:00:00",
          "2022-10-15T00:00:00",
          "2022-10-16T00:00:00",
          "2022-10-17T00:00:00",
          "2022-10-18T00:00:00",
          "2022-10-19T00:00:00",
          "2022-10-20T00:00:00",
          "2022-10-21T00:00:00",
          "2022-10-22T00:00:00",
          "2022-10-23T00:00:00",
          "2022-10-24T00:00:00",
          "2022-10-25T00:00:00",
          "2022-10-26T00:00:00",
          "2022-10-27T00:00:00",
          "2022-10-28T00:00:00",
          "2022-10-29T00:00:00",
          "2022-10-30T00:00:00",
          "2022-10-31T00:00:00",
          "2022-11-01T00:00:00",
          "2022-11-02T00:00:00",
          "2022-11-03T00:00:00",
          "2022-11-04T00:00:00",
          "2022-11-05T00:00:00",
          "2022-11-06T00:00:00",
          "2022-11-07T00:00:00",
          "2022-11-08T00:00:00",
          "2022-11-09T00:00:00",
          "2022-11-10T00:00:00",
          "2022-11-11T00:00:00",
          "2022-11-12T00:00:00",
          "2022-11-13T00:00:00",
          "2022-11-14T00:00:00",
          "2022-11-15T00:00:00",
          "2022-11-16T00:00:00",
          "2022-11-17T00:00:00",
          "2022-11-18T00:00:00",
          "2022-11-19T00:00:00",
          "2022-11-20T00:00:00",
          "2022-11-21T00:00:00",
          "2022-11-22T00:00:00",
          "2022-11-23T00:00:00",
          "2022-11-24T00:00:00",
          "2022-11-25T00:00:00",
          "2022-11-26T00:00:00",
          "2022-11-27T00:00:00",
          "2022-11-28T00:00:00",
          "2022-11-29T00:00:00",
          "2022-11-30T00:00:00",
          "2022-12-01T00:00:00",
          "2022-12-02T00:00:00",
          "2022-12-03T00:00:00",
          "2022-12-04T00:00:00",
          "2022-12-05T00:00:00",
          "2022-12-06T00:00:00",
          "2022-12-07T00:00:00",
          "2022-12-08T00:00:00",
          "2022-12-09T00:00:00",
          "2022-12-10T00:00:00",
          "2022-12-11T00:00:00",
          "2022-12-12T00:00:00",
          "2022-12-13T00:00:00",
          "2022-12-14T00:00:00",
          "2022-12-15T00:00:00",
          "2022-12-16T00:00:00",
          "2022-12-17T00:00:00",
          "2022-12-18T00:00:00",
          "2022-12-19T00:00:00",
          "2022-12-20T00:00:00",
          "2022-12-21T00:00:00",
          "2022-12-22T00:00:00",
          "2022-12-23T00:00:00",
          "2022-12-24T00:00:00",
          "2022-12-25T00:00:00",
          "2022-12-26T00:00:00",
          "2022-12-27T00:00:00",
          "2022-12-28T00:00:00",
          "2022-12-29T00:00:00",
          "2022-12-30T00:00:00",
          "2022-12-31T00:00:00"
         ],
         "xaxis": "x",
         "y": [
          34,
          28,
          32,
          42,
          46,
          70,
          40,
          44,
          63,
          50,
          43,
          49,
          62,
          68,
          66,
          68,
          46,
          50,
          67,
          50,
          56,
          53,
          65,
          53,
          39,
          51,
          49,
          73,
          60,
          48,
          63,
          68,
          19,
          29,
          43,
          48,
          40,
          49,
          44,
          73,
          53,
          70,
          63,
          66,
          52,
          44,
          52,
          46,
          48,
          43,
          57,
          58,
          29,
          52,
          40,
          39,
          49,
          80,
          47,
          35,
          71,
          64,
          49,
          50,
          80,
          43,
          57,
          63,
          63,
          70,
          56,
          81,
          52,
          33,
          63,
          61,
          67,
          73,
          85,
          66,
          60,
          71,
          75,
          73,
          68,
          72,
          66,
          39,
          56,
          62,
          75,
          56,
          59,
          48,
          43,
          65,
          70,
          88,
          52,
          48,
          49,
          30,
          30,
          48,
          48,
          68,
          60,
          80,
          42,
          72,
          88,
          83,
          75,
          95,
          61,
          63,
          71,
          59,
          88,
          52,
          92,
          61,
          61,
          24,
          73,
          75,
          55,
          74,
          43,
          52,
          70,
          68,
          48,
          53,
          64,
          56,
          36,
          76,
          78,
          75,
          91,
          64,
          51,
          54,
          38,
          82,
          54,
          66,
          79,
          69,
          62,
          60,
          85,
          63,
          79,
          78,
          55,
          49,
          64,
          69,
          76,
          74,
          78,
          50,
          52,
          75,
          86,
          74,
          68,
          74,
          62,
          61,
          64,
          89,
          74,
          67,
          74,
          68,
          53,
          74,
          85,
          76,
          83,
          88,
          60,
          60,
          66,
          77,
          65,
          69,
          72,
          61,
          55,
          53,
          80,
          63,
          64,
          76,
          65,
          43,
          53,
          62,
          61,
          68,
          67,
          50,
          33,
          62,
          62,
          68,
          54,
          76,
          47,
          40,
          55,
          52,
          59,
          61,
          67,
          68,
          34,
          62,
          50,
          66,
          62,
          66,
          56,
          51,
          61,
          61,
          71,
          57,
          58,
          59,
          42,
          53,
          55,
          63,
          75,
          65,
          53,
          40,
          53,
          57,
          78,
          69,
          70,
          51,
          52,
          64,
          72,
          72,
          73,
          74,
          66,
          38,
          63,
          83,
          90,
          81,
          75,
          62,
          51,
          82,
          78,
          71,
          89,
          90,
          48,
          59,
          60,
          75,
          79,
          75,
          89,
          56,
          49,
          90,
          92,
          76,
          87,
          112,
          52,
          51,
          74,
          81,
          77,
          69,
          76,
          57,
          43,
          55,
          71,
          87,
          75,
          89,
          72,
          57,
          70,
          63,
          74,
          55,
          77,
          85,
          56,
          70,
          95,
          81,
          71,
          99,
          70,
          57,
          67,
          88,
          88,
          104,
          97,
          59,
          55,
          80,
          71,
          69,
          71,
          88,
          77,
          49,
          48,
          71,
          72,
          81,
          80,
          84,
          60,
          80,
          94,
          97,
          88,
          108,
          72,
          59,
          89,
          75,
          62,
          82,
          70,
          76,
          49,
          74,
          66,
          67,
          70,
          61,
          49,
          31,
          47,
          33,
          47,
          37,
          19,
          28,
          36,
          28,
          40,
          45,
          37,
          55,
          33,
          32,
          69,
          66,
          54,
          39,
          37,
          39,
          25,
          46,
          47,
          41,
          38,
          66,
          44,
          47,
          72,
          54,
          63,
          69,
          68,
          42,
          45,
          61,
          66,
          77,
          57,
          87,
          58,
          43,
          76,
          68,
          62,
          66,
          70,
          51,
          35,
          75,
          75,
          69,
          55,
          62,
          61,
          50,
          58,
          63,
          62,
          48,
          48,
          65,
          57,
          68,
          64,
          66,
          76,
          62,
          53,
          44,
          71,
          85,
          45,
          54,
          75,
          68,
          55,
          85,
          48,
          74,
          65,
          84,
          58,
          44,
          64,
          67,
          49,
          63,
          78,
          54,
          42,
          70,
          75,
          65,
          69,
          65,
          61,
          59,
          51,
          74,
          79,
          74,
          50,
          40,
          50,
          30,
          55,
          49,
          60,
          64,
          70,
          47,
          44,
          66,
          54,
          80,
          59,
          58,
          53,
          66,
          75,
          66,
          77,
          95,
          56,
          47,
          64,
          87,
          75,
          68,
          69,
          49,
          35,
          45,
          79,
          68,
          68,
          68,
          59,
          43,
          65,
          75,
          71,
          75,
          82,
          64,
          62,
          75,
          58,
          70,
          59,
          91,
          66,
          60,
          111,
          92,
          85,
          84,
          94,
          60,
          57,
          35,
          85,
          91,
          87,
          83,
          71,
          57,
          70,
          67,
          78,
          50,
          84,
          52,
          49,
          80,
          97,
          85,
          76,
          74,
          49,
          45,
          68,
          91,
          93,
          87,
          80,
          86,
          58,
          78,
          75,
          63,
          74,
          78,
          67,
          54,
          81,
          79,
          87,
          81,
          91,
          73,
          58,
          81,
          59,
          72,
          81,
          74,
          53,
          53,
          59,
          58,
          87,
          71,
          90,
          61,
          39,
          66,
          74,
          96,
          90,
          70,
          59,
          40,
          52,
          58,
          68,
          82,
          71,
          62,
          50,
          61,
          74,
          69,
          53,
          74,
          48,
          41,
          57,
          71,
          67,
          73,
          61,
          56,
          48,
          71,
          76,
          69,
          74,
          61,
          70,
          51,
          40,
          70,
          70,
          61,
          96,
          51,
          43,
          68,
          105,
          73,
          70,
          82,
          62,
          48,
          69,
          74,
          76,
          62,
          77,
          82,
          41,
          80,
          90,
          83,
          87,
          76,
          81,
          50,
          53,
          80,
          117,
          81,
          100,
          78,
          50,
          77,
          62,
          95,
          79,
          88,
          66,
          76,
          80,
          85,
          75,
          82,
          88,
          72,
          65,
          67,
          96,
          98,
          83,
          59,
          71,
          49,
          64,
          79,
          70,
          47,
          80,
          91,
          53,
          59,
          80,
          103,
          70,
          85,
          69,
          43,
          68,
          80,
          82,
          85,
          108,
          53,
          57,
          87,
          86,
          82,
          91,
          89,
          54,
          41,
          69,
          76,
          75,
          63,
          105,
          51,
          49,
          67,
          56,
          28,
          25,
          42,
          46,
          43,
          61,
          69,
          62,
          70,
          71,
          58,
          42,
          79,
          61,
          83,
          76,
          87,
          36,
          31,
          44,
          32,
          36,
          44,
          41,
          24,
          38,
          28,
          24,
          24,
          37,
          31
         ],
         "yaxis": "y"
        }
       ],
       "layout": {
        "font": {
         "size": 16
        },
        "legend": {
         "font": {
          "size": 16
         },
         "tracegroupgap": 0
        },
        "template": {
         "data": {
          "bar": [
           {
            "error_x": {
             "color": "#2a3f5f"
            },
            "error_y": {
             "color": "#2a3f5f"
            },
            "marker": {
             "line": {
              "color": "#E5ECF6",
              "width": 0.5
             },
             "pattern": {
              "fillmode": "overlay",
              "size": 10,
              "solidity": 0.2
             }
            },
            "type": "bar"
           }
          ],
          "barpolar": [
           {
            "marker": {
             "line": {
              "color": "#E5ECF6",
              "width": 0.5
             },
             "pattern": {
              "fillmode": "overlay",
              "size": 10,
              "solidity": 0.2
             }
            },
            "type": "barpolar"
           }
          ],
          "carpet": [
           {
            "aaxis": {
             "endlinecolor": "#2a3f5f",
             "gridcolor": "white",
             "linecolor": "white",
             "minorgridcolor": "white",
             "startlinecolor": "#2a3f5f"
            },
            "baxis": {
             "endlinecolor": "#2a3f5f",
             "gridcolor": "white",
             "linecolor": "white",
             "minorgridcolor": "white",
             "startlinecolor": "#2a3f5f"
            },
            "type": "carpet"
           }
          ],
          "choropleth": [
           {
            "colorbar": {
             "outlinewidth": 0,
             "ticks": ""
            },
            "type": "choropleth"
           }
          ],
          "contour": [
           {
            "colorbar": {
             "outlinewidth": 0,
             "ticks": ""
            },
            "colorscale": [
             [
              0,
              "#0d0887"
             ],
             [
              0.1111111111111111,
              "#46039f"
             ],
             [
              0.2222222222222222,
              "#7201a8"
             ],
             [
              0.3333333333333333,
              "#9c179e"
             ],
             [
              0.4444444444444444,
              "#bd3786"
             ],
             [
              0.5555555555555556,
              "#d8576b"
             ],
             [
              0.6666666666666666,
              "#ed7953"
             ],
             [
              0.7777777777777778,
              "#fb9f3a"
             ],
             [
              0.8888888888888888,
              "#fdca26"
             ],
             [
              1,
              "#f0f921"
             ]
            ],
            "type": "contour"
           }
          ],
          "contourcarpet": [
           {
            "colorbar": {
             "outlinewidth": 0,
             "ticks": ""
            },
            "type": "contourcarpet"
           }
          ],
          "heatmap": [
           {
            "colorbar": {
             "outlinewidth": 0,
             "ticks": ""
            },
            "colorscale": [
             [
              0,
              "#0d0887"
             ],
             [
              0.1111111111111111,
              "#46039f"
             ],
             [
              0.2222222222222222,
              "#7201a8"
             ],
             [
              0.3333333333333333,
              "#9c179e"
             ],
             [
              0.4444444444444444,
              "#bd3786"
             ],
             [
              0.5555555555555556,
              "#d8576b"
             ],
             [
              0.6666666666666666,
              "#ed7953"
             ],
             [
              0.7777777777777778,
              "#fb9f3a"
             ],
             [
              0.8888888888888888,
              "#fdca26"
             ],
             [
              1,
              "#f0f921"
             ]
            ],
            "type": "heatmap"
           }
          ],
          "heatmapgl": [
           {
            "colorbar": {
             "outlinewidth": 0,
             "ticks": ""
            },
            "colorscale": [
             [
              0,
              "#0d0887"
             ],
             [
              0.1111111111111111,
              "#46039f"
             ],
             [
              0.2222222222222222,
              "#7201a8"
             ],
             [
              0.3333333333333333,
              "#9c179e"
             ],
             [
              0.4444444444444444,
              "#bd3786"
             ],
             [
              0.5555555555555556,
              "#d8576b"
             ],
             [
              0.6666666666666666,
              "#ed7953"
             ],
             [
              0.7777777777777778,
              "#fb9f3a"
             ],
             [
              0.8888888888888888,
              "#fdca26"
             ],
             [
              1,
              "#f0f921"
             ]
            ],
            "type": "heatmapgl"
           }
          ],
          "histogram": [
           {
            "marker": {
             "pattern": {
              "fillmode": "overlay",
              "size": 10,
              "solidity": 0.2
             }
            },
            "type": "histogram"
           }
          ],
          "histogram2d": [
           {
            "colorbar": {
             "outlinewidth": 0,
             "ticks": ""
            },
            "colorscale": [
             [
              0,
              "#0d0887"
             ],
             [
              0.1111111111111111,
              "#46039f"
             ],
             [
              0.2222222222222222,
              "#7201a8"
             ],
             [
              0.3333333333333333,
              "#9c179e"
             ],
             [
              0.4444444444444444,
              "#bd3786"
             ],
             [
              0.5555555555555556,
              "#d8576b"
             ],
             [
              0.6666666666666666,
              "#ed7953"
             ],
             [
              0.7777777777777778,
              "#fb9f3a"
             ],
             [
              0.8888888888888888,
              "#fdca26"
             ],
             [
              1,
              "#f0f921"
             ]
            ],
            "type": "histogram2d"
           }
          ],
          "histogram2dcontour": [
           {
            "colorbar": {
             "outlinewidth": 0,
             "ticks": ""
            },
            "colorscale": [
             [
              0,
              "#0d0887"
             ],
             [
              0.1111111111111111,
              "#46039f"
             ],
             [
              0.2222222222222222,
              "#7201a8"
             ],
             [
              0.3333333333333333,
              "#9c179e"
             ],
             [
              0.4444444444444444,
              "#bd3786"
             ],
             [
              0.5555555555555556,
              "#d8576b"
             ],
             [
              0.6666666666666666,
              "#ed7953"
             ],
             [
              0.7777777777777778,
              "#fb9f3a"
             ],
             [
              0.8888888888888888,
              "#fdca26"
             ],
             [
              1,
              "#f0f921"
             ]
            ],
            "type": "histogram2dcontour"
           }
          ],
          "mesh3d": [
           {
            "colorbar": {
             "outlinewidth": 0,
             "ticks": ""
            },
            "type": "mesh3d"
           }
          ],
          "parcoords": [
           {
            "line": {
             "colorbar": {
              "outlinewidth": 0,
              "ticks": ""
             }
            },
            "type": "parcoords"
           }
          ],
          "pie": [
           {
            "automargin": true,
            "type": "pie"
           }
          ],
          "scatter": [
           {
            "fillpattern": {
             "fillmode": "overlay",
             "size": 10,
             "solidity": 0.2
            },
            "type": "scatter"
           }
          ],
          "scatter3d": [
           {
            "line": {
             "colorbar": {
              "outlinewidth": 0,
              "ticks": ""
             }
            },
            "marker": {
             "colorbar": {
              "outlinewidth": 0,
              "ticks": ""
             }
            },
            "type": "scatter3d"
           }
          ],
          "scattercarpet": [
           {
            "marker": {
             "colorbar": {
              "outlinewidth": 0,
              "ticks": ""
             }
            },
            "type": "scattercarpet"
           }
          ],
          "scattergeo": [
           {
            "marker": {
             "colorbar": {
              "outlinewidth": 0,
              "ticks": ""
             }
            },
            "type": "scattergeo"
           }
          ],
          "scattergl": [
           {
            "marker": {
             "colorbar": {
              "outlinewidth": 0,
              "ticks": ""
             }
            },
            "type": "scattergl"
           }
          ],
          "scattermapbox": [
           {
            "marker": {
             "colorbar": {
              "outlinewidth": 0,
              "ticks": ""
             }
            },
            "type": "scattermapbox"
           }
          ],
          "scatterpolar": [
           {
            "marker": {
             "colorbar": {
              "outlinewidth": 0,
              "ticks": ""
             }
            },
            "type": "scatterpolar"
           }
          ],
          "scatterpolargl": [
           {
            "marker": {
             "colorbar": {
              "outlinewidth": 0,
              "ticks": ""
             }
            },
            "type": "scatterpolargl"
           }
          ],
          "scatterternary": [
           {
            "marker": {
             "colorbar": {
              "outlinewidth": 0,
              "ticks": ""
             }
            },
            "type": "scatterternary"
           }
          ],
          "surface": [
           {
            "colorbar": {
             "outlinewidth": 0,
             "ticks": ""
            },
            "colorscale": [
             [
              0,
              "#0d0887"
             ],
             [
              0.1111111111111111,
              "#46039f"
             ],
             [
              0.2222222222222222,
              "#7201a8"
             ],
             [
              0.3333333333333333,
              "#9c179e"
             ],
             [
              0.4444444444444444,
              "#bd3786"
             ],
             [
              0.5555555555555556,
              "#d8576b"
             ],
             [
              0.6666666666666666,
              "#ed7953"
             ],
             [
              0.7777777777777778,
              "#fb9f3a"
             ],
             [
              0.8888888888888888,
              "#fdca26"
             ],
             [
              1,
              "#f0f921"
             ]
            ],
            "type": "surface"
           }
          ],
          "table": [
           {
            "cells": {
             "fill": {
              "color": "#EBF0F8"
             },
             "line": {
              "color": "white"
             }
            },
            "header": {
             "fill": {
              "color": "#C8D4E3"
             },
             "line": {
              "color": "white"
             }
            },
            "type": "table"
           }
          ]
         },
         "layout": {
          "annotationdefaults": {
           "arrowcolor": "#2a3f5f",
           "arrowhead": 0,
           "arrowwidth": 1
          },
          "autotypenumbers": "strict",
          "coloraxis": {
           "colorbar": {
            "outlinewidth": 0,
            "ticks": ""
           }
          },
          "colorscale": {
           "diverging": [
            [
             0,
             "#8e0152"
            ],
            [
             0.1,
             "#c51b7d"
            ],
            [
             0.2,
             "#de77ae"
            ],
            [
             0.3,
             "#f1b6da"
            ],
            [
             0.4,
             "#fde0ef"
            ],
            [
             0.5,
             "#f7f7f7"
            ],
            [
             0.6,
             "#e6f5d0"
            ],
            [
             0.7,
             "#b8e186"
            ],
            [
             0.8,
             "#7fbc41"
            ],
            [
             0.9,
             "#4d9221"
            ],
            [
             1,
             "#276419"
            ]
           ],
           "sequential": [
            [
             0,
             "#0d0887"
            ],
            [
             0.1111111111111111,
             "#46039f"
            ],
            [
             0.2222222222222222,
             "#7201a8"
            ],
            [
             0.3333333333333333,
             "#9c179e"
            ],
            [
             0.4444444444444444,
             "#bd3786"
            ],
            [
             0.5555555555555556,
             "#d8576b"
            ],
            [
             0.6666666666666666,
             "#ed7953"
            ],
            [
             0.7777777777777778,
             "#fb9f3a"
            ],
            [
             0.8888888888888888,
             "#fdca26"
            ],
            [
             1,
             "#f0f921"
            ]
           ],
           "sequentialminus": [
            [
             0,
             "#0d0887"
            ],
            [
             0.1111111111111111,
             "#46039f"
            ],
            [
             0.2222222222222222,
             "#7201a8"
            ],
            [
             0.3333333333333333,
             "#9c179e"
            ],
            [
             0.4444444444444444,
             "#bd3786"
            ],
            [
             0.5555555555555556,
             "#d8576b"
            ],
            [
             0.6666666666666666,
             "#ed7953"
            ],
            [
             0.7777777777777778,
             "#fb9f3a"
            ],
            [
             0.8888888888888888,
             "#fdca26"
            ],
            [
             1,
             "#f0f921"
            ]
           ]
          },
          "colorway": [
           "#636efa",
           "#EF553B",
           "#00cc96",
           "#ab63fa",
           "#FFA15A",
           "#19d3f3",
           "#FF6692",
           "#B6E880",
           "#FF97FF",
           "#FECB52"
          ],
          "font": {
           "color": "#2a3f5f"
          },
          "geo": {
           "bgcolor": "white",
           "lakecolor": "white",
           "landcolor": "#E5ECF6",
           "showlakes": true,
           "showland": true,
           "subunitcolor": "white"
          },
          "hoverlabel": {
           "align": "left"
          },
          "hovermode": "closest",
          "mapbox": {
           "style": "light"
          },
          "paper_bgcolor": "white",
          "plot_bgcolor": "#E5ECF6",
          "polar": {
           "angularaxis": {
            "gridcolor": "white",
            "linecolor": "white",
            "ticks": ""
           },
           "bgcolor": "#E5ECF6",
           "radialaxis": {
            "gridcolor": "white",
            "linecolor": "white",
            "ticks": ""
           }
          },
          "scene": {
           "xaxis": {
            "backgroundcolor": "#E5ECF6",
            "gridcolor": "white",
            "gridwidth": 2,
            "linecolor": "white",
            "showbackground": true,
            "ticks": "",
            "zerolinecolor": "white"
           },
           "yaxis": {
            "backgroundcolor": "#E5ECF6",
            "gridcolor": "white",
            "gridwidth": 2,
            "linecolor": "white",
            "showbackground": true,
            "ticks": "",
            "zerolinecolor": "white"
           },
           "zaxis": {
            "backgroundcolor": "#E5ECF6",
            "gridcolor": "white",
            "gridwidth": 2,
            "linecolor": "white",
            "showbackground": true,
            "ticks": "",
            "zerolinecolor": "white"
           }
          },
          "shapedefaults": {
           "line": {
            "color": "#2a3f5f"
           }
          },
          "ternary": {
           "aaxis": {
            "gridcolor": "white",
            "linecolor": "white",
            "ticks": ""
           },
           "baxis": {
            "gridcolor": "white",
            "linecolor": "white",
            "ticks": ""
           },
           "bgcolor": "#E5ECF6",
           "caxis": {
            "gridcolor": "white",
            "linecolor": "white",
            "ticks": ""
           }
          },
          "title": {
           "x": 0.05
          },
          "xaxis": {
           "automargin": true,
           "gridcolor": "white",
           "linecolor": "white",
           "ticks": "",
           "title": {
            "standoff": 15
           },
           "zerolinecolor": "white",
           "zerolinewidth": 2
          },
          "yaxis": {
           "automargin": true,
           "gridcolor": "white",
           "linecolor": "white",
           "ticks": "",
           "title": {
            "standoff": 15
           },
           "zerolinecolor": "white",
           "zerolinewidth": 2
          }
         }
        },
        "title": {
         "font": {
          "size": 24
         },
         "text": "Metropolitan Police"
        },
        "xaxis": {
         "anchor": "y",
         "domain": [
          0,
          1
         ],
         "title": {
          "font": {
           "size": 20
          },
          "text": "Date"
         }
        },
        "yaxis": {
         "anchor": "x",
         "domain": [
          0,
          1
         ],
         "title": {
          "font": {
           "size": 20
          },
          "text": "Number of Accidents"
         }
        }
       }
      }
     },
     "metadata": {},
     "output_type": "display_data"
    }
   ],
   "source": [
    "df_mp = df_ta[df_ta[\"Police_Force\"] == \"Metropolitan Police\"]\n",
    "df_mp[\"Accident Date\"] = pd.to_datetime(df_mp[\"Accident Date\"])\n",
    "df_mp_dayly_count = df_mp.groupby(\"Accident Date\").count()[\"Accident_Index\"]\n",
    "\n",
    "df_mp_dayly_count = df_mp_dayly_count.reset_index().rename({\"Accident_Index\": \"counts\"}, axis=1)\n",
    "fig = px.line(\n",
    "    df_mp_dayly_count,\n",
    "    x='Accident Date',\n",
    "    y='counts',\n",
    "    title='Metropolitan Police',\n",
    "    labels={'Accident Date': 'Date', 'counts': 'Number of Accidents'}  # 自定义标签\n",
    ")\n",
    "fig.update_layout(\n",
    "    title_font_size=24,  # 标题字体大小\n",
    "    xaxis_title_font_size=20,  # X轴标题字体大小\n",
    "    yaxis_title_font_size=20,  # Y轴标题字体大小\n",
    "    legend_font_size=16,  # 图例字体大小\n",
    "    font=dict(size=16)  # 其他字体大小\n",
    ")\n",
    "\n",
    "# 显示图形\n",
    "fig.show()"
   ]
  },
  {
   "cell_type": "code",
   "execution_count": 6,
   "metadata": {},
   "outputs": [
    {
     "name": "stderr",
     "output_type": "stream",
     "text": [
      "/var/folders/4t/k648lnt161n8zjprt2d7p8d00000gn/T/ipykernel_71435/52923192.py:2: SettingWithCopyWarning:\n",
      "\n",
      "\n",
      "A value is trying to be set on a copy of a slice from a DataFrame.\n",
      "Try using .loc[row_indexer,col_indexer] = value instead\n",
      "\n",
      "See the caveats in the documentation: https://pandas.pydata.org/pandas-docs/stable/user_guide/indexing.html#returning-a-view-versus-a-copy\n",
      "\n"
     ]
    },
    {
     "data": {
      "application/vnd.plotly.v1+json": {
       "config": {
        "plotlyServerURL": "https://plot.ly"
       },
       "data": [
        {
         "hovertemplate": "Date=%{x}<br>Number of Accidents=%{y}<extra></extra>",
         "legendgroup": "",
         "line": {
          "color": "#636efa",
          "dash": "solid"
         },
         "marker": {
          "symbol": "circle"
         },
         "mode": "lines",
         "name": "",
         "orientation": "v",
         "showlegend": false,
         "type": "scatter",
         "x": [
          "2021-01-01T00:00:00",
          "2021-01-02T00:00:00",
          "2021-01-03T00:00:00",
          "2021-01-04T00:00:00",
          "2021-01-05T00:00:00",
          "2021-01-06T00:00:00",
          "2021-01-07T00:00:00",
          "2021-01-08T00:00:00",
          "2021-01-09T00:00:00",
          "2021-01-10T00:00:00",
          "2021-01-11T00:00:00",
          "2021-01-12T00:00:00",
          "2021-01-13T00:00:00",
          "2021-01-14T00:00:00",
          "2021-01-15T00:00:00",
          "2021-01-16T00:00:00",
          "2021-01-17T00:00:00",
          "2021-01-18T00:00:00",
          "2021-01-19T00:00:00",
          "2021-01-20T00:00:00",
          "2021-01-21T00:00:00",
          "2021-01-22T00:00:00",
          "2021-01-23T00:00:00",
          "2021-01-24T00:00:00",
          "2021-01-25T00:00:00",
          "2021-01-26T00:00:00",
          "2021-01-27T00:00:00",
          "2021-01-28T00:00:00",
          "2021-01-29T00:00:00",
          "2021-01-30T00:00:00",
          "2021-01-31T00:00:00",
          "2021-02-01T00:00:00",
          "2021-02-02T00:00:00",
          "2021-02-03T00:00:00",
          "2021-02-04T00:00:00",
          "2021-02-05T00:00:00",
          "2021-02-06T00:00:00",
          "2021-02-07T00:00:00",
          "2021-02-08T00:00:00",
          "2021-02-09T00:00:00",
          "2021-02-10T00:00:00",
          "2021-02-11T00:00:00",
          "2021-02-12T00:00:00",
          "2021-02-13T00:00:00",
          "2021-02-14T00:00:00",
          "2021-02-15T00:00:00",
          "2021-02-16T00:00:00",
          "2021-02-17T00:00:00",
          "2021-02-18T00:00:00",
          "2021-02-19T00:00:00",
          "2021-02-20T00:00:00",
          "2021-02-21T00:00:00",
          "2021-02-22T00:00:00",
          "2021-02-23T00:00:00",
          "2021-02-24T00:00:00",
          "2021-02-25T00:00:00",
          "2021-02-26T00:00:00",
          "2021-02-27T00:00:00",
          "2021-02-28T00:00:00",
          "2021-03-01T00:00:00",
          "2021-03-02T00:00:00",
          "2021-03-03T00:00:00",
          "2021-03-04T00:00:00",
          "2021-03-05T00:00:00",
          "2021-03-06T00:00:00",
          "2021-03-07T00:00:00",
          "2021-03-08T00:00:00",
          "2021-03-09T00:00:00",
          "2021-03-10T00:00:00",
          "2021-03-11T00:00:00",
          "2021-03-12T00:00:00",
          "2021-03-13T00:00:00",
          "2021-03-14T00:00:00",
          "2021-03-15T00:00:00",
          "2021-03-16T00:00:00",
          "2021-03-17T00:00:00",
          "2021-03-18T00:00:00",
          "2021-03-19T00:00:00",
          "2021-03-20T00:00:00",
          "2021-03-21T00:00:00",
          "2021-03-22T00:00:00",
          "2021-03-23T00:00:00",
          "2021-03-24T00:00:00",
          "2021-03-25T00:00:00",
          "2021-03-26T00:00:00",
          "2021-03-27T00:00:00",
          "2021-03-28T00:00:00",
          "2021-03-29T00:00:00",
          "2021-03-30T00:00:00",
          "2021-03-31T00:00:00",
          "2021-04-01T00:00:00",
          "2021-04-02T00:00:00",
          "2021-04-03T00:00:00",
          "2021-04-04T00:00:00",
          "2021-04-05T00:00:00",
          "2021-04-06T00:00:00",
          "2021-04-07T00:00:00",
          "2021-04-08T00:00:00",
          "2021-04-09T00:00:00",
          "2021-04-10T00:00:00",
          "2021-04-11T00:00:00",
          "2021-04-12T00:00:00",
          "2021-04-13T00:00:00",
          "2021-04-14T00:00:00",
          "2021-04-15T00:00:00",
          "2021-04-16T00:00:00",
          "2021-04-17T00:00:00",
          "2021-04-18T00:00:00",
          "2021-04-19T00:00:00",
          "2021-04-20T00:00:00",
          "2021-04-21T00:00:00",
          "2021-04-22T00:00:00",
          "2021-04-23T00:00:00",
          "2021-04-24T00:00:00",
          "2021-04-25T00:00:00",
          "2021-04-26T00:00:00",
          "2021-04-27T00:00:00",
          "2021-04-28T00:00:00",
          "2021-04-29T00:00:00",
          "2021-04-30T00:00:00",
          "2021-05-01T00:00:00",
          "2021-05-02T00:00:00",
          "2021-05-03T00:00:00",
          "2021-05-04T00:00:00",
          "2021-05-05T00:00:00",
          "2021-05-06T00:00:00",
          "2021-05-07T00:00:00",
          "2021-05-08T00:00:00",
          "2021-05-09T00:00:00",
          "2021-05-10T00:00:00",
          "2021-05-11T00:00:00",
          "2021-05-12T00:00:00",
          "2021-05-13T00:00:00",
          "2021-05-14T00:00:00",
          "2021-05-15T00:00:00",
          "2021-05-16T00:00:00",
          "2021-05-17T00:00:00",
          "2021-05-18T00:00:00",
          "2021-05-19T00:00:00",
          "2021-05-20T00:00:00",
          "2021-05-21T00:00:00",
          "2021-05-22T00:00:00",
          "2021-05-23T00:00:00",
          "2021-05-24T00:00:00",
          "2021-05-25T00:00:00",
          "2021-05-26T00:00:00",
          "2021-05-27T00:00:00",
          "2021-05-28T00:00:00",
          "2021-05-29T00:00:00",
          "2021-05-30T00:00:00",
          "2021-05-31T00:00:00",
          "2021-06-01T00:00:00",
          "2021-06-02T00:00:00",
          "2021-06-03T00:00:00",
          "2021-06-04T00:00:00",
          "2021-06-05T00:00:00",
          "2021-06-06T00:00:00",
          "2021-06-07T00:00:00",
          "2021-06-08T00:00:00",
          "2021-06-09T00:00:00",
          "2021-06-10T00:00:00",
          "2021-06-11T00:00:00",
          "2021-06-12T00:00:00",
          "2021-06-13T00:00:00",
          "2021-06-14T00:00:00",
          "2021-06-15T00:00:00",
          "2021-06-16T00:00:00",
          "2021-06-17T00:00:00",
          "2021-06-18T00:00:00",
          "2021-06-19T00:00:00",
          "2021-06-20T00:00:00",
          "2021-06-21T00:00:00",
          "2021-06-22T00:00:00",
          "2021-06-23T00:00:00",
          "2021-06-24T00:00:00",
          "2021-06-25T00:00:00",
          "2021-06-26T00:00:00",
          "2021-06-27T00:00:00",
          "2021-06-28T00:00:00",
          "2021-06-29T00:00:00",
          "2021-06-30T00:00:00",
          "2021-07-01T00:00:00",
          "2021-07-02T00:00:00",
          "2021-07-03T00:00:00",
          "2021-07-04T00:00:00",
          "2021-07-05T00:00:00",
          "2021-07-06T00:00:00",
          "2021-07-07T00:00:00",
          "2021-07-08T00:00:00",
          "2021-07-09T00:00:00",
          "2021-07-10T00:00:00",
          "2021-07-11T00:00:00",
          "2021-07-12T00:00:00",
          "2021-07-13T00:00:00",
          "2021-07-14T00:00:00",
          "2021-07-15T00:00:00",
          "2021-07-16T00:00:00",
          "2021-07-17T00:00:00",
          "2021-07-18T00:00:00",
          "2021-07-19T00:00:00",
          "2021-07-20T00:00:00",
          "2021-07-21T00:00:00",
          "2021-07-22T00:00:00",
          "2021-07-23T00:00:00",
          "2021-07-24T00:00:00",
          "2021-07-25T00:00:00",
          "2021-07-26T00:00:00",
          "2021-07-27T00:00:00",
          "2021-07-28T00:00:00",
          "2021-07-29T00:00:00",
          "2021-07-30T00:00:00",
          "2021-07-31T00:00:00",
          "2021-08-01T00:00:00",
          "2021-08-02T00:00:00",
          "2021-08-03T00:00:00",
          "2021-08-04T00:00:00",
          "2021-08-05T00:00:00",
          "2021-08-06T00:00:00",
          "2021-08-07T00:00:00",
          "2021-08-08T00:00:00",
          "2021-08-09T00:00:00",
          "2021-08-10T00:00:00",
          "2021-08-11T00:00:00",
          "2021-08-12T00:00:00",
          "2021-08-13T00:00:00",
          "2021-08-14T00:00:00",
          "2021-08-15T00:00:00",
          "2021-08-16T00:00:00",
          "2021-08-17T00:00:00",
          "2021-08-18T00:00:00",
          "2021-08-19T00:00:00",
          "2021-08-20T00:00:00",
          "2021-08-21T00:00:00",
          "2021-08-22T00:00:00",
          "2021-08-23T00:00:00",
          "2021-08-24T00:00:00",
          "2021-08-25T00:00:00",
          "2021-08-26T00:00:00",
          "2021-08-27T00:00:00",
          "2021-08-28T00:00:00",
          "2021-08-29T00:00:00",
          "2021-08-30T00:00:00",
          "2021-08-31T00:00:00",
          "2021-09-01T00:00:00",
          "2021-09-02T00:00:00",
          "2021-09-03T00:00:00",
          "2021-09-04T00:00:00",
          "2021-09-05T00:00:00",
          "2021-09-06T00:00:00",
          "2021-09-07T00:00:00",
          "2021-09-08T00:00:00",
          "2021-09-09T00:00:00",
          "2021-09-10T00:00:00",
          "2021-09-11T00:00:00",
          "2021-09-12T00:00:00",
          "2021-09-13T00:00:00",
          "2021-09-14T00:00:00",
          "2021-09-15T00:00:00",
          "2021-09-16T00:00:00",
          "2021-09-17T00:00:00",
          "2021-09-18T00:00:00",
          "2021-09-19T00:00:00",
          "2021-09-20T00:00:00",
          "2021-09-21T00:00:00",
          "2021-09-22T00:00:00",
          "2021-09-23T00:00:00",
          "2021-09-24T00:00:00",
          "2021-09-25T00:00:00",
          "2021-09-26T00:00:00",
          "2021-09-27T00:00:00",
          "2021-09-28T00:00:00",
          "2021-09-29T00:00:00",
          "2021-09-30T00:00:00",
          "2021-10-01T00:00:00",
          "2021-10-02T00:00:00",
          "2021-10-03T00:00:00",
          "2021-10-04T00:00:00",
          "2021-10-05T00:00:00",
          "2021-10-06T00:00:00",
          "2021-10-07T00:00:00",
          "2021-10-08T00:00:00",
          "2021-10-09T00:00:00",
          "2021-10-10T00:00:00",
          "2021-10-11T00:00:00",
          "2021-10-12T00:00:00",
          "2021-10-13T00:00:00",
          "2021-10-14T00:00:00",
          "2021-10-15T00:00:00",
          "2021-10-16T00:00:00",
          "2021-10-17T00:00:00",
          "2021-10-18T00:00:00",
          "2021-10-19T00:00:00",
          "2021-10-20T00:00:00",
          "2021-10-21T00:00:00",
          "2021-10-22T00:00:00",
          "2021-10-23T00:00:00",
          "2021-10-24T00:00:00",
          "2021-10-25T00:00:00",
          "2021-10-26T00:00:00",
          "2021-10-27T00:00:00",
          "2021-10-28T00:00:00",
          "2021-10-29T00:00:00",
          "2021-10-30T00:00:00",
          "2021-10-31T00:00:00",
          "2021-11-01T00:00:00",
          "2021-11-02T00:00:00",
          "2021-11-03T00:00:00",
          "2021-11-04T00:00:00",
          "2021-11-05T00:00:00",
          "2021-11-06T00:00:00",
          "2021-11-07T00:00:00",
          "2021-11-08T00:00:00",
          "2021-11-09T00:00:00",
          "2021-11-10T00:00:00",
          "2021-11-11T00:00:00",
          "2021-11-12T00:00:00",
          "2021-11-13T00:00:00",
          "2021-11-14T00:00:00",
          "2021-11-15T00:00:00",
          "2021-11-16T00:00:00",
          "2021-11-17T00:00:00",
          "2021-11-18T00:00:00",
          "2021-11-19T00:00:00",
          "2021-11-20T00:00:00",
          "2021-11-21T00:00:00",
          "2021-11-22T00:00:00",
          "2021-11-23T00:00:00",
          "2021-11-24T00:00:00",
          "2021-11-25T00:00:00",
          "2021-11-26T00:00:00",
          "2021-11-27T00:00:00",
          "2021-11-28T00:00:00",
          "2021-11-29T00:00:00",
          "2021-11-30T00:00:00",
          "2021-12-01T00:00:00",
          "2021-12-02T00:00:00",
          "2021-12-03T00:00:00",
          "2021-12-04T00:00:00",
          "2021-12-05T00:00:00",
          "2021-12-06T00:00:00",
          "2021-12-07T00:00:00",
          "2021-12-08T00:00:00",
          "2021-12-09T00:00:00",
          "2021-12-10T00:00:00",
          "2021-12-11T00:00:00",
          "2021-12-12T00:00:00",
          "2021-12-13T00:00:00",
          "2021-12-14T00:00:00",
          "2021-12-15T00:00:00",
          "2021-12-16T00:00:00",
          "2021-12-17T00:00:00",
          "2021-12-18T00:00:00",
          "2021-12-19T00:00:00",
          "2021-12-20T00:00:00",
          "2021-12-21T00:00:00",
          "2021-12-22T00:00:00",
          "2021-12-23T00:00:00",
          "2021-12-24T00:00:00",
          "2021-12-25T00:00:00",
          "2021-12-26T00:00:00",
          "2021-12-27T00:00:00",
          "2021-12-28T00:00:00",
          "2021-12-29T00:00:00",
          "2021-12-30T00:00:00",
          "2021-12-31T00:00:00",
          "2022-01-01T00:00:00",
          "2022-01-02T00:00:00",
          "2022-01-03T00:00:00",
          "2022-01-04T00:00:00",
          "2022-01-05T00:00:00",
          "2022-01-06T00:00:00",
          "2022-01-07T00:00:00",
          "2022-01-08T00:00:00",
          "2022-01-09T00:00:00",
          "2022-01-10T00:00:00",
          "2022-01-11T00:00:00",
          "2022-01-12T00:00:00",
          "2022-01-13T00:00:00",
          "2022-01-14T00:00:00",
          "2022-01-15T00:00:00",
          "2022-01-16T00:00:00",
          "2022-01-17T00:00:00",
          "2022-01-18T00:00:00",
          "2022-01-19T00:00:00",
          "2022-01-20T00:00:00",
          "2022-01-21T00:00:00",
          "2022-01-22T00:00:00",
          "2022-01-23T00:00:00",
          "2022-01-24T00:00:00",
          "2022-01-25T00:00:00",
          "2022-01-26T00:00:00",
          "2022-01-27T00:00:00",
          "2022-01-28T00:00:00",
          "2022-01-29T00:00:00",
          "2022-01-30T00:00:00",
          "2022-01-31T00:00:00",
          "2022-02-01T00:00:00",
          "2022-02-02T00:00:00",
          "2022-02-03T00:00:00",
          "2022-02-04T00:00:00",
          "2022-02-05T00:00:00",
          "2022-02-06T00:00:00",
          "2022-02-07T00:00:00",
          "2022-02-08T00:00:00",
          "2022-02-09T00:00:00",
          "2022-02-10T00:00:00",
          "2022-02-11T00:00:00",
          "2022-02-12T00:00:00",
          "2022-02-13T00:00:00",
          "2022-02-14T00:00:00",
          "2022-02-15T00:00:00",
          "2022-02-16T00:00:00",
          "2022-02-17T00:00:00",
          "2022-02-18T00:00:00",
          "2022-02-19T00:00:00",
          "2022-02-20T00:00:00",
          "2022-02-21T00:00:00",
          "2022-02-22T00:00:00",
          "2022-02-23T00:00:00",
          "2022-02-24T00:00:00",
          "2022-02-25T00:00:00",
          "2022-02-26T00:00:00",
          "2022-02-27T00:00:00",
          "2022-02-28T00:00:00",
          "2022-03-01T00:00:00",
          "2022-03-02T00:00:00",
          "2022-03-03T00:00:00",
          "2022-03-04T00:00:00",
          "2022-03-05T00:00:00",
          "2022-03-06T00:00:00",
          "2022-03-07T00:00:00",
          "2022-03-08T00:00:00",
          "2022-03-09T00:00:00",
          "2022-03-10T00:00:00",
          "2022-03-11T00:00:00",
          "2022-03-12T00:00:00",
          "2022-03-13T00:00:00",
          "2022-03-14T00:00:00",
          "2022-03-15T00:00:00",
          "2022-03-16T00:00:00",
          "2022-03-17T00:00:00",
          "2022-03-18T00:00:00",
          "2022-03-19T00:00:00",
          "2022-03-20T00:00:00",
          "2022-03-21T00:00:00",
          "2022-03-22T00:00:00",
          "2022-03-23T00:00:00",
          "2022-03-24T00:00:00",
          "2022-03-25T00:00:00",
          "2022-03-26T00:00:00",
          "2022-03-27T00:00:00",
          "2022-03-28T00:00:00",
          "2022-03-29T00:00:00",
          "2022-03-30T00:00:00",
          "2022-03-31T00:00:00",
          "2022-04-01T00:00:00",
          "2022-04-02T00:00:00",
          "2022-04-03T00:00:00",
          "2022-04-04T00:00:00",
          "2022-04-05T00:00:00",
          "2022-04-06T00:00:00",
          "2022-04-07T00:00:00",
          "2022-04-08T00:00:00",
          "2022-04-09T00:00:00",
          "2022-04-10T00:00:00",
          "2022-04-11T00:00:00",
          "2022-04-12T00:00:00",
          "2022-04-13T00:00:00",
          "2022-04-14T00:00:00",
          "2022-04-15T00:00:00",
          "2022-04-16T00:00:00",
          "2022-04-17T00:00:00",
          "2022-04-18T00:00:00",
          "2022-04-19T00:00:00",
          "2022-04-20T00:00:00",
          "2022-04-21T00:00:00",
          "2022-04-22T00:00:00",
          "2022-04-23T00:00:00",
          "2022-04-24T00:00:00",
          "2022-04-25T00:00:00",
          "2022-04-26T00:00:00",
          "2022-04-27T00:00:00",
          "2022-04-28T00:00:00",
          "2022-04-29T00:00:00",
          "2022-04-30T00:00:00",
          "2022-05-01T00:00:00",
          "2022-05-02T00:00:00",
          "2022-05-03T00:00:00",
          "2022-05-04T00:00:00",
          "2022-05-05T00:00:00",
          "2022-05-06T00:00:00",
          "2022-05-07T00:00:00",
          "2022-05-08T00:00:00",
          "2022-05-09T00:00:00",
          "2022-05-10T00:00:00",
          "2022-05-11T00:00:00",
          "2022-05-12T00:00:00",
          "2022-05-13T00:00:00",
          "2022-05-14T00:00:00",
          "2022-05-15T00:00:00",
          "2022-05-16T00:00:00",
          "2022-05-17T00:00:00",
          "2022-05-18T00:00:00",
          "2022-05-19T00:00:00",
          "2022-05-20T00:00:00",
          "2022-05-21T00:00:00",
          "2022-05-22T00:00:00",
          "2022-05-23T00:00:00",
          "2022-05-24T00:00:00",
          "2022-05-25T00:00:00",
          "2022-05-26T00:00:00",
          "2022-05-27T00:00:00",
          "2022-05-28T00:00:00",
          "2022-05-29T00:00:00",
          "2022-05-30T00:00:00",
          "2022-05-31T00:00:00",
          "2022-06-01T00:00:00",
          "2022-06-02T00:00:00",
          "2022-06-03T00:00:00",
          "2022-06-04T00:00:00",
          "2022-06-05T00:00:00",
          "2022-06-06T00:00:00",
          "2022-06-07T00:00:00",
          "2022-06-08T00:00:00",
          "2022-06-09T00:00:00",
          "2022-06-10T00:00:00",
          "2022-06-11T00:00:00",
          "2022-06-12T00:00:00",
          "2022-06-13T00:00:00",
          "2022-06-14T00:00:00",
          "2022-06-15T00:00:00",
          "2022-06-16T00:00:00",
          "2022-06-17T00:00:00",
          "2022-06-18T00:00:00",
          "2022-06-19T00:00:00",
          "2022-06-20T00:00:00",
          "2022-06-21T00:00:00",
          "2022-06-22T00:00:00",
          "2022-06-23T00:00:00",
          "2022-06-24T00:00:00",
          "2022-06-25T00:00:00",
          "2022-06-26T00:00:00",
          "2022-06-27T00:00:00",
          "2022-06-28T00:00:00",
          "2022-06-29T00:00:00",
          "2022-06-30T00:00:00",
          "2022-07-01T00:00:00",
          "2022-07-02T00:00:00",
          "2022-07-03T00:00:00",
          "2022-07-04T00:00:00",
          "2022-07-05T00:00:00",
          "2022-07-06T00:00:00",
          "2022-07-07T00:00:00",
          "2022-07-08T00:00:00",
          "2022-07-09T00:00:00",
          "2022-07-10T00:00:00",
          "2022-07-11T00:00:00",
          "2022-07-12T00:00:00",
          "2022-07-13T00:00:00",
          "2022-07-14T00:00:00",
          "2022-07-15T00:00:00",
          "2022-07-16T00:00:00",
          "2022-07-17T00:00:00",
          "2022-07-18T00:00:00",
          "2022-07-19T00:00:00",
          "2022-07-20T00:00:00",
          "2022-07-21T00:00:00",
          "2022-07-22T00:00:00",
          "2022-07-23T00:00:00",
          "2022-07-24T00:00:00",
          "2022-07-25T00:00:00",
          "2022-07-26T00:00:00",
          "2022-07-27T00:00:00",
          "2022-07-28T00:00:00",
          "2022-07-29T00:00:00",
          "2022-07-30T00:00:00",
          "2022-07-31T00:00:00",
          "2022-08-01T00:00:00",
          "2022-08-02T00:00:00",
          "2022-08-03T00:00:00",
          "2022-08-04T00:00:00",
          "2022-08-05T00:00:00",
          "2022-08-06T00:00:00",
          "2022-08-07T00:00:00",
          "2022-08-08T00:00:00",
          "2022-08-09T00:00:00",
          "2022-08-10T00:00:00",
          "2022-08-11T00:00:00",
          "2022-08-12T00:00:00",
          "2022-08-13T00:00:00",
          "2022-08-14T00:00:00",
          "2022-08-15T00:00:00",
          "2022-08-16T00:00:00",
          "2022-08-17T00:00:00",
          "2022-08-18T00:00:00",
          "2022-08-19T00:00:00",
          "2022-08-20T00:00:00",
          "2022-08-21T00:00:00",
          "2022-08-22T00:00:00",
          "2022-08-23T00:00:00",
          "2022-08-24T00:00:00",
          "2022-08-25T00:00:00",
          "2022-08-26T00:00:00",
          "2022-08-27T00:00:00",
          "2022-08-28T00:00:00",
          "2022-08-29T00:00:00",
          "2022-08-30T00:00:00",
          "2022-08-31T00:00:00",
          "2022-09-01T00:00:00",
          "2022-09-02T00:00:00",
          "2022-09-03T00:00:00",
          "2022-09-04T00:00:00",
          "2022-09-05T00:00:00",
          "2022-09-06T00:00:00",
          "2022-09-07T00:00:00",
          "2022-09-08T00:00:00",
          "2022-09-09T00:00:00",
          "2022-09-10T00:00:00",
          "2022-09-11T00:00:00",
          "2022-09-12T00:00:00",
          "2022-09-13T00:00:00",
          "2022-09-14T00:00:00",
          "2022-09-15T00:00:00",
          "2022-09-16T00:00:00",
          "2022-09-17T00:00:00",
          "2022-09-18T00:00:00",
          "2022-09-19T00:00:00",
          "2022-09-20T00:00:00",
          "2022-09-21T00:00:00",
          "2022-09-22T00:00:00",
          "2022-09-23T00:00:00",
          "2022-09-24T00:00:00",
          "2022-09-25T00:00:00",
          "2022-09-26T00:00:00",
          "2022-09-27T00:00:00",
          "2022-09-28T00:00:00",
          "2022-09-29T00:00:00",
          "2022-09-30T00:00:00",
          "2022-10-01T00:00:00",
          "2022-10-02T00:00:00",
          "2022-10-03T00:00:00",
          "2022-10-04T00:00:00",
          "2022-10-05T00:00:00",
          "2022-10-06T00:00:00",
          "2022-10-07T00:00:00",
          "2022-10-08T00:00:00",
          "2022-10-09T00:00:00",
          "2022-10-10T00:00:00",
          "2022-10-11T00:00:00",
          "2022-10-12T00:00:00",
          "2022-10-13T00:00:00",
          "2022-10-14T00:00:00",
          "2022-10-15T00:00:00",
          "2022-10-16T00:00:00",
          "2022-10-17T00:00:00",
          "2022-10-18T00:00:00",
          "2022-10-19T00:00:00",
          "2022-10-20T00:00:00",
          "2022-10-21T00:00:00",
          "2022-10-22T00:00:00",
          "2022-10-23T00:00:00",
          "2022-10-24T00:00:00",
          "2022-10-25T00:00:00",
          "2022-10-26T00:00:00",
          "2022-10-27T00:00:00",
          "2022-10-28T00:00:00",
          "2022-10-29T00:00:00",
          "2022-10-30T00:00:00",
          "2022-10-31T00:00:00",
          "2022-11-01T00:00:00",
          "2022-11-02T00:00:00",
          "2022-11-03T00:00:00",
          "2022-11-04T00:00:00",
          "2022-11-05T00:00:00",
          "2022-11-06T00:00:00",
          "2022-11-07T00:00:00",
          "2022-11-08T00:00:00",
          "2022-11-09T00:00:00",
          "2022-11-10T00:00:00",
          "2022-11-11T00:00:00",
          "2022-11-12T00:00:00",
          "2022-11-13T00:00:00",
          "2022-11-14T00:00:00",
          "2022-11-15T00:00:00",
          "2022-11-16T00:00:00",
          "2022-11-17T00:00:00",
          "2022-11-18T00:00:00",
          "2022-11-19T00:00:00",
          "2022-11-20T00:00:00",
          "2022-11-21T00:00:00",
          "2022-11-22T00:00:00",
          "2022-11-23T00:00:00",
          "2022-11-24T00:00:00",
          "2022-11-25T00:00:00",
          "2022-11-26T00:00:00",
          "2022-11-27T00:00:00",
          "2022-11-28T00:00:00",
          "2022-11-29T00:00:00",
          "2022-11-30T00:00:00",
          "2022-12-01T00:00:00",
          "2022-12-02T00:00:00",
          "2022-12-03T00:00:00",
          "2022-12-04T00:00:00",
          "2022-12-05T00:00:00",
          "2022-12-06T00:00:00",
          "2022-12-07T00:00:00",
          "2022-12-08T00:00:00",
          "2022-12-09T00:00:00",
          "2022-12-10T00:00:00",
          "2022-12-11T00:00:00",
          "2022-12-12T00:00:00",
          "2022-12-13T00:00:00",
          "2022-12-14T00:00:00",
          "2022-12-15T00:00:00",
          "2022-12-16T00:00:00",
          "2022-12-17T00:00:00",
          "2022-12-18T00:00:00",
          "2022-12-19T00:00:00",
          "2022-12-20T00:00:00",
          "2022-12-21T00:00:00",
          "2022-12-22T00:00:00",
          "2022-12-23T00:00:00",
          "2022-12-24T00:00:00",
          "2022-12-25T00:00:00",
          "2022-12-26T00:00:00",
          "2022-12-27T00:00:00",
          "2022-12-28T00:00:00",
          "2022-12-29T00:00:00",
          "2022-12-30T00:00:00",
          "2022-12-31T00:00:00"
         ],
         "xaxis": "x",
         "y": [
          34,
          28,
          32,
          42,
          46,
          70,
          40,
          44,
          63,
          50,
          43,
          49,
          62,
          68,
          66,
          68,
          46,
          50,
          67,
          50,
          56,
          53,
          65,
          53,
          39,
          51,
          49,
          73,
          60,
          48,
          63,
          68,
          19,
          29,
          43,
          48,
          40,
          49,
          44,
          73,
          53,
          70,
          63,
          66,
          52,
          44,
          52,
          46,
          48,
          43,
          57,
          58,
          29,
          52,
          40,
          39,
          49,
          80,
          47,
          35,
          71,
          64,
          49,
          50,
          80,
          43,
          57,
          63,
          63,
          70,
          56,
          81,
          52,
          33,
          63,
          61,
          67,
          73,
          85,
          66,
          60,
          71,
          75,
          73,
          68,
          72,
          66,
          39,
          56,
          62,
          75,
          56,
          59,
          48,
          43,
          65,
          70,
          88,
          52,
          48,
          49,
          30,
          30,
          48,
          48,
          68,
          60,
          80,
          42,
          72,
          88,
          83,
          75,
          95,
          61,
          63,
          71,
          59,
          88,
          52,
          92,
          61,
          61,
          24,
          73,
          75,
          55,
          74,
          43,
          52,
          70,
          68,
          48,
          53,
          64,
          56,
          36,
          76,
          78,
          75,
          91,
          64,
          51,
          54,
          38,
          82,
          54,
          66,
          79,
          69,
          62,
          60,
          85,
          63,
          79,
          78,
          55,
          49,
          64,
          69,
          76,
          74,
          78,
          50,
          52,
          75,
          86,
          74,
          68,
          74,
          62,
          61,
          64,
          89,
          74,
          67,
          74,
          68,
          53,
          74,
          85,
          76,
          83,
          88,
          60,
          60,
          66,
          77,
          65,
          69,
          72,
          61,
          55,
          53,
          80,
          63,
          64,
          76,
          65,
          43,
          53,
          62,
          61,
          68,
          67,
          50,
          33,
          62,
          62,
          68,
          54,
          76,
          47,
          40,
          55,
          52,
          59,
          61,
          67,
          68,
          34,
          62,
          50,
          66,
          62,
          66,
          56,
          51,
          61,
          61,
          71,
          57,
          58,
          59,
          42,
          53,
          55,
          63,
          75,
          65,
          53,
          40,
          53,
          57,
          78,
          69,
          70,
          51,
          52,
          64,
          72,
          72,
          73,
          74,
          66,
          38,
          63,
          83,
          90,
          81,
          75,
          62,
          51,
          82,
          78,
          71,
          89,
          90,
          48,
          59,
          60,
          75,
          79,
          75,
          89,
          56,
          49,
          90,
          92,
          76,
          87,
          112,
          52,
          51,
          74,
          81,
          77,
          69,
          76,
          57,
          43,
          55,
          71,
          87,
          75,
          89,
          72,
          57,
          70,
          63,
          74,
          55,
          77,
          85,
          56,
          70,
          95,
          81,
          71,
          99,
          70,
          57,
          67,
          88,
          88,
          104,
          97,
          59,
          55,
          80,
          71,
          69,
          71,
          88,
          77,
          49,
          48,
          71,
          72,
          81,
          80,
          84,
          60,
          80,
          94,
          97,
          88,
          108,
          72,
          59,
          89,
          75,
          62,
          82,
          70,
          76,
          49,
          74,
          66,
          67,
          70,
          61,
          49,
          31,
          47,
          33,
          47,
          37,
          19,
          28,
          36,
          28,
          40,
          45,
          37,
          55,
          33,
          32,
          69,
          66,
          54,
          39,
          37,
          39,
          25,
          46,
          47,
          41,
          38,
          66,
          44,
          47,
          72,
          54,
          63,
          69,
          68,
          42,
          45,
          61,
          66,
          77,
          57,
          87,
          58,
          43,
          76,
          68,
          62,
          66,
          70,
          51,
          35,
          75,
          75,
          69,
          55,
          62,
          61,
          50,
          58,
          63,
          62,
          48,
          48,
          65,
          57,
          68,
          64,
          66,
          76,
          62,
          53,
          44,
          71,
          85,
          45,
          54,
          75,
          68,
          55,
          85,
          48,
          74,
          65,
          84,
          58,
          44,
          64,
          67,
          49,
          63,
          78,
          54,
          42,
          70,
          75,
          65,
          69,
          65,
          61,
          59,
          51,
          74,
          79,
          74,
          50,
          40,
          50,
          30,
          55,
          49,
          60,
          64,
          70,
          47,
          44,
          66,
          54,
          80,
          59,
          58,
          53,
          66,
          75,
          66,
          77,
          95,
          56,
          47,
          64,
          87,
          75,
          68,
          69,
          49,
          35,
          45,
          79,
          68,
          68,
          68,
          59,
          43,
          65,
          75,
          71,
          75,
          82,
          64,
          62,
          75,
          58,
          70,
          59,
          91,
          66,
          60,
          111,
          92,
          85,
          84,
          94,
          60,
          57,
          35,
          85,
          91,
          87,
          83,
          71,
          57,
          70,
          67,
          78,
          50,
          84,
          52,
          49,
          80,
          97,
          85,
          76,
          74,
          49,
          45,
          68,
          91,
          93,
          87,
          80,
          86,
          58,
          78,
          75,
          63,
          74,
          78,
          67,
          54,
          81,
          79,
          87,
          81,
          91,
          73,
          58,
          81,
          59,
          72,
          81,
          74,
          53,
          53,
          59,
          58,
          87,
          71,
          90,
          61,
          39,
          66,
          74,
          96,
          90,
          70,
          59,
          40,
          52,
          58,
          68,
          82,
          71,
          62,
          50,
          61,
          74,
          69,
          53,
          74,
          48,
          41,
          57,
          71,
          67,
          73,
          61,
          56,
          48,
          71,
          76,
          69,
          74,
          61,
          70,
          51,
          40,
          70,
          70,
          61,
          96,
          51,
          43,
          68,
          105,
          73,
          70,
          82,
          62,
          48,
          69,
          74,
          76,
          62,
          77,
          82,
          41,
          80,
          90,
          83,
          87,
          76,
          81,
          50,
          53,
          80,
          117,
          81,
          100,
          78,
          50,
          77,
          62,
          95,
          79,
          88,
          66,
          76,
          80,
          85,
          75,
          82,
          88,
          72,
          65,
          67,
          96,
          98,
          83,
          59,
          71,
          49,
          64,
          79,
          70,
          47,
          80,
          91,
          53,
          59,
          80,
          103,
          70,
          85,
          69,
          43,
          68,
          80,
          82,
          85,
          108,
          53,
          57,
          87,
          86,
          82,
          91,
          89,
          54,
          41,
          69,
          76,
          75,
          63,
          105,
          51,
          49,
          67,
          56,
          28,
          25,
          42,
          46,
          43,
          61,
          69,
          62,
          70,
          71,
          58,
          42,
          79,
          61,
          83,
          76,
          87,
          36,
          31,
          44,
          32,
          36,
          44,
          41,
          24,
          38,
          28,
          24,
          24,
          37,
          31
         ],
         "yaxis": "y"
        }
       ],
       "layout": {
        "legend": {
         "tracegroupgap": 0
        },
        "template": {
         "data": {
          "bar": [
           {
            "error_x": {
             "color": "#2a3f5f"
            },
            "error_y": {
             "color": "#2a3f5f"
            },
            "marker": {
             "line": {
              "color": "#E5ECF6",
              "width": 0.5
             },
             "pattern": {
              "fillmode": "overlay",
              "size": 10,
              "solidity": 0.2
             }
            },
            "type": "bar"
           }
          ],
          "barpolar": [
           {
            "marker": {
             "line": {
              "color": "#E5ECF6",
              "width": 0.5
             },
             "pattern": {
              "fillmode": "overlay",
              "size": 10,
              "solidity": 0.2
             }
            },
            "type": "barpolar"
           }
          ],
          "carpet": [
           {
            "aaxis": {
             "endlinecolor": "#2a3f5f",
             "gridcolor": "white",
             "linecolor": "white",
             "minorgridcolor": "white",
             "startlinecolor": "#2a3f5f"
            },
            "baxis": {
             "endlinecolor": "#2a3f5f",
             "gridcolor": "white",
             "linecolor": "white",
             "minorgridcolor": "white",
             "startlinecolor": "#2a3f5f"
            },
            "type": "carpet"
           }
          ],
          "choropleth": [
           {
            "colorbar": {
             "outlinewidth": 0,
             "ticks": ""
            },
            "type": "choropleth"
           }
          ],
          "contour": [
           {
            "colorbar": {
             "outlinewidth": 0,
             "ticks": ""
            },
            "colorscale": [
             [
              0,
              "#0d0887"
             ],
             [
              0.1111111111111111,
              "#46039f"
             ],
             [
              0.2222222222222222,
              "#7201a8"
             ],
             [
              0.3333333333333333,
              "#9c179e"
             ],
             [
              0.4444444444444444,
              "#bd3786"
             ],
             [
              0.5555555555555556,
              "#d8576b"
             ],
             [
              0.6666666666666666,
              "#ed7953"
             ],
             [
              0.7777777777777778,
              "#fb9f3a"
             ],
             [
              0.8888888888888888,
              "#fdca26"
             ],
             [
              1,
              "#f0f921"
             ]
            ],
            "type": "contour"
           }
          ],
          "contourcarpet": [
           {
            "colorbar": {
             "outlinewidth": 0,
             "ticks": ""
            },
            "type": "contourcarpet"
           }
          ],
          "heatmap": [
           {
            "colorbar": {
             "outlinewidth": 0,
             "ticks": ""
            },
            "colorscale": [
             [
              0,
              "#0d0887"
             ],
             [
              0.1111111111111111,
              "#46039f"
             ],
             [
              0.2222222222222222,
              "#7201a8"
             ],
             [
              0.3333333333333333,
              "#9c179e"
             ],
             [
              0.4444444444444444,
              "#bd3786"
             ],
             [
              0.5555555555555556,
              "#d8576b"
             ],
             [
              0.6666666666666666,
              "#ed7953"
             ],
             [
              0.7777777777777778,
              "#fb9f3a"
             ],
             [
              0.8888888888888888,
              "#fdca26"
             ],
             [
              1,
              "#f0f921"
             ]
            ],
            "type": "heatmap"
           }
          ],
          "heatmapgl": [
           {
            "colorbar": {
             "outlinewidth": 0,
             "ticks": ""
            },
            "colorscale": [
             [
              0,
              "#0d0887"
             ],
             [
              0.1111111111111111,
              "#46039f"
             ],
             [
              0.2222222222222222,
              "#7201a8"
             ],
             [
              0.3333333333333333,
              "#9c179e"
             ],
             [
              0.4444444444444444,
              "#bd3786"
             ],
             [
              0.5555555555555556,
              "#d8576b"
             ],
             [
              0.6666666666666666,
              "#ed7953"
             ],
             [
              0.7777777777777778,
              "#fb9f3a"
             ],
             [
              0.8888888888888888,
              "#fdca26"
             ],
             [
              1,
              "#f0f921"
             ]
            ],
            "type": "heatmapgl"
           }
          ],
          "histogram": [
           {
            "marker": {
             "pattern": {
              "fillmode": "overlay",
              "size": 10,
              "solidity": 0.2
             }
            },
            "type": "histogram"
           }
          ],
          "histogram2d": [
           {
            "colorbar": {
             "outlinewidth": 0,
             "ticks": ""
            },
            "colorscale": [
             [
              0,
              "#0d0887"
             ],
             [
              0.1111111111111111,
              "#46039f"
             ],
             [
              0.2222222222222222,
              "#7201a8"
             ],
             [
              0.3333333333333333,
              "#9c179e"
             ],
             [
              0.4444444444444444,
              "#bd3786"
             ],
             [
              0.5555555555555556,
              "#d8576b"
             ],
             [
              0.6666666666666666,
              "#ed7953"
             ],
             [
              0.7777777777777778,
              "#fb9f3a"
             ],
             [
              0.8888888888888888,
              "#fdca26"
             ],
             [
              1,
              "#f0f921"
             ]
            ],
            "type": "histogram2d"
           }
          ],
          "histogram2dcontour": [
           {
            "colorbar": {
             "outlinewidth": 0,
             "ticks": ""
            },
            "colorscale": [
             [
              0,
              "#0d0887"
             ],
             [
              0.1111111111111111,
              "#46039f"
             ],
             [
              0.2222222222222222,
              "#7201a8"
             ],
             [
              0.3333333333333333,
              "#9c179e"
             ],
             [
              0.4444444444444444,
              "#bd3786"
             ],
             [
              0.5555555555555556,
              "#d8576b"
             ],
             [
              0.6666666666666666,
              "#ed7953"
             ],
             [
              0.7777777777777778,
              "#fb9f3a"
             ],
             [
              0.8888888888888888,
              "#fdca26"
             ],
             [
              1,
              "#f0f921"
             ]
            ],
            "type": "histogram2dcontour"
           }
          ],
          "mesh3d": [
           {
            "colorbar": {
             "outlinewidth": 0,
             "ticks": ""
            },
            "type": "mesh3d"
           }
          ],
          "parcoords": [
           {
            "line": {
             "colorbar": {
              "outlinewidth": 0,
              "ticks": ""
             }
            },
            "type": "parcoords"
           }
          ],
          "pie": [
           {
            "automargin": true,
            "type": "pie"
           }
          ],
          "scatter": [
           {
            "fillpattern": {
             "fillmode": "overlay",
             "size": 10,
             "solidity": 0.2
            },
            "type": "scatter"
           }
          ],
          "scatter3d": [
           {
            "line": {
             "colorbar": {
              "outlinewidth": 0,
              "ticks": ""
             }
            },
            "marker": {
             "colorbar": {
              "outlinewidth": 0,
              "ticks": ""
             }
            },
            "type": "scatter3d"
           }
          ],
          "scattercarpet": [
           {
            "marker": {
             "colorbar": {
              "outlinewidth": 0,
              "ticks": ""
             }
            },
            "type": "scattercarpet"
           }
          ],
          "scattergeo": [
           {
            "marker": {
             "colorbar": {
              "outlinewidth": 0,
              "ticks": ""
             }
            },
            "type": "scattergeo"
           }
          ],
          "scattergl": [
           {
            "marker": {
             "colorbar": {
              "outlinewidth": 0,
              "ticks": ""
             }
            },
            "type": "scattergl"
           }
          ],
          "scattermapbox": [
           {
            "marker": {
             "colorbar": {
              "outlinewidth": 0,
              "ticks": ""
             }
            },
            "type": "scattermapbox"
           }
          ],
          "scatterpolar": [
           {
            "marker": {
             "colorbar": {
              "outlinewidth": 0,
              "ticks": ""
             }
            },
            "type": "scatterpolar"
           }
          ],
          "scatterpolargl": [
           {
            "marker": {
             "colorbar": {
              "outlinewidth": 0,
              "ticks": ""
             }
            },
            "type": "scatterpolargl"
           }
          ],
          "scatterternary": [
           {
            "marker": {
             "colorbar": {
              "outlinewidth": 0,
              "ticks": ""
             }
            },
            "type": "scatterternary"
           }
          ],
          "surface": [
           {
            "colorbar": {
             "outlinewidth": 0,
             "ticks": ""
            },
            "colorscale": [
             [
              0,
              "#0d0887"
             ],
             [
              0.1111111111111111,
              "#46039f"
             ],
             [
              0.2222222222222222,
              "#7201a8"
             ],
             [
              0.3333333333333333,
              "#9c179e"
             ],
             [
              0.4444444444444444,
              "#bd3786"
             ],
             [
              0.5555555555555556,
              "#d8576b"
             ],
             [
              0.6666666666666666,
              "#ed7953"
             ],
             [
              0.7777777777777778,
              "#fb9f3a"
             ],
             [
              0.8888888888888888,
              "#fdca26"
             ],
             [
              1,
              "#f0f921"
             ]
            ],
            "type": "surface"
           }
          ],
          "table": [
           {
            "cells": {
             "fill": {
              "color": "#EBF0F8"
             },
             "line": {
              "color": "white"
             }
            },
            "header": {
             "fill": {
              "color": "#C8D4E3"
             },
             "line": {
              "color": "white"
             }
            },
            "type": "table"
           }
          ]
         },
         "layout": {
          "annotationdefaults": {
           "arrowcolor": "#2a3f5f",
           "arrowhead": 0,
           "arrowwidth": 1
          },
          "autotypenumbers": "strict",
          "coloraxis": {
           "colorbar": {
            "outlinewidth": 0,
            "ticks": ""
           }
          },
          "colorscale": {
           "diverging": [
            [
             0,
             "#8e0152"
            ],
            [
             0.1,
             "#c51b7d"
            ],
            [
             0.2,
             "#de77ae"
            ],
            [
             0.3,
             "#f1b6da"
            ],
            [
             0.4,
             "#fde0ef"
            ],
            [
             0.5,
             "#f7f7f7"
            ],
            [
             0.6,
             "#e6f5d0"
            ],
            [
             0.7,
             "#b8e186"
            ],
            [
             0.8,
             "#7fbc41"
            ],
            [
             0.9,
             "#4d9221"
            ],
            [
             1,
             "#276419"
            ]
           ],
           "sequential": [
            [
             0,
             "#0d0887"
            ],
            [
             0.1111111111111111,
             "#46039f"
            ],
            [
             0.2222222222222222,
             "#7201a8"
            ],
            [
             0.3333333333333333,
             "#9c179e"
            ],
            [
             0.4444444444444444,
             "#bd3786"
            ],
            [
             0.5555555555555556,
             "#d8576b"
            ],
            [
             0.6666666666666666,
             "#ed7953"
            ],
            [
             0.7777777777777778,
             "#fb9f3a"
            ],
            [
             0.8888888888888888,
             "#fdca26"
            ],
            [
             1,
             "#f0f921"
            ]
           ],
           "sequentialminus": [
            [
             0,
             "#0d0887"
            ],
            [
             0.1111111111111111,
             "#46039f"
            ],
            [
             0.2222222222222222,
             "#7201a8"
            ],
            [
             0.3333333333333333,
             "#9c179e"
            ],
            [
             0.4444444444444444,
             "#bd3786"
            ],
            [
             0.5555555555555556,
             "#d8576b"
            ],
            [
             0.6666666666666666,
             "#ed7953"
            ],
            [
             0.7777777777777778,
             "#fb9f3a"
            ],
            [
             0.8888888888888888,
             "#fdca26"
            ],
            [
             1,
             "#f0f921"
            ]
           ]
          },
          "colorway": [
           "#636efa",
           "#EF553B",
           "#00cc96",
           "#ab63fa",
           "#FFA15A",
           "#19d3f3",
           "#FF6692",
           "#B6E880",
           "#FF97FF",
           "#FECB52"
          ],
          "font": {
           "color": "#2a3f5f"
          },
          "geo": {
           "bgcolor": "white",
           "lakecolor": "white",
           "landcolor": "#E5ECF6",
           "showlakes": true,
           "showland": true,
           "subunitcolor": "white"
          },
          "hoverlabel": {
           "align": "left"
          },
          "hovermode": "closest",
          "mapbox": {
           "style": "light"
          },
          "paper_bgcolor": "white",
          "plot_bgcolor": "#E5ECF6",
          "polar": {
           "angularaxis": {
            "gridcolor": "white",
            "linecolor": "white",
            "ticks": ""
           },
           "bgcolor": "#E5ECF6",
           "radialaxis": {
            "gridcolor": "white",
            "linecolor": "white",
            "ticks": ""
           }
          },
          "scene": {
           "xaxis": {
            "backgroundcolor": "#E5ECF6",
            "gridcolor": "white",
            "gridwidth": 2,
            "linecolor": "white",
            "showbackground": true,
            "ticks": "",
            "zerolinecolor": "white"
           },
           "yaxis": {
            "backgroundcolor": "#E5ECF6",
            "gridcolor": "white",
            "gridwidth": 2,
            "linecolor": "white",
            "showbackground": true,
            "ticks": "",
            "zerolinecolor": "white"
           },
           "zaxis": {
            "backgroundcolor": "#E5ECF6",
            "gridcolor": "white",
            "gridwidth": 2,
            "linecolor": "white",
            "showbackground": true,
            "ticks": "",
            "zerolinecolor": "white"
           }
          },
          "shapedefaults": {
           "line": {
            "color": "#2a3f5f"
           }
          },
          "ternary": {
           "aaxis": {
            "gridcolor": "white",
            "linecolor": "white",
            "ticks": ""
           },
           "baxis": {
            "gridcolor": "white",
            "linecolor": "white",
            "ticks": ""
           },
           "bgcolor": "#E5ECF6",
           "caxis": {
            "gridcolor": "white",
            "linecolor": "white",
            "ticks": ""
           }
          },
          "title": {
           "x": 0.05
          },
          "xaxis": {
           "automargin": true,
           "gridcolor": "white",
           "linecolor": "white",
           "ticks": "",
           "title": {
            "standoff": 15
           },
           "zerolinecolor": "white",
           "zerolinewidth": 2
          },
          "yaxis": {
           "automargin": true,
           "gridcolor": "white",
           "linecolor": "white",
           "ticks": "",
           "title": {
            "standoff": 15
           },
           "zerolinecolor": "white",
           "zerolinewidth": 2
          }
         }
        },
        "title": {
         "text": "Metropolitan Police"
        },
        "xaxis": {
         "anchor": "y",
         "domain": [
          0,
          1
         ],
         "title": {
          "text": "Date"
         }
        },
        "yaxis": {
         "anchor": "x",
         "domain": [
          0,
          1
         ],
         "title": {
          "text": "Number of Accidents"
         }
        }
       }
      }
     },
     "metadata": {},
     "output_type": "display_data"
    }
   ],
   "source": [
    "df_mp = df_ta[df_ta[\"Police_Force\"] == \"Metropolitan Police\"]\n",
    "df_mp[\"Accident Date\"] = pd.to_datetime(df_mp[\"Accident Date\"])\n",
    "df_mp_dayly_count = df_mp.groupby(\"Accident Date\").count()[\"Accident_Index\"]\n",
    "\n",
    "df_mp_dayly_count = df_mp_dayly_count.reset_index().rename({\"Accident_Index\": \"counts\"}, axis=1)\n",
    "fig = px.line(\n",
    "    df_mp_dayly_count,\n",
    "    x='Accident Date',\n",
    "    y='counts',\n",
    "    title='Metropolitan Police',\n",
    "    labels={'Accident Date': 'Date', 'counts': 'Number of Accidents'}  # 自定义标签\n",
    ")\n",
    "\n",
    "# 显示图形\n",
    "fig.show()"
   ]
  },
  {
   "cell_type": "code",
   "execution_count": 7,
   "metadata": {},
   "outputs": [
    {
     "data": {
      "text/html": [
       "<div>\n",
       "<style scoped>\n",
       "    .dataframe tbody tr th:only-of-type {\n",
       "        vertical-align: middle;\n",
       "    }\n",
       "\n",
       "    .dataframe tbody tr th {\n",
       "        vertical-align: top;\n",
       "    }\n",
       "\n",
       "    .dataframe thead th {\n",
       "        text-align: right;\n",
       "    }\n",
       "</style>\n",
       "<table border=\"1\" class=\"dataframe\">\n",
       "  <thead>\n",
       "    <tr style=\"text-align: right;\">\n",
       "      <th></th>\n",
       "      <th>Accident_Index</th>\n",
       "      <th>Accident Date</th>\n",
       "      <th>Day_of_Week</th>\n",
       "      <th>Junction_Control</th>\n",
       "      <th>Junction_Detail</th>\n",
       "      <th>Accident_Severity</th>\n",
       "      <th>Latitude</th>\n",
       "      <th>Light_Conditions</th>\n",
       "      <th>Local_Authority_(District)</th>\n",
       "      <th>Carriageway_Hazards</th>\n",
       "      <th>Longitude</th>\n",
       "      <th>Number_of_Casualties</th>\n",
       "      <th>Number_of_Vehicles</th>\n",
       "      <th>Police_Force</th>\n",
       "      <th>Road_Surface_Conditions</th>\n",
       "      <th>Road_Type</th>\n",
       "      <th>Speed_limit</th>\n",
       "      <th>Time</th>\n",
       "      <th>Urban_or_Rural_Area</th>\n",
       "      <th>Weather_Conditions</th>\n",
       "      <th>Vehicle_Type</th>\n",
       "    </tr>\n",
       "  </thead>\n",
       "  <tbody>\n",
       "    <tr>\n",
       "      <th>0</th>\n",
       "      <td>200901BS70001</td>\n",
       "      <td>1/1/2021</td>\n",
       "      <td>Thursday</td>\n",
       "      <td>Give way or uncontrolled</td>\n",
       "      <td>T or staggered junction</td>\n",
       "      <td>Serious</td>\n",
       "      <td>51.512273</td>\n",
       "      <td>Daylight</td>\n",
       "      <td>Kensington and Chelsea</td>\n",
       "      <td>None</td>\n",
       "      <td>-0.201349</td>\n",
       "      <td>1</td>\n",
       "      <td>2</td>\n",
       "      <td>Metropolitan Police</td>\n",
       "      <td>Dry</td>\n",
       "      <td>One way street</td>\n",
       "      <td>30</td>\n",
       "      <td>15:11</td>\n",
       "      <td>Urban</td>\n",
       "      <td>Fine no high winds</td>\n",
       "      <td>Car</td>\n",
       "    </tr>\n",
       "    <tr>\n",
       "      <th>1</th>\n",
       "      <td>200901BS70002</td>\n",
       "      <td>1/5/2021</td>\n",
       "      <td>Monday</td>\n",
       "      <td>Give way or uncontrolled</td>\n",
       "      <td>Crossroads</td>\n",
       "      <td>Serious</td>\n",
       "      <td>51.514399</td>\n",
       "      <td>Daylight</td>\n",
       "      <td>Kensington and Chelsea</td>\n",
       "      <td>None</td>\n",
       "      <td>-0.199248</td>\n",
       "      <td>11</td>\n",
       "      <td>2</td>\n",
       "      <td>Metropolitan Police</td>\n",
       "      <td>Wet or damp</td>\n",
       "      <td>Single carriageway</td>\n",
       "      <td>30</td>\n",
       "      <td>10:59</td>\n",
       "      <td>Urban</td>\n",
       "      <td>Fine no high winds</td>\n",
       "      <td>Taxi/Private hire car</td>\n",
       "    </tr>\n",
       "    <tr>\n",
       "      <th>2</th>\n",
       "      <td>200901BS70003</td>\n",
       "      <td>1/4/2021</td>\n",
       "      <td>Sunday</td>\n",
       "      <td>Give way or uncontrolled</td>\n",
       "      <td>T or staggered junction</td>\n",
       "      <td>Slight</td>\n",
       "      <td>51.486668</td>\n",
       "      <td>Daylight</td>\n",
       "      <td>Kensington and Chelsea</td>\n",
       "      <td>None</td>\n",
       "      <td>-0.179599</td>\n",
       "      <td>1</td>\n",
       "      <td>2</td>\n",
       "      <td>Metropolitan Police</td>\n",
       "      <td>Dry</td>\n",
       "      <td>Single carriageway</td>\n",
       "      <td>30</td>\n",
       "      <td>14:19</td>\n",
       "      <td>Urban</td>\n",
       "      <td>Fine no high winds</td>\n",
       "      <td>Taxi/Private hire car</td>\n",
       "    </tr>\n",
       "    <tr>\n",
       "      <th>3</th>\n",
       "      <td>200901BS70004</td>\n",
       "      <td>1/5/2021</td>\n",
       "      <td>Monday</td>\n",
       "      <td>Auto traffic signal</td>\n",
       "      <td>T or staggered junction</td>\n",
       "      <td>Serious</td>\n",
       "      <td>51.507804</td>\n",
       "      <td>Daylight</td>\n",
       "      <td>Kensington and Chelsea</td>\n",
       "      <td>None</td>\n",
       "      <td>-0.203110</td>\n",
       "      <td>1</td>\n",
       "      <td>2</td>\n",
       "      <td>Metropolitan Police</td>\n",
       "      <td>Frost or ice</td>\n",
       "      <td>Single carriageway</td>\n",
       "      <td>30</td>\n",
       "      <td>08:10</td>\n",
       "      <td>Urban</td>\n",
       "      <td>Other</td>\n",
       "      <td>Motorcycle over 500cc</td>\n",
       "    </tr>\n",
       "    <tr>\n",
       "      <th>4</th>\n",
       "      <td>200901BS70005</td>\n",
       "      <td>1/6/2021</td>\n",
       "      <td>Tuesday</td>\n",
       "      <td>Auto traffic signal</td>\n",
       "      <td>Crossroads</td>\n",
       "      <td>Serious</td>\n",
       "      <td>51.482076</td>\n",
       "      <td>Darkness - lights lit</td>\n",
       "      <td>Kensington and Chelsea</td>\n",
       "      <td>None</td>\n",
       "      <td>-0.173445</td>\n",
       "      <td>1</td>\n",
       "      <td>2</td>\n",
       "      <td>Metropolitan Police</td>\n",
       "      <td>Dry</td>\n",
       "      <td>Single carriageway</td>\n",
       "      <td>30</td>\n",
       "      <td>17:25</td>\n",
       "      <td>Urban</td>\n",
       "      <td>Fine no high winds</td>\n",
       "      <td>Car</td>\n",
       "    </tr>\n",
       "  </tbody>\n",
       "</table>\n",
       "</div>"
      ],
      "text/plain": [
       "  Accident_Index Accident Date Day_of_Week          Junction_Control  \\\n",
       "0  200901BS70001      1/1/2021    Thursday  Give way or uncontrolled   \n",
       "1  200901BS70002      1/5/2021      Monday  Give way or uncontrolled   \n",
       "2  200901BS70003      1/4/2021      Sunday  Give way or uncontrolled   \n",
       "3  200901BS70004      1/5/2021      Monday       Auto traffic signal   \n",
       "4  200901BS70005      1/6/2021     Tuesday       Auto traffic signal   \n",
       "\n",
       "           Junction_Detail Accident_Severity   Latitude  \\\n",
       "0  T or staggered junction           Serious  51.512273   \n",
       "1               Crossroads           Serious  51.514399   \n",
       "2  T or staggered junction            Slight  51.486668   \n",
       "3  T or staggered junction           Serious  51.507804   \n",
       "4               Crossroads           Serious  51.482076   \n",
       "\n",
       "        Light_Conditions Local_Authority_(District) Carriageway_Hazards  \\\n",
       "0               Daylight     Kensington and Chelsea                None   \n",
       "1               Daylight     Kensington and Chelsea                None   \n",
       "2               Daylight     Kensington and Chelsea                None   \n",
       "3               Daylight     Kensington and Chelsea                None   \n",
       "4  Darkness - lights lit     Kensington and Chelsea                None   \n",
       "\n",
       "   Longitude  Number_of_Casualties  Number_of_Vehicles         Police_Force  \\\n",
       "0  -0.201349                     1                   2  Metropolitan Police   \n",
       "1  -0.199248                    11                   2  Metropolitan Police   \n",
       "2  -0.179599                     1                   2  Metropolitan Police   \n",
       "3  -0.203110                     1                   2  Metropolitan Police   \n",
       "4  -0.173445                     1                   2  Metropolitan Police   \n",
       "\n",
       "  Road_Surface_Conditions           Road_Type  Speed_limit   Time  \\\n",
       "0                     Dry      One way street           30  15:11   \n",
       "1             Wet or damp  Single carriageway           30  10:59   \n",
       "2                     Dry  Single carriageway           30  14:19   \n",
       "3            Frost or ice  Single carriageway           30  08:10   \n",
       "4                     Dry  Single carriageway           30  17:25   \n",
       "\n",
       "  Urban_or_Rural_Area  Weather_Conditions           Vehicle_Type  \n",
       "0               Urban  Fine no high winds                    Car  \n",
       "1               Urban  Fine no high winds  Taxi/Private hire car  \n",
       "2               Urban  Fine no high winds  Taxi/Private hire car  \n",
       "3               Urban               Other  Motorcycle over 500cc  \n",
       "4               Urban  Fine no high winds                    Car  "
      ]
     },
     "execution_count": 7,
     "metadata": {},
     "output_type": "execute_result"
    }
   ],
   "source": [
    "df_ta.head()"
   ]
  },
  {
   "cell_type": "code",
   "execution_count": 8,
   "metadata": {},
   "outputs": [
    {
     "name": "stdout",
     "output_type": "stream",
     "text": [
      "<class 'pandas.core.frame.DataFrame'>\n",
      "RangeIndex: 307973 entries, 0 to 307972\n",
      "Data columns (total 21 columns):\n",
      " #   Column                      Non-Null Count   Dtype  \n",
      "---  ------                      --------------   -----  \n",
      " 0   Accident_Index              307973 non-null  object \n",
      " 1   Accident Date               307973 non-null  object \n",
      " 2   Day_of_Week                 307973 non-null  object \n",
      " 3   Junction_Control            307973 non-null  object \n",
      " 4   Junction_Detail             307973 non-null  object \n",
      " 5   Accident_Severity           307973 non-null  object \n",
      " 6   Latitude                    307973 non-null  float64\n",
      " 7   Light_Conditions            307973 non-null  object \n",
      " 8   Local_Authority_(District)  307973 non-null  object \n",
      " 9   Carriageway_Hazards         307970 non-null  object \n",
      " 10  Longitude                   307973 non-null  float64\n",
      " 11  Number_of_Casualties        307973 non-null  int64  \n",
      " 12  Number_of_Vehicles          307973 non-null  int64  \n",
      " 13  Police_Force                307973 non-null  object \n",
      " 14  Road_Surface_Conditions     307656 non-null  object \n",
      " 15  Road_Type                   306439 non-null  object \n",
      " 16  Speed_limit                 307973 non-null  int64  \n",
      " 17  Time                        307956 non-null  object \n",
      " 18  Urban_or_Rural_Area         307973 non-null  object \n",
      " 19  Weather_Conditions          301916 non-null  object \n",
      " 20  Vehicle_Type                307973 non-null  object \n",
      "dtypes: float64(2), int64(3), object(16)\n",
      "memory usage: 49.3+ MB\n"
     ]
    }
   ],
   "source": [
    "df_ta.info()"
   ]
  },
  {
   "cell_type": "code",
   "execution_count": 9,
   "metadata": {},
   "outputs": [
    {
     "data": {
      "text/plain": [
       "Slight     263280\n",
       "Serious     40740\n",
       "Fatal        3904\n",
       "Fetal          49\n",
       "Name: Accident_Severity, dtype: int64"
      ]
     },
     "execution_count": 9,
     "metadata": {},
     "output_type": "execute_result"
    }
   ],
   "source": [
    "df_ta[\"Accident_Severity\"].value_counts()"
   ]
  },
  {
   "cell_type": "code",
   "execution_count": null,
   "metadata": {},
   "outputs": [],
   "source": [
    "from pandarallel import pandarallel\n",
    "pandarallel.initialize(progress_bar=True)"
   ]
  },
  {
   "cell_type": "markdown",
   "metadata": {},
   "source": [
    "# 1. Data Construction\n",
    "## 1.1 Class label for predictive models"
   ]
  },
  {
   "cell_type": "code",
   "execution_count": 10,
   "metadata": {},
   "outputs": [
    {
     "data": {
      "text/plain": [
       "0    263280\n",
       "1     44693\n",
       "Name: severity_label, dtype: int64"
      ]
     },
     "execution_count": 10,
     "metadata": {},
     "output_type": "execute_result"
    }
   ],
   "source": [
    "df_ta['severity_label'] = df_ta['Accident_Severity'].map({'Slight': 0, 'Serious': 1, 'Fatal': 1, 'Fetal': 1})\n",
    "df_ta['severity_label'].value_counts()"
   ]
  },
  {
   "cell_type": "code",
   "execution_count": 11,
   "metadata": {},
   "outputs": [
    {
     "data": {
      "text/html": [
       "<div>\n",
       "<style scoped>\n",
       "    .dataframe tbody tr th:only-of-type {\n",
       "        vertical-align: middle;\n",
       "    }\n",
       "\n",
       "    .dataframe tbody tr th {\n",
       "        vertical-align: top;\n",
       "    }\n",
       "\n",
       "    .dataframe thead th {\n",
       "        text-align: right;\n",
       "    }\n",
       "</style>\n",
       "<table border=\"1\" class=\"dataframe\">\n",
       "  <thead>\n",
       "    <tr style=\"text-align: right;\">\n",
       "      <th></th>\n",
       "      <th>Accident_Index</th>\n",
       "      <th>Accident Date</th>\n",
       "      <th>Day_of_Week</th>\n",
       "      <th>Junction_Control</th>\n",
       "      <th>Junction_Detail</th>\n",
       "      <th>Accident_Severity</th>\n",
       "      <th>Latitude</th>\n",
       "      <th>Light_Conditions</th>\n",
       "      <th>Local_Authority_(District)</th>\n",
       "      <th>Carriageway_Hazards</th>\n",
       "      <th>Longitude</th>\n",
       "      <th>Number_of_Casualties</th>\n",
       "      <th>Number_of_Vehicles</th>\n",
       "      <th>Police_Force</th>\n",
       "      <th>Road_Surface_Conditions</th>\n",
       "      <th>Road_Type</th>\n",
       "      <th>Speed_limit</th>\n",
       "      <th>Time</th>\n",
       "      <th>Urban_or_Rural_Area</th>\n",
       "      <th>Weather_Conditions</th>\n",
       "      <th>Vehicle_Type</th>\n",
       "      <th>severity_label</th>\n",
       "    </tr>\n",
       "  </thead>\n",
       "  <tbody>\n",
       "    <tr>\n",
       "      <th>0</th>\n",
       "      <td>200901BS70001</td>\n",
       "      <td>1/1/2021</td>\n",
       "      <td>Thursday</td>\n",
       "      <td>Give way or uncontrolled</td>\n",
       "      <td>T or staggered junction</td>\n",
       "      <td>Serious</td>\n",
       "      <td>51.512273</td>\n",
       "      <td>Daylight</td>\n",
       "      <td>Kensington and Chelsea</td>\n",
       "      <td>None</td>\n",
       "      <td>-0.201349</td>\n",
       "      <td>1</td>\n",
       "      <td>2</td>\n",
       "      <td>Metropolitan Police</td>\n",
       "      <td>Dry</td>\n",
       "      <td>One way street</td>\n",
       "      <td>30</td>\n",
       "      <td>15:11</td>\n",
       "      <td>Urban</td>\n",
       "      <td>Fine no high winds</td>\n",
       "      <td>Car</td>\n",
       "      <td>1</td>\n",
       "    </tr>\n",
       "    <tr>\n",
       "      <th>1</th>\n",
       "      <td>200901BS70002</td>\n",
       "      <td>1/5/2021</td>\n",
       "      <td>Monday</td>\n",
       "      <td>Give way or uncontrolled</td>\n",
       "      <td>Crossroads</td>\n",
       "      <td>Serious</td>\n",
       "      <td>51.514399</td>\n",
       "      <td>Daylight</td>\n",
       "      <td>Kensington and Chelsea</td>\n",
       "      <td>None</td>\n",
       "      <td>-0.199248</td>\n",
       "      <td>11</td>\n",
       "      <td>2</td>\n",
       "      <td>Metropolitan Police</td>\n",
       "      <td>Wet or damp</td>\n",
       "      <td>Single carriageway</td>\n",
       "      <td>30</td>\n",
       "      <td>10:59</td>\n",
       "      <td>Urban</td>\n",
       "      <td>Fine no high winds</td>\n",
       "      <td>Taxi/Private hire car</td>\n",
       "      <td>1</td>\n",
       "    </tr>\n",
       "    <tr>\n",
       "      <th>2</th>\n",
       "      <td>200901BS70003</td>\n",
       "      <td>1/4/2021</td>\n",
       "      <td>Sunday</td>\n",
       "      <td>Give way or uncontrolled</td>\n",
       "      <td>T or staggered junction</td>\n",
       "      <td>Slight</td>\n",
       "      <td>51.486668</td>\n",
       "      <td>Daylight</td>\n",
       "      <td>Kensington and Chelsea</td>\n",
       "      <td>None</td>\n",
       "      <td>-0.179599</td>\n",
       "      <td>1</td>\n",
       "      <td>2</td>\n",
       "      <td>Metropolitan Police</td>\n",
       "      <td>Dry</td>\n",
       "      <td>Single carriageway</td>\n",
       "      <td>30</td>\n",
       "      <td>14:19</td>\n",
       "      <td>Urban</td>\n",
       "      <td>Fine no high winds</td>\n",
       "      <td>Taxi/Private hire car</td>\n",
       "      <td>0</td>\n",
       "    </tr>\n",
       "    <tr>\n",
       "      <th>3</th>\n",
       "      <td>200901BS70004</td>\n",
       "      <td>1/5/2021</td>\n",
       "      <td>Monday</td>\n",
       "      <td>Auto traffic signal</td>\n",
       "      <td>T or staggered junction</td>\n",
       "      <td>Serious</td>\n",
       "      <td>51.507804</td>\n",
       "      <td>Daylight</td>\n",
       "      <td>Kensington and Chelsea</td>\n",
       "      <td>None</td>\n",
       "      <td>-0.203110</td>\n",
       "      <td>1</td>\n",
       "      <td>2</td>\n",
       "      <td>Metropolitan Police</td>\n",
       "      <td>Frost or ice</td>\n",
       "      <td>Single carriageway</td>\n",
       "      <td>30</td>\n",
       "      <td>08:10</td>\n",
       "      <td>Urban</td>\n",
       "      <td>Other</td>\n",
       "      <td>Motorcycle over 500cc</td>\n",
       "      <td>1</td>\n",
       "    </tr>\n",
       "    <tr>\n",
       "      <th>4</th>\n",
       "      <td>200901BS70005</td>\n",
       "      <td>1/6/2021</td>\n",
       "      <td>Tuesday</td>\n",
       "      <td>Auto traffic signal</td>\n",
       "      <td>Crossroads</td>\n",
       "      <td>Serious</td>\n",
       "      <td>51.482076</td>\n",
       "      <td>Darkness - lights lit</td>\n",
       "      <td>Kensington and Chelsea</td>\n",
       "      <td>None</td>\n",
       "      <td>-0.173445</td>\n",
       "      <td>1</td>\n",
       "      <td>2</td>\n",
       "      <td>Metropolitan Police</td>\n",
       "      <td>Dry</td>\n",
       "      <td>Single carriageway</td>\n",
       "      <td>30</td>\n",
       "      <td>17:25</td>\n",
       "      <td>Urban</td>\n",
       "      <td>Fine no high winds</td>\n",
       "      <td>Car</td>\n",
       "      <td>1</td>\n",
       "    </tr>\n",
       "  </tbody>\n",
       "</table>\n",
       "</div>"
      ],
      "text/plain": [
       "  Accident_Index Accident Date Day_of_Week          Junction_Control  \\\n",
       "0  200901BS70001      1/1/2021    Thursday  Give way or uncontrolled   \n",
       "1  200901BS70002      1/5/2021      Monday  Give way or uncontrolled   \n",
       "2  200901BS70003      1/4/2021      Sunday  Give way or uncontrolled   \n",
       "3  200901BS70004      1/5/2021      Monday       Auto traffic signal   \n",
       "4  200901BS70005      1/6/2021     Tuesday       Auto traffic signal   \n",
       "\n",
       "           Junction_Detail Accident_Severity   Latitude  \\\n",
       "0  T or staggered junction           Serious  51.512273   \n",
       "1               Crossroads           Serious  51.514399   \n",
       "2  T or staggered junction            Slight  51.486668   \n",
       "3  T or staggered junction           Serious  51.507804   \n",
       "4               Crossroads           Serious  51.482076   \n",
       "\n",
       "        Light_Conditions Local_Authority_(District) Carriageway_Hazards  \\\n",
       "0               Daylight     Kensington and Chelsea                None   \n",
       "1               Daylight     Kensington and Chelsea                None   \n",
       "2               Daylight     Kensington and Chelsea                None   \n",
       "3               Daylight     Kensington and Chelsea                None   \n",
       "4  Darkness - lights lit     Kensington and Chelsea                None   \n",
       "\n",
       "   Longitude  Number_of_Casualties  Number_of_Vehicles         Police_Force  \\\n",
       "0  -0.201349                     1                   2  Metropolitan Police   \n",
       "1  -0.199248                    11                   2  Metropolitan Police   \n",
       "2  -0.179599                     1                   2  Metropolitan Police   \n",
       "3  -0.203110                     1                   2  Metropolitan Police   \n",
       "4  -0.173445                     1                   2  Metropolitan Police   \n",
       "\n",
       "  Road_Surface_Conditions           Road_Type  Speed_limit   Time  \\\n",
       "0                     Dry      One way street           30  15:11   \n",
       "1             Wet or damp  Single carriageway           30  10:59   \n",
       "2                     Dry  Single carriageway           30  14:19   \n",
       "3            Frost or ice  Single carriageway           30  08:10   \n",
       "4                     Dry  Single carriageway           30  17:25   \n",
       "\n",
       "  Urban_or_Rural_Area  Weather_Conditions           Vehicle_Type  \\\n",
       "0               Urban  Fine no high winds                    Car   \n",
       "1               Urban  Fine no high winds  Taxi/Private hire car   \n",
       "2               Urban  Fine no high winds  Taxi/Private hire car   \n",
       "3               Urban               Other  Motorcycle over 500cc   \n",
       "4               Urban  Fine no high winds                    Car   \n",
       "\n",
       "   severity_label  \n",
       "0               1  \n",
       "1               1  \n",
       "2               0  \n",
       "3               1  \n",
       "4               1  "
      ]
     },
     "execution_count": 11,
     "metadata": {},
     "output_type": "execute_result"
    }
   ],
   "source": [
    "df_ta.head()"
   ]
  },
  {
   "cell_type": "code",
   "execution_count": 13,
   "metadata": {},
   "outputs": [
    {
     "data": {
      "text/plain": [
       "{'Crossroads',\n",
       " 'Mini-roundabout',\n",
       " 'More than 4 arms (not roundabout)',\n",
       " 'Not at junction or within 20 metres',\n",
       " 'Other junction',\n",
       " 'Private drive or entrance',\n",
       " 'Roundabout',\n",
       " 'Slip road',\n",
       " 'T or staggered junction'}"
      ]
     },
     "execution_count": 13,
     "metadata": {},
     "output_type": "execute_result"
    }
   ],
   "source": [
    "set(df_ta[\"Junction_Detail\"].values)"
   ]
  },
  {
   "cell_type": "code",
   "execution_count": 24,
   "metadata": {},
   "outputs": [
    {
     "data": {
      "text/plain": [
       "{'Motorcycle 50cc and under': 0,\n",
       " 'Bus or coach (17 or more pass seats)': 1,\n",
       " 'Agricultural vehicle': 2,\n",
       " 'Taxi/Private hire car': 3,\n",
       " 'Motorcycle over 500cc': 4,\n",
       " 'Van / Goods 3.5 tonnes mgw or under': 5,\n",
       " 'Motorcycle 125cc and under': 6,\n",
       " 'Minibus (8 - 16 passenger seats)': 7,\n",
       " 'Ridden horse': 8,\n",
       " 'Pedal cycle': 9,\n",
       " 'Car': 10,\n",
       " 'Motorcycle over 125cc and up to 500cc': 11,\n",
       " 'Goods 7.5 tonnes mgw and over': 12,\n",
       " 'Goods over 3.5t. and under 7.5t': 13,\n",
       " 'Other vehicle': 14}"
      ]
     },
     "execution_count": 24,
     "metadata": {},
     "output_type": "execute_result"
    }
   ],
   "source": [
    "junction_map = {}\n",
    "for i, v in enumerate(list(set(df_ta[\"Junction_Detail\"].values))):\n",
    "    junction_map[v] = i\n",
    "junction_map\n",
    "road_type_map = {}\n",
    "for i, v in enumerate(list(set(df_ta[\"Road_Type\"].values))):\n",
    "    road_type_map[v] = i\n",
    "road_type_map\n",
    "light_conditions_map = {}\n",
    "for i, v in enumerate(list(set(df_ta[\"Light_Conditions\"].values))):\n",
    "    light_conditions_map[v] = i\n",
    "light_conditions_map\n",
    "ur_map = {}\n",
    "for i, v in enumerate(list(set(df_ta[\"Urban_or_Rural_Area\"].values))):\n",
    "    ur_map[v] = i\n",
    "ur_map\n",
    "weather_map = {}\n",
    "for i, v in enumerate(list(set(df_ta[\"Weather_Conditions\"].values))):\n",
    "    weather_map[v] = i\n",
    "weather_map\n",
    "road_surface_map = {}\n",
    "for i, v in enumerate(list(set(df_ta[\"Road_Surface_Conditions\"].values))):\n",
    "    road_surface_map[v] = i\n",
    "road_surface_map\n",
    "speed_limit_map = {}\n",
    "for i, v in enumerate(list(set(df_ta[\"Speed_limit\"].values))):\n",
    "    speed_limit_map[v] = i\n",
    "speed_limit_map\n",
    "vehicle_type_map = {}\n",
    "for i, v in enumerate(list(set(df_ta[\"Vehicle_Type\"].values))):\n",
    "    vehicle_type_map[v] = i\n",
    "vehicle_type_map"
   ]
  },
  {
   "cell_type": "code",
   "execution_count": 18,
   "metadata": {},
   "outputs": [
    {
     "data": {
      "text/html": [
       "<div>\n",
       "<style scoped>\n",
       "    .dataframe tbody tr th:only-of-type {\n",
       "        vertical-align: middle;\n",
       "    }\n",
       "\n",
       "    .dataframe tbody tr th {\n",
       "        vertical-align: top;\n",
       "    }\n",
       "\n",
       "    .dataframe thead th {\n",
       "        text-align: right;\n",
       "    }\n",
       "</style>\n",
       "<table border=\"1\" class=\"dataframe\">\n",
       "  <thead>\n",
       "    <tr style=\"text-align: right;\">\n",
       "      <th></th>\n",
       "      <th>Accident_Index</th>\n",
       "      <th>Accident Date</th>\n",
       "      <th>Day_of_Week</th>\n",
       "      <th>Junction_Control</th>\n",
       "      <th>Junction_Detail</th>\n",
       "      <th>Accident_Severity</th>\n",
       "      <th>Latitude</th>\n",
       "      <th>Light_Conditions</th>\n",
       "      <th>Local_Authority_(District)</th>\n",
       "      <th>Carriageway_Hazards</th>\n",
       "      <th>Longitude</th>\n",
       "      <th>Number_of_Casualties</th>\n",
       "      <th>Number_of_Vehicles</th>\n",
       "      <th>Police_Force</th>\n",
       "      <th>Road_Surface_Conditions</th>\n",
       "      <th>Road_Type</th>\n",
       "      <th>Speed_limit</th>\n",
       "      <th>Time</th>\n",
       "      <th>Urban_or_Rural_Area</th>\n",
       "      <th>Weather_Conditions</th>\n",
       "      <th>Vehicle_Type</th>\n",
       "      <th>severity_label</th>\n",
       "    </tr>\n",
       "  </thead>\n",
       "  <tbody>\n",
       "    <tr>\n",
       "      <th>0</th>\n",
       "      <td>200901BS70001</td>\n",
       "      <td>1/1/2021</td>\n",
       "      <td>Thursday</td>\n",
       "      <td>Give way or uncontrolled</td>\n",
       "      <td>T or staggered junction</td>\n",
       "      <td>Serious</td>\n",
       "      <td>51.512273</td>\n",
       "      <td>Daylight</td>\n",
       "      <td>Kensington and Chelsea</td>\n",
       "      <td>None</td>\n",
       "      <td>-0.201349</td>\n",
       "      <td>1</td>\n",
       "      <td>2</td>\n",
       "      <td>Metropolitan Police</td>\n",
       "      <td>Dry</td>\n",
       "      <td>One way street</td>\n",
       "      <td>30</td>\n",
       "      <td>15:11</td>\n",
       "      <td>Urban</td>\n",
       "      <td>Fine no high winds</td>\n",
       "      <td>Car</td>\n",
       "      <td>1</td>\n",
       "    </tr>\n",
       "    <tr>\n",
       "      <th>1</th>\n",
       "      <td>200901BS70002</td>\n",
       "      <td>1/5/2021</td>\n",
       "      <td>Monday</td>\n",
       "      <td>Give way or uncontrolled</td>\n",
       "      <td>Crossroads</td>\n",
       "      <td>Serious</td>\n",
       "      <td>51.514399</td>\n",
       "      <td>Daylight</td>\n",
       "      <td>Kensington and Chelsea</td>\n",
       "      <td>None</td>\n",
       "      <td>-0.199248</td>\n",
       "      <td>11</td>\n",
       "      <td>2</td>\n",
       "      <td>Metropolitan Police</td>\n",
       "      <td>Wet or damp</td>\n",
       "      <td>Single carriageway</td>\n",
       "      <td>30</td>\n",
       "      <td>10:59</td>\n",
       "      <td>Urban</td>\n",
       "      <td>Fine no high winds</td>\n",
       "      <td>Taxi/Private hire car</td>\n",
       "      <td>1</td>\n",
       "    </tr>\n",
       "    <tr>\n",
       "      <th>2</th>\n",
       "      <td>200901BS70003</td>\n",
       "      <td>1/4/2021</td>\n",
       "      <td>Sunday</td>\n",
       "      <td>Give way or uncontrolled</td>\n",
       "      <td>T or staggered junction</td>\n",
       "      <td>Slight</td>\n",
       "      <td>51.486668</td>\n",
       "      <td>Daylight</td>\n",
       "      <td>Kensington and Chelsea</td>\n",
       "      <td>None</td>\n",
       "      <td>-0.179599</td>\n",
       "      <td>1</td>\n",
       "      <td>2</td>\n",
       "      <td>Metropolitan Police</td>\n",
       "      <td>Dry</td>\n",
       "      <td>Single carriageway</td>\n",
       "      <td>30</td>\n",
       "      <td>14:19</td>\n",
       "      <td>Urban</td>\n",
       "      <td>Fine no high winds</td>\n",
       "      <td>Taxi/Private hire car</td>\n",
       "      <td>0</td>\n",
       "    </tr>\n",
       "    <tr>\n",
       "      <th>3</th>\n",
       "      <td>200901BS70004</td>\n",
       "      <td>1/5/2021</td>\n",
       "      <td>Monday</td>\n",
       "      <td>Auto traffic signal</td>\n",
       "      <td>T or staggered junction</td>\n",
       "      <td>Serious</td>\n",
       "      <td>51.507804</td>\n",
       "      <td>Daylight</td>\n",
       "      <td>Kensington and Chelsea</td>\n",
       "      <td>None</td>\n",
       "      <td>-0.203110</td>\n",
       "      <td>1</td>\n",
       "      <td>2</td>\n",
       "      <td>Metropolitan Police</td>\n",
       "      <td>Frost or ice</td>\n",
       "      <td>Single carriageway</td>\n",
       "      <td>30</td>\n",
       "      <td>08:10</td>\n",
       "      <td>Urban</td>\n",
       "      <td>Other</td>\n",
       "      <td>Motorcycle over 500cc</td>\n",
       "      <td>1</td>\n",
       "    </tr>\n",
       "    <tr>\n",
       "      <th>4</th>\n",
       "      <td>200901BS70005</td>\n",
       "      <td>1/6/2021</td>\n",
       "      <td>Tuesday</td>\n",
       "      <td>Auto traffic signal</td>\n",
       "      <td>Crossroads</td>\n",
       "      <td>Serious</td>\n",
       "      <td>51.482076</td>\n",
       "      <td>Darkness - lights lit</td>\n",
       "      <td>Kensington and Chelsea</td>\n",
       "      <td>None</td>\n",
       "      <td>-0.173445</td>\n",
       "      <td>1</td>\n",
       "      <td>2</td>\n",
       "      <td>Metropolitan Police</td>\n",
       "      <td>Dry</td>\n",
       "      <td>Single carriageway</td>\n",
       "      <td>30</td>\n",
       "      <td>17:25</td>\n",
       "      <td>Urban</td>\n",
       "      <td>Fine no high winds</td>\n",
       "      <td>Car</td>\n",
       "      <td>1</td>\n",
       "    </tr>\n",
       "  </tbody>\n",
       "</table>\n",
       "</div>"
      ],
      "text/plain": [
       "  Accident_Index Accident Date Day_of_Week          Junction_Control  \\\n",
       "0  200901BS70001      1/1/2021    Thursday  Give way or uncontrolled   \n",
       "1  200901BS70002      1/5/2021      Monday  Give way or uncontrolled   \n",
       "2  200901BS70003      1/4/2021      Sunday  Give way or uncontrolled   \n",
       "3  200901BS70004      1/5/2021      Monday       Auto traffic signal   \n",
       "4  200901BS70005      1/6/2021     Tuesday       Auto traffic signal   \n",
       "\n",
       "           Junction_Detail Accident_Severity   Latitude  \\\n",
       "0  T or staggered junction           Serious  51.512273   \n",
       "1               Crossroads           Serious  51.514399   \n",
       "2  T or staggered junction            Slight  51.486668   \n",
       "3  T or staggered junction           Serious  51.507804   \n",
       "4               Crossroads           Serious  51.482076   \n",
       "\n",
       "        Light_Conditions Local_Authority_(District) Carriageway_Hazards  \\\n",
       "0               Daylight     Kensington and Chelsea                None   \n",
       "1               Daylight     Kensington and Chelsea                None   \n",
       "2               Daylight     Kensington and Chelsea                None   \n",
       "3               Daylight     Kensington and Chelsea                None   \n",
       "4  Darkness - lights lit     Kensington and Chelsea                None   \n",
       "\n",
       "   Longitude  Number_of_Casualties  Number_of_Vehicles         Police_Force  \\\n",
       "0  -0.201349                     1                   2  Metropolitan Police   \n",
       "1  -0.199248                    11                   2  Metropolitan Police   \n",
       "2  -0.179599                     1                   2  Metropolitan Police   \n",
       "3  -0.203110                     1                   2  Metropolitan Police   \n",
       "4  -0.173445                     1                   2  Metropolitan Police   \n",
       "\n",
       "  Road_Surface_Conditions           Road_Type  Speed_limit   Time  \\\n",
       "0                     Dry      One way street           30  15:11   \n",
       "1             Wet or damp  Single carriageway           30  10:59   \n",
       "2                     Dry  Single carriageway           30  14:19   \n",
       "3            Frost or ice  Single carriageway           30  08:10   \n",
       "4                     Dry  Single carriageway           30  17:25   \n",
       "\n",
       "  Urban_or_Rural_Area  Weather_Conditions           Vehicle_Type  \\\n",
       "0               Urban  Fine no high winds                    Car   \n",
       "1               Urban  Fine no high winds  Taxi/Private hire car   \n",
       "2               Urban  Fine no high winds  Taxi/Private hire car   \n",
       "3               Urban               Other  Motorcycle over 500cc   \n",
       "4               Urban  Fine no high winds                    Car   \n",
       "\n",
       "   severity_label  \n",
       "0               1  \n",
       "1               1  \n",
       "2               0  \n",
       "3               1  \n",
       "4               1  "
      ]
     },
     "execution_count": 18,
     "metadata": {},
     "output_type": "execute_result"
    }
   ],
   "source": [
    "df_ta.head()"
   ]
  },
  {
   "cell_type": "code",
   "execution_count": 26,
   "metadata": {},
   "outputs": [],
   "source": [
    "df_ta[\"junc_det_label\"] =  df_ta[\"Junction_Detail\"].map(junction_map)\n",
    "df_ta[\"road_type_label\"] =  df_ta[\"Road_Type\"].map(road_type_map)\n",
    "df_ta[\"light_label\"] =  df_ta[\"Light_Conditions\"].map(light_conditions_map )\n",
    "df_ta[\"ur_label\"] =  df_ta[\"Urban_or_Rural_Area\"].map(ur_map)\n",
    "df_ta[\"speed_label\"] =  df_ta[\"Speed_limit\"].map(speed_limit_map) \n",
    "df_ta[\"vehicle_type_label\"] =  df_ta[\"Vehicle_Type\"].map(vehicle_type_map)\n",
    "df_ta[\"weatger_label\"] =  df_ta[\"Weather_Conditions\"].map(weather_map)\n",
    "df_ta[\"road_surface_label\"] =  df_ta[\"Road_Surface_Conditions\"].map(road_surface_map)"
   ]
  },
  {
   "cell_type": "code",
   "execution_count": 28,
   "metadata": {},
   "outputs": [
    {
     "data": {
      "text/html": [
       "<div>\n",
       "<style scoped>\n",
       "    .dataframe tbody tr th:only-of-type {\n",
       "        vertical-align: middle;\n",
       "    }\n",
       "\n",
       "    .dataframe tbody tr th {\n",
       "        vertical-align: top;\n",
       "    }\n",
       "\n",
       "    .dataframe thead th {\n",
       "        text-align: right;\n",
       "    }\n",
       "</style>\n",
       "<table border=\"1\" class=\"dataframe\">\n",
       "  <thead>\n",
       "    <tr style=\"text-align: right;\">\n",
       "      <th></th>\n",
       "      <th>junc_det_label</th>\n",
       "      <th>road_type_label</th>\n",
       "      <th>light_label</th>\n",
       "      <th>ur_label</th>\n",
       "      <th>speed_label</th>\n",
       "      <th>vehicle_type_label</th>\n",
       "      <th>weatger_label</th>\n",
       "      <th>road_surface_label</th>\n",
       "      <th>severity_label</th>\n",
       "    </tr>\n",
       "  </thead>\n",
       "  <tbody>\n",
       "    <tr>\n",
       "      <th>0</th>\n",
       "      <td>5</td>\n",
       "      <td>4</td>\n",
       "      <td>1</td>\n",
       "      <td>1</td>\n",
       "      <td>7</td>\n",
       "      <td>10</td>\n",
       "      <td>0</td>\n",
       "      <td>0</td>\n",
       "      <td>1</td>\n",
       "    </tr>\n",
       "    <tr>\n",
       "      <th>1</th>\n",
       "      <td>8</td>\n",
       "      <td>2</td>\n",
       "      <td>1</td>\n",
       "      <td>1</td>\n",
       "      <td>7</td>\n",
       "      <td>3</td>\n",
       "      <td>0</td>\n",
       "      <td>4</td>\n",
       "      <td>1</td>\n",
       "    </tr>\n",
       "    <tr>\n",
       "      <th>2</th>\n",
       "      <td>5</td>\n",
       "      <td>2</td>\n",
       "      <td>1</td>\n",
       "      <td>1</td>\n",
       "      <td>7</td>\n",
       "      <td>3</td>\n",
       "      <td>0</td>\n",
       "      <td>0</td>\n",
       "      <td>0</td>\n",
       "    </tr>\n",
       "    <tr>\n",
       "      <th>3</th>\n",
       "      <td>5</td>\n",
       "      <td>2</td>\n",
       "      <td>1</td>\n",
       "      <td>1</td>\n",
       "      <td>7</td>\n",
       "      <td>4</td>\n",
       "      <td>3</td>\n",
       "      <td>5</td>\n",
       "      <td>1</td>\n",
       "    </tr>\n",
       "    <tr>\n",
       "      <th>4</th>\n",
       "      <td>8</td>\n",
       "      <td>2</td>\n",
       "      <td>0</td>\n",
       "      <td>1</td>\n",
       "      <td>7</td>\n",
       "      <td>10</td>\n",
       "      <td>0</td>\n",
       "      <td>0</td>\n",
       "      <td>1</td>\n",
       "    </tr>\n",
       "  </tbody>\n",
       "</table>\n",
       "</div>"
      ],
      "text/plain": [
       "   junc_det_label  road_type_label  light_label  ur_label  speed_label  \\\n",
       "0               5                4            1         1            7   \n",
       "1               8                2            1         1            7   \n",
       "2               5                2            1         1            7   \n",
       "3               5                2            1         1            7   \n",
       "4               8                2            0         1            7   \n",
       "\n",
       "   vehicle_type_label  weatger_label  road_surface_label  severity_label  \n",
       "0                  10              0                   0               1  \n",
       "1                   3              0                   4               1  \n",
       "2                   3              0                   0               0  \n",
       "3                   4              3                   5               1  \n",
       "4                  10              0                   0               1  "
      ]
     },
     "execution_count": 28,
     "metadata": {},
     "output_type": "execute_result"
    }
   ],
   "source": [
    "df_catboost = df_ta[[\"junc_det_label\"\n",
    ",\"road_type_label\"\n",
    ",\"light_label\"\n",
    ",\"ur_label\"\n",
    ",\"speed_label\"\n",
    ",\"vehicle_type_label\"\n",
    ",\"weatger_label\"\n",
    ",\"road_surface_label\"\n",
    ",\"severity_label\"]]\n",
    "df_catboost.head()"
   ]
  },
  {
   "cell_type": "code",
   "execution_count": 30,
   "metadata": {},
   "outputs": [
    {
     "name": "stdout",
     "output_type": "stream",
     "text": [
      "Collecting package metadata (current_repodata.json): / DEBUG:urllib3.connectionpool:Starting new HTTPS connection (1): mirrors.tuna.tsinghua.edu.cn:443\n",
      "DEBUG:urllib3.connectionpool:Starting new HTTPS connection (1): mirrors.tuna.tsinghua.edu.cn:443\n",
      "DEBUG:urllib3.connectionpool:Starting new HTTPS connection (1): mirrors.tuna.tsinghua.edu.cn:443\n",
      "DEBUG:urllib3.connectionpool:Starting new HTTPS connection (1): mirrors.tuna.tsinghua.edu.cn:443\n",
      "- DEBUG:urllib3.connectionpool:https://mirrors.tuna.tsinghua.edu.cn:443 \"GET /anaconda/pkgs/main/noarch/current_repodata.json HTTP/1.1\" 304 0\n",
      "DEBUG:urllib3.connectionpool:https://mirrors.tuna.tsinghua.edu.cn:443 \"GET /anaconda/pkgs/main/osx-arm64/current_repodata.json HTTP/1.1\" 304 0\n",
      "| DEBUG:urllib3.connectionpool:https://mirrors.tuna.tsinghua.edu.cn:443 \"GET /anaconda/pkgs/free/noarch/current_repodata.json HTTP/1.1\" 404 None\n",
      "/ DEBUG:urllib3.connectionpool:https://mirrors.tuna.tsinghua.edu.cn:443 \"GET /anaconda/pkgs/free/noarch/repodata.json HTTP/1.1\" 304 0\n",
      "| DEBUG:urllib3.connectionpool:https://mirrors.tuna.tsinghua.edu.cn:443 \"GET /anaconda/pkgs/free/osx-arm64/current_repodata.json HTTP/1.1\" 404 None\n",
      "/ DEBUG:urllib3.connectionpool:https://mirrors.tuna.tsinghua.edu.cn:443 \"GET /anaconda/pkgs/free/osx-arm64/repodata.json HTTP/1.1\" 304 0\n",
      "done\n",
      "Solving environment: done\n",
      "\n",
      "\n",
      "==> WARNING: A newer version of conda exists. <==\n",
      "  current version: 23.7.4\n",
      "  latest version: 24.9.2\n",
      "\n",
      "Please update conda by running\n",
      "\n",
      "    $ conda update -n base -c defaults conda\n",
      "\n",
      "Or to minimize the number of packages updated during conda update use\n",
      "\n",
      "     conda install conda=24.9.2\n",
      "\n",
      "\n",
      "\n",
      "## Package Plan ##\n",
      "\n",
      "  environment location: /Users/zowcool/anaconda3\n",
      "\n",
      "  added / updated specs:\n",
      "    - catboost\n",
      "\n",
      "\n",
      "The following packages will be downloaded:\n",
      "\n",
      "    package                    |            build\n",
      "    ---------------------------|-----------------\n",
      "    catboost-1.2.3             |  py311hca03da5_0        21.5 MB\n",
      "    font-ttf-dejavu-sans-mono-2.37|       hd3eb1b0_0         335 KB\n",
      "    font-ttf-inconsolata-2.001 |       hcb22688_0          83 KB\n",
      "    font-ttf-source-code-pro-2.030|       hd3eb1b0_0         654 KB\n",
      "    font-ttf-ubuntu-0.83       |       h8b1ccd4_0         1.5 MB\n",
      "    fonts-anaconda-1           |       h8fa9717_0           3 KB\n",
      "    fonts-conda-ecosystem-1    |       hd3eb1b0_0           5 KB\n",
      "    fribidi-1.0.10             |       h1a28f6b_0          60 KB\n",
      "    gdk-pixbuf-2.42.10         |       h80987f9_0         581 KB\n",
      "    graphite2-1.3.14           |       hc377ac9_1          75 KB\n",
      "    graphviz-2.50.0            |       hf331ead_1         2.4 MB\n",
      "    gts-0.7.6                  |       hde733a8_3         287 KB\n",
      "    harfbuzz-4.3.0             |       he9eebac_1         1.1 MB\n",
      "    libgd-2.3.3                |       h14f8a72_1         200 KB\n",
      "    librsvg-2.54.4             |       hb3bd4c3_3         6.5 MB\n",
      "    libtool-2.4.6              |    h313beb8_1009         422 KB\n",
      "    pango-1.50.7               |       h7271ec9_0         402 KB\n",
      "    python-graphviz-0.20.1     |  py311hca03da5_0          79 KB\n",
      "    ------------------------------------------------------------\n",
      "                                           Total:        36.1 MB\n",
      "\n",
      "The following NEW packages will be INSTALLED:\n",
      "\n",
      "  catboost           pkgs/main/osx-arm64::catboost-1.2.3-py311hca03da5_0 \n",
      "  font-ttf-dejavu-s~ pkgs/main/noarch::font-ttf-dejavu-sans-mono-2.37-hd3eb1b0_0 \n",
      "  font-ttf-inconsol~ pkgs/main/noarch::font-ttf-inconsolata-2.001-hcb22688_0 \n",
      "  font-ttf-source-c~ pkgs/main/noarch::font-ttf-source-code-pro-2.030-hd3eb1b0_0 \n",
      "  font-ttf-ubuntu    pkgs/main/noarch::font-ttf-ubuntu-0.83-h8b1ccd4_0 \n",
      "  fonts-anaconda     pkgs/main/noarch::fonts-anaconda-1-h8fa9717_0 \n",
      "  fonts-conda-ecosy~ pkgs/main/noarch::fonts-conda-ecosystem-1-hd3eb1b0_0 \n",
      "  fribidi            pkgs/main/osx-arm64::fribidi-1.0.10-h1a28f6b_0 \n",
      "  gdk-pixbuf         pkgs/main/osx-arm64::gdk-pixbuf-2.42.10-h80987f9_0 \n",
      "  graphite2          pkgs/main/osx-arm64::graphite2-1.3.14-hc377ac9_1 \n",
      "  graphviz           pkgs/main/osx-arm64::graphviz-2.50.0-hf331ead_1 \n",
      "  gts                pkgs/main/osx-arm64::gts-0.7.6-hde733a8_3 \n",
      "  harfbuzz           pkgs/main/osx-arm64::harfbuzz-4.3.0-he9eebac_1 \n",
      "  libgd              pkgs/main/osx-arm64::libgd-2.3.3-h14f8a72_1 \n",
      "  librsvg            pkgs/main/osx-arm64::librsvg-2.54.4-hb3bd4c3_3 \n",
      "  libtool            pkgs/main/osx-arm64::libtool-2.4.6-h313beb8_1009 \n",
      "  pango              pkgs/main/osx-arm64::pango-1.50.7-h7271ec9_0 \n",
      "  python-graphviz    pkgs/main/osx-arm64::python-graphviz-0.20.1-py311hca03da5_0 \n",
      "\n",
      "\n",
      "\n",
      "Downloading and Extracting Packages\n",
      "libgd-2.3.3          | 200 KB    |                                       |   0% \n",
      "font-ttf-dejavu-sans | 335 KB    |                                       |   0% \u001b[A\n",
      "\n",
      "graphviz-2.50.0      | 2.4 MB    |                                       |   0% \u001b[A\u001b[A\n",
      "\n",
      "\n",
      "font-ttf-source-code | 654 KB    |                                       |   0% \u001b[A\u001b[A\u001b[A\n",
      "\n",
      "\n",
      "\n",
      "pango-1.50.7         | 402 KB    |                                       |   0% \u001b[A\u001b[A\u001b[A\u001b[A\n",
      "\n",
      "\n",
      "\n",
      "\n",
      "graphite2-1.3.14     | 75 KB     |                                       |   0% \u001b[A\u001b[A\u001b[A\u001b[A\u001b[A\n",
      "\n",
      "\n",
      "\n",
      "\n",
      "\n",
      "fonts-conda-ecosyste | 5 KB      |                                       |   0% \u001b[A\u001b[A\u001b[A\u001b[A\u001b[A\u001b[A\n",
      "\n",
      "\n",
      "\n",
      "\n",
      "\n",
      "\n",
      "python-graphviz-0.20 | 79 KB     |                                       |   0% \u001b[A\u001b[A\u001b[A\u001b[A\u001b[A\u001b[A\u001b[A\n",
      "\n",
      "\n",
      "\n",
      "\n",
      "\n",
      "\n",
      "\n",
      "gts-0.7.6            | 287 KB    |                                       |   0% \u001b[A\u001b[A\u001b[A\u001b[A\u001b[A\u001b[A\u001b[A\u001b[A\n",
      "\n",
      "\n",
      "\n",
      "\n",
      "\n",
      "\n",
      "\n",
      "\n",
      "catboost-1.2.3       | 21.5 MB   |                                       |   0% \u001b[A\u001b[A\u001b[A\u001b[A\u001b[A\u001b[A\u001b[A\u001b[A\u001b[A\n",
      "\n",
      "\n",
      "\n",
      "\n",
      "\n",
      "\n",
      "\n",
      "\n",
      "\n",
      "fribidi-1.0.10       | 60 KB     |                                       |   0% \u001b[A\u001b[A\u001b[A\u001b[A\u001b[A\u001b[A\u001b[A\u001b[A\u001b[A\u001b[A\n",
      "\n",
      "\n",
      "\n",
      "\n",
      "\n",
      "\n",
      "\n",
      "\n",
      "\n",
      "\n",
      "font-ttf-inconsolata | 83 KB     |                                       |   0% \u001b[A\u001b[A\u001b[A\u001b[A\u001b[A\u001b[A\u001b[A\u001b[A\u001b[A\u001b[A\u001b[A\n",
      "\n",
      "\n",
      "\n",
      "\n",
      "\n",
      "\n",
      "\n",
      "\n",
      "\n",
      "\n",
      "\n",
      "gdk-pixbuf-2.42.10   | 581 KB    |                                       |   0% \u001b[A\u001b[A\u001b[A\u001b[A\u001b[A\u001b[A\u001b[A\u001b[A\u001b[A\u001b[A\u001b[A\u001b[A\n",
      "\n",
      "\n",
      "\n",
      "\n",
      "\n",
      "\n",
      "\n",
      "\n",
      "\n",
      "\n",
      "\n",
      "\n",
      "fonts-anaconda-1     | 3 KB      |                                       |   0% \u001b[A\u001b[A\u001b[A\u001b[A\u001b[A\u001b[A\u001b[A\u001b[A\u001b[A\u001b[A\u001b[A\u001b[A\u001b[A\n",
      "\n",
      "\n",
      "\n",
      "\n",
      "\n",
      "\n",
      "\n",
      "\n",
      "\n",
      "\n",
      "\n",
      "\n",
      "\n",
      "harfbuzz-4.3.0       | 1.1 MB    |                                       |   0% \u001b[A\u001b[A\u001b[A\u001b[A\u001b[A\u001b[A\u001b[A\u001b[A\u001b[A\u001b[A\u001b[A\u001b[A\u001b[A\u001b[A\n",
      "\n",
      "\n",
      "\n",
      "\n",
      "\n",
      "\n",
      "\n",
      "\n",
      "\n",
      "\n",
      "\n",
      "\n",
      "\n",
      "\n",
      "font-ttf-ubuntu-0.83 | 1.5 MB    |                                       |   0% \u001b[A\u001b[A\u001b[A\u001b[A\u001b[A\u001b[A\u001b[A\u001b[A\u001b[A\u001b[A\u001b[A\u001b[A\u001b[A\u001b[A\u001b[A\n",
      "\n",
      "\n",
      "\n",
      "\n",
      "\n",
      "\n",
      "\n",
      "\n",
      "\n",
      "\n",
      "\n",
      "\n",
      "\n",
      "\n",
      "\n",
      "libtool-2.4.6        | 422 KB    |                                       |   0% \u001b[A\u001b[A\u001b[A\u001b[A\u001b[A\u001b[A\u001b[A\u001b[A\u001b[A\u001b[A\u001b[A\u001b[A\u001b[A\u001b[A\u001b[A\u001b[A\n",
      "\n",
      "\n",
      "\n",
      "\n",
      "\n",
      "\n",
      "\n",
      "\n",
      "\n",
      "\n",
      "\n",
      "\n",
      "\n",
      "\n",
      "\n",
      "\n",
      "librsvg-2.54.4       | 6.5 MB    |                                       |   0% \u001b[A\u001b[A\u001b[A\u001b[A\u001b[A\u001b[A\u001b[A\u001b[A\u001b[A\u001b[A\u001b[A\u001b[A\u001b[A\u001b[A\u001b[A\u001b[A\u001b[ADEBUG:urllib3.connectionpool:Starting new HTTPS connection (1): repo.anaconda.com:443\n",
      "DEBUG:urllib3.connectionpool:Starting new HTTPS connection (1): repo.anaconda.com:443\n",
      "DEBUG:urllib3.connectionpool:Starting new HTTPS connection (1): repo.anaconda.com:443\n",
      "DEBUG:urllib3.connectionpool:Starting new HTTPS connection (1): repo.anaconda.com:443\n",
      "DEBUG:urllib3.connectionpool:Starting new HTTPS connection (1): repo.anaconda.com:443\n",
      "DEBUG:urllib3.connectionpool:https://repo.anaconda.com:443 \"GET /pkgs/main/noarch/font-ttf-source-code-pro-2.030-hd3eb1b0_0.conda HTTP/1.1\" 200 669938\n",
      "DEBUG:urllib3.connectionpool:https://repo.anaconda.com:443 \"GET /pkgs/main/noarch/font-ttf-dejavu-sans-mono-2.37-hd3eb1b0_0.conda HTTP/1.1\" 200 342822\n",
      "DEBUG:urllib3.connectionpool:https://repo.anaconda.com:443 \"GET /pkgs/main/osx-arm64/graphviz-2.50.0-hf331ead_1.conda HTTP/1.1\" 200 2491857\n",
      "DEBUG:urllib3.connectionpool:https://repo.anaconda.com:443 \"GET /pkgs/main/osx-arm64/pango-1.50.7-h7271ec9_0.conda HTTP/1.1\" 200 412014\n",
      "\n",
      "\n",
      "\n",
      "font-ttf-source-code | 654 KB    | 9                                     |   2% \u001b[A\u001b[A\u001b[A\n",
      "\n",
      "graphviz-2.50.0      | 2.4 MB    | 2                                     |   1% \u001b[A\u001b[A\n",
      "font-ttf-dejavu-sans | 335 KB    | #7                                    |   5% \u001b[A\n",
      "\n",
      "\n",
      "\n",
      "pango-1.50.7         | 402 KB    | #4                                    |   4% \u001b[A\u001b[A\u001b[A\u001b[A\n",
      "\n",
      "\n",
      "font-ttf-source-code | 654 KB    | ##########8                           |  29% \u001b[A\u001b[A\u001b[A\n",
      "\n",
      "graphviz-2.50.0      | 2.4 MB    | ##4                                   |   7% \u001b[A\u001b[A\n",
      "font-ttf-dejavu-sans | 335 KB    | ########################7             |  67% \u001b[A\n",
      "\n",
      "\n",
      "\n",
      "pango-1.50.7         | 402 KB    | #############2                        |  36% \u001b[A\u001b[A\u001b[A\u001b[A\n",
      "font-ttf-dejavu-sans | 335 KB    | ##################################### | 100% \u001b[A\n",
      "\n",
      "graphviz-2.50.0      | 2.4 MB    | ####1                                 |  11% \u001b[A\u001b[A\n",
      "\n",
      "\n",
      "\n",
      "pango-1.50.7         | 402 KB    | ####################5                 |  56% \u001b[A\u001b[A\u001b[A\u001b[A\n",
      "\n",
      "\n",
      "font-ttf-source-code | 654 KB    | ############################          |  76% \u001b[A\u001b[A\u001b[A\n",
      "\n",
      "\n",
      "\n",
      "pango-1.50.7         | 402 KB    | ##################################### | 100% \u001b[A\u001b[A\u001b[A\u001b[ADEBUG:urllib3.connectionpool:https://repo.anaconda.com:443 \"GET /pkgs/main/osx-arm64/graphite2-1.3.14-hc377ac9_1.conda HTTP/1.1\" 200 76544\n",
      "\n",
      "\n",
      "\n",
      "\n",
      "\n",
      "graphite2-1.3.14     | 75 KB     | #######9                              |  21% \u001b[A\u001b[A\u001b[A\u001b[A\u001b[A\n",
      "\n",
      "\n",
      "\n",
      "\n",
      "graphite2-1.3.14     | 75 KB     | ##################################### | 100% \u001b[A\u001b[A\u001b[A\u001b[A\u001b[A\n",
      "\n",
      "graphviz-2.50.0      | 2.4 MB    | ############################9         |  78% \u001b[A\u001b[ADEBUG:urllib3.connectionpool:https://repo.anaconda.com:443 \"GET /pkgs/main/noarch/fonts-conda-ecosystem-1-hd3eb1b0_0.conda HTTP/1.1\" 200 5326\n",
      "\n",
      "\n",
      "\n",
      "\n",
      "\n",
      "\n",
      "fonts-conda-ecosyste | 5 KB      | ##################################### | 100% \u001b[A\u001b[A\u001b[A\u001b[A\u001b[A\u001b[A\n",
      "\n",
      "\n",
      "\n",
      "\n",
      "\n",
      "fonts-conda-ecosyste | 5 KB      | ##################################### | 100% \u001b[A\u001b[A\u001b[A\u001b[A\u001b[A\u001b[A\n",
      "\n",
      "graphviz-2.50.0      | 2.4 MB    | ##################################### | 100% \u001b[A\u001b[ADEBUG:urllib3.connectionpool:https://repo.anaconda.com:443 \"GET /pkgs/main/osx-arm64/gts-0.7.6-hde733a8_3.conda HTTP/1.1\" 200 294327\n",
      "\n",
      "\n",
      "\n",
      "\n",
      "\n",
      "\n",
      "\n",
      "\n",
      "gts-0.7.6            | 287 KB    | ##                                    |   6% \u001b[A\u001b[A\u001b[A\u001b[A\u001b[A\u001b[A\u001b[A\u001b[A\n",
      "\n",
      "\n",
      "\n",
      "\n",
      "\n",
      "\n",
      "\n",
      "gts-0.7.6            | 287 KB    | ##################################### | 100% \u001b[A\u001b[A\u001b[A\u001b[A\u001b[A\u001b[A\u001b[A\u001b[ADEBUG:urllib3.connectionpool:https://repo.anaconda.com:443 \"GET /pkgs/main/osx-arm64/fribidi-1.0.10-h1a28f6b_0.conda HTTP/1.1\" 200 61019\n",
      "\n",
      "\n",
      "\n",
      "\n",
      "\n",
      "\n",
      "\n",
      "\n",
      "\n",
      "\n",
      "fribidi-1.0.10       | 60 KB     | #########9                            |  27% \u001b[A\u001b[A\u001b[A\u001b[A\u001b[A\u001b[A\u001b[A\u001b[A\u001b[A\u001b[A\n",
      "\n",
      "\n",
      "font-ttf-source-code | 654 KB    | ##################################### | 100% \u001b[A\u001b[A\u001b[A\n",
      "\n",
      "\n",
      "\n",
      "\n",
      "\n",
      "\n",
      "\n",
      "\n",
      "\n",
      "fribidi-1.0.10       | 60 KB     | ##################################### | 100% \u001b[A\u001b[A\u001b[A\u001b[A\u001b[A\u001b[A\u001b[A\u001b[A\u001b[A\u001b[ADEBUG:urllib3.connectionpool:https://repo.anaconda.com:443 \"GET /pkgs/main/noarch/font-ttf-inconsolata-2.001-hcb22688_0.conda HTTP/1.1\" 200 85498\n",
      "\n",
      "\n",
      "\n",
      "\n",
      "\n",
      "\n",
      "\n",
      "\n",
      "\n",
      "\n",
      "\n",
      "font-ttf-inconsolata | 83 KB     | #######                               |  19% \u001b[A\u001b[A\u001b[A\u001b[A\u001b[A\u001b[A\u001b[A\u001b[A\u001b[A\u001b[A\u001b[A\n",
      "\n",
      "\n",
      "\n",
      "\n",
      "\n",
      "\n",
      "\n",
      "\n",
      "\n",
      "\n",
      "font-ttf-inconsolata | 83 KB     | ##################################### | 100% \u001b[A\u001b[A\u001b[A\u001b[A\u001b[A\u001b[A\u001b[A\u001b[A\u001b[A\u001b[A\u001b[ADEBUG:urllib3.connectionpool:https://repo.anaconda.com:443 \"GET /pkgs/main/noarch/fonts-anaconda-1-h8fa9717_0.conda HTTP/1.1\" 200 2835\n",
      "\n",
      "\n",
      "\n",
      "\n",
      "\n",
      "\n",
      "\n",
      "\n",
      "\n",
      "\n",
      "\n",
      "\n",
      "\n",
      "fonts-anaconda-1     | 3 KB      | ##################################### | 100% \u001b[A\u001b[A\u001b[A\u001b[A\u001b[A\u001b[A\u001b[A\u001b[A\u001b[A\u001b[A\u001b[A\u001b[A\u001b[A\n",
      "\n",
      "\n",
      "\n",
      "\n",
      "\n",
      "\n",
      "\n",
      "\n",
      "\n",
      "\n",
      "\n",
      "\n",
      "fonts-anaconda-1     | 3 KB      | ##################################### | 100% \u001b[A\u001b[A\u001b[A\u001b[A\u001b[A\u001b[A\u001b[A\u001b[A\u001b[A\u001b[A\u001b[A\u001b[A\u001b[ADEBUG:urllib3.connectionpool:https://repo.anaconda.com:443 \"GET /pkgs/main/osx-arm64/harfbuzz-4.3.0-he9eebac_1.conda HTTP/1.1\" 200 1151239\n",
      "\n",
      "\n",
      "\n",
      "\n",
      "\n",
      "\n",
      "\n",
      "\n",
      "\n",
      "\n",
      "\n",
      "\n",
      "\n",
      "\n",
      "harfbuzz-4.3.0       | 1.1 MB    | 5                                     |   1% \u001b[A\u001b[A\u001b[A\u001b[A\u001b[A\u001b[A\u001b[A\u001b[A\u001b[A\u001b[A\u001b[A\u001b[A\u001b[A\u001b[ADEBUG:urllib3.connectionpool:https://repo.anaconda.com:443 \"GET /pkgs/main/osx-arm64/gdk-pixbuf-2.42.10-h80987f9_0.conda HTTP/1.1\" 200 595092\n",
      "\n",
      "\n",
      "\n",
      "\n",
      "\n",
      "\n",
      "\n",
      "\n",
      "\n",
      "\n",
      "\n",
      "\n",
      "gdk-pixbuf-2.42.10   | 581 KB    | #                                     |   3% \u001b[A\u001b[A\u001b[A\u001b[A\u001b[A\u001b[A\u001b[A\u001b[A\u001b[A\u001b[A\u001b[A\u001b[A\n",
      "\n",
      "\n",
      "\n",
      "\n",
      "\n",
      "\n",
      "\n",
      "\n",
      "\n",
      "\n",
      "\n",
      "\n",
      "\n",
      "harfbuzz-4.3.0       | 1.1 MB    | ##################################### | 100% \u001b[A\u001b[A\u001b[A\u001b[A\u001b[A\u001b[A\u001b[A\u001b[A\u001b[A\u001b[A\u001b[A\u001b[A\u001b[A\u001b[A\n",
      "\n",
      "\n",
      "\n",
      "\n",
      "\n",
      "\n",
      "\n",
      "\n",
      "\n",
      "\n",
      "\n",
      "gdk-pixbuf-2.42.10   | 581 KB    | ##################################### | 100% \u001b[A\u001b[A\u001b[A\u001b[A\u001b[A\u001b[A\u001b[A\u001b[A\u001b[A\u001b[A\u001b[A\u001b[A\n",
      "\n",
      "\n",
      "\n",
      "\n",
      "\n",
      "\n",
      "\n",
      "\n",
      "\n",
      "\n",
      "\n",
      "gdk-pixbuf-2.42.10   | 581 KB    | ##################################### | 100% \u001b[A\u001b[A\u001b[A\u001b[A\u001b[A\u001b[A\u001b[A\u001b[A\u001b[A\u001b[A\u001b[A\u001b[ADEBUG:urllib3.connectionpool:https://repo.anaconda.com:443 \"GET /pkgs/main/noarch/font-ttf-ubuntu-0.83-h8b1ccd4_0.conda HTTP/1.1\" 200 1565433\n",
      "DEBUG:urllib3.connectionpool:https://repo.anaconda.com:443 \"GET /pkgs/main/osx-arm64/libtool-2.4.6-h313beb8_1009.conda HTTP/1.1\" 200 432179\n",
      "\n",
      "\n",
      "\n",
      "\n",
      "\n",
      "\n",
      "\n",
      "\n",
      "\n",
      "\n",
      "\n",
      "\n",
      "\n",
      "\n",
      "\n",
      "font-ttf-ubuntu-0.83 | 1.5 MB    | 3                                     |   1% \u001b[A\u001b[A\u001b[A\u001b[A\u001b[A\u001b[A\u001b[A\u001b[A\u001b[A\u001b[A\u001b[A\u001b[A\u001b[A\u001b[A\u001b[A\n",
      "\n",
      "\n",
      "\n",
      "\n",
      "\n",
      "\n",
      "\n",
      "\n",
      "\n",
      "\n",
      "\n",
      "\n",
      "\n",
      "\n",
      "\n",
      "libtool-2.4.6        | 422 KB    | #4                                    |   4% \u001b[A\u001b[A\u001b[A\u001b[A\u001b[A\u001b[A\u001b[A\u001b[A\u001b[A\u001b[A\u001b[A\u001b[A\u001b[A\u001b[A\u001b[A\u001b[ADEBUG:urllib3.connectionpool:https://repo.anaconda.com:443 \"GET /pkgs/main/osx-arm64/libgd-2.3.3-h14f8a72_1.conda HTTP/1.1\" 200 204587\n",
      "\n",
      "\n",
      "\n",
      "\n",
      "\n",
      "\n",
      "\n",
      "\n",
      "\n",
      "\n",
      "\n",
      "\n",
      "\n",
      "\n",
      "\n",
      "\n",
      "libgd-2.3.3          | 200 KB    | ##9                                   |   8% \u001b[A\u001b[A\u001b[A\u001b[A\u001b[A\u001b[A\u001b[A\u001b[A\u001b[A\u001b[A\u001b[A\u001b[A\u001b[A\u001b[A\u001b[A\u001b[A\n",
      "\n",
      "\n",
      "\n",
      "\n",
      "\n",
      "\n",
      "\n",
      "\n",
      "\n",
      "\n",
      "\n",
      "\n",
      "\n",
      "\n",
      "font-ttf-ubuntu-0.83 | 1.5 MB    | ##################################### | 100% \u001b[A\u001b[A\u001b[A\u001b[A\u001b[A\u001b[A\u001b[A\u001b[A\u001b[A\u001b[A\u001b[A\u001b[A\u001b[A\u001b[A\u001b[ADEBUG:urllib3.connectionpool:https://repo.anaconda.com:443 \"GET /pkgs/main/osx-arm64/librsvg-2.54.4-hb3bd4c3_3.conda HTTP/1.1\" 200 6819373\n",
      "\n",
      "\n",
      "\n",
      "\n",
      "\n",
      "\n",
      "\n",
      "\n",
      "\n",
      "\n",
      "\n",
      "\n",
      "\n",
      "\n",
      "\n",
      "\n",
      "\n",
      "libgd-2.3.3          | 200 KB    | ##################################### | 100% \u001b[A\u001b[A\u001b[A\u001b[A\u001b[A\u001b[A\u001b[A\u001b[A\u001b[A\u001b[A\u001b[A\u001b[A\u001b[A\u001b[A\u001b[A\u001b[A\u001b[A\n",
      "\n",
      "\n",
      "\n",
      "\n",
      "\n",
      "\n",
      "\n",
      "\n",
      "\n",
      "\n",
      "\n",
      "\n",
      "\n",
      "\n",
      "\n",
      "\n",
      "librsvg-2.54.4       | 6.5 MB    | #############6                        |  37% \u001b[A\u001b[A\u001b[A\u001b[A\u001b[A\u001b[A\u001b[A\u001b[A\u001b[A\u001b[A\u001b[A\u001b[A\u001b[A\u001b[A\u001b[A\u001b[A\u001b[ADEBUG:urllib3.connectionpool:https://repo.anaconda.com:443 \"GET /pkgs/main/osx-arm64/python-graphviz-0.20.1-py311hca03da5_0.conda HTTP/1.1\" 200 81272\n",
      "\n",
      "\n",
      "\n",
      "\n",
      "\n",
      "\n",
      "\n",
      "python-graphviz-0.20 | 79 KB     | #######4                              |  20% \u001b[A\u001b[A\u001b[A\u001b[A\u001b[A\u001b[A\u001b[A\n",
      "\n",
      "\n",
      "\n",
      "\n",
      "\n",
      "\n",
      "python-graphviz-0.20 | 79 KB     | ##################################### | 100% \u001b[A\u001b[A\u001b[A\u001b[A\u001b[A\u001b[A\u001b[A\n",
      "\n",
      "\n",
      "\n",
      "\n",
      "\n",
      "\n",
      "\n",
      "\n",
      "\n",
      "\n",
      "\n",
      "\n",
      "\n",
      "\n",
      "\n",
      "\n",
      "librsvg-2.54.4       | 6.5 MB    | ################################4     |  88% \u001b[A\u001b[A\u001b[A\u001b[A\u001b[A\u001b[A\u001b[A\u001b[A\u001b[A\u001b[A\u001b[A\u001b[A\u001b[A\u001b[A\u001b[A\u001b[A\u001b[ADEBUG:urllib3.connectionpool:https://repo.anaconda.com:443 \"GET /pkgs/main/osx-arm64/catboost-1.2.3-py311hca03da5_0.conda HTTP/1.1\" 200 22543045\n",
      "\n",
      "\n",
      "\n",
      "\n",
      "\n",
      "\n",
      "\n",
      "\n",
      "\n",
      "catboost-1.2.3       | 21.5 MB   |                                       |   0% \u001b[A\u001b[A\u001b[A\u001b[A\u001b[A\u001b[A\u001b[A\u001b[A\u001b[A\n",
      "\n",
      "\n",
      "\n",
      "\n",
      "\n",
      "\n",
      "\n",
      "\n",
      "\n",
      "\n",
      "\n",
      "\n",
      "\n",
      "\n",
      "\n",
      "\n",
      "librsvg-2.54.4       | 6.5 MB    | ##################################### | 100% \u001b[A\u001b[A\u001b[A\u001b[A\u001b[A\u001b[A\u001b[A\u001b[A\u001b[A\u001b[A\u001b[A\u001b[A\u001b[A\u001b[A\u001b[A\u001b[A\u001b[A\n",
      "\n",
      "\n",
      "\n",
      "\n",
      "\n",
      "\n",
      "\n",
      "\n",
      "catboost-1.2.3       | 21.5 MB   |                                       |   0% \u001b[A\u001b[A\u001b[A\u001b[A\u001b[A\u001b[A\u001b[A\u001b[A\u001b[A\n",
      "\n",
      "\n",
      "\n",
      "\n",
      "\n",
      "\n",
      "\n",
      "\n",
      "catboost-1.2.3       | 21.5 MB   | 1                                     |   0% \u001b[A\u001b[A\u001b[A\u001b[A\u001b[A\u001b[A\u001b[A\u001b[A\u001b[A\n",
      "\n",
      "\n",
      "\n",
      "\n",
      "\n",
      "\n",
      "\n",
      "\n",
      "catboost-1.2.3       | 21.5 MB   | 2                                     |   1% \u001b[A\u001b[A\u001b[A\u001b[A\u001b[A\u001b[A\u001b[A\u001b[A\u001b[A\n",
      "\n",
      "\n",
      "\n",
      "\n",
      "\n",
      "\n",
      "\n",
      "\n",
      "catboost-1.2.3       | 21.5 MB   | 5                                     |   2% \u001b[A\u001b[A\u001b[A\u001b[A\u001b[A\u001b[A\u001b[A\u001b[A\u001b[A\n",
      "\n",
      "\n",
      "\n",
      "\n",
      "\n",
      "\n",
      "\n",
      "\n",
      "catboost-1.2.3       | 21.5 MB   | 8                                     |   2% \u001b[A\u001b[A\u001b[A\u001b[A\u001b[A\u001b[A\u001b[A\u001b[A\u001b[A\n",
      "\n",
      "\n",
      "\n",
      "\n",
      "\n",
      "\n",
      "\n",
      "\n",
      "catboost-1.2.3       | 21.5 MB   | #1                                    |   3% \u001b[A\u001b[A\u001b[A\u001b[A\u001b[A\u001b[A\u001b[A\u001b[A\u001b[A\n",
      "\n",
      "\n",
      "\n",
      "\n",
      "\n",
      "\n",
      "\n",
      "\n",
      "catboost-1.2.3       | 21.5 MB   | #6                                    |   4% \u001b[A\u001b[A\u001b[A\u001b[A\u001b[A\u001b[A\u001b[A\u001b[A\u001b[A\n",
      "\n",
      "\n",
      "\n",
      "\n",
      "\n",
      "\n",
      "\n",
      "\n",
      "catboost-1.2.3       | 21.5 MB   | ###2                                  |   9% \u001b[A\u001b[A\u001b[A\u001b[A\u001b[A\u001b[A\u001b[A\u001b[A\u001b[A\n",
      "\n",
      "\n",
      "\n",
      "\n",
      "\n",
      "\n",
      "\n",
      "\n",
      "catboost-1.2.3       | 21.5 MB   | ####3                                 |  12% \u001b[A\u001b[A\u001b[A\u001b[A\u001b[A\u001b[A\u001b[A\u001b[A\u001b[A\n",
      "\n",
      "\n",
      "\n",
      "\n",
      "\n",
      "\n",
      "\n",
      "\n",
      "catboost-1.2.3       | 21.5 MB   | ######3                               |  17% \u001b[A\u001b[A\u001b[A\u001b[A\u001b[A\u001b[A\u001b[A\u001b[A\u001b[A\n",
      "\n",
      "\n",
      "\n",
      "\n",
      "\n",
      "\n",
      "\n",
      "\n",
      "catboost-1.2.3       | 21.5 MB   | ########7                             |  24% \u001b[A\u001b[A\u001b[A\u001b[A\u001b[A\u001b[A\u001b[A\u001b[A\u001b[A\n",
      "\n",
      "\n",
      "\n",
      "\n",
      "\n",
      "\n",
      "\n",
      "\n",
      "catboost-1.2.3       | 21.5 MB   | ##########2                           |  28% \u001b[A\u001b[A\u001b[A\u001b[A\u001b[A\u001b[A\u001b[A\u001b[A\u001b[A\n",
      "\n",
      "\n",
      "\n",
      "\n",
      "\n",
      "\n",
      "\n",
      "\n",
      "catboost-1.2.3       | 21.5 MB   | #################                     |  46% \u001b[A\u001b[A\u001b[A\u001b[A\u001b[A\u001b[A\u001b[A\u001b[A\u001b[A\n",
      "\n",
      "\n",
      "\n",
      "\n",
      "\n",
      "\n",
      "\n",
      "\n",
      "catboost-1.2.3       | 21.5 MB   | #######################7              |  64% \u001b[A\u001b[A\u001b[A\u001b[A\u001b[A\u001b[A\u001b[A\u001b[A\u001b[A\n",
      "\n",
      "\n",
      "\n",
      "\n",
      "\n",
      "\n",
      "\n",
      "\n",
      "catboost-1.2.3       | 21.5 MB   | ################################6     |  88% \u001b[A\u001b[A\u001b[A\u001b[A\u001b[A\u001b[A\u001b[A\u001b[A\u001b[A\n",
      "\n",
      "\n",
      "\n",
      "\n",
      "\n",
      "\n",
      "\n",
      "\n",
      "                                                                                \u001b[A\u001b[A\u001b[A\u001b[A\u001b[A\u001b[A\u001b[A\u001b[A\u001b[A\n",
      "                                                                                \u001b[A\n",
      "\n",
      "                                                                                \u001b[A\u001b[A\n",
      "\n",
      "\n",
      "                                                                                \u001b[A\u001b[A\u001b[A\n",
      "\n",
      "\n",
      "\n",
      "                                                                                \u001b[A\u001b[A\u001b[A\u001b[A\n",
      "\n",
      "\n",
      "\n",
      "\n",
      "                                                                                \u001b[A\u001b[A\u001b[A\u001b[A\u001b[A\n",
      "\n",
      "\n",
      "\n",
      "\n",
      "\n",
      "                                                                                \u001b[A\u001b[A\u001b[A\u001b[A\u001b[A\u001b[A\n",
      "\n",
      "\n",
      "\n",
      "\n",
      "\n",
      "\n",
      "                                                                                \u001b[A\u001b[A\u001b[A\u001b[A\u001b[A\u001b[A\u001b[A\n",
      "\n",
      "\n",
      "\n",
      "\n",
      "\n",
      "\n",
      "\n",
      "                                                                                \u001b[A\u001b[A\u001b[A\u001b[A\u001b[A\u001b[A\u001b[A\u001b[A\n",
      "\n",
      "\n",
      "\n",
      "\n",
      "\n",
      "\n",
      "\n",
      "\n",
      "                                                                                \u001b[A\u001b[A\u001b[A\u001b[A\u001b[A\u001b[A\u001b[A\u001b[A\u001b[A\n",
      "\n",
      "\n",
      "\n",
      "\n",
      "\n",
      "\n",
      "\n",
      "\n",
      "\n",
      "                                                                                \u001b[A\u001b[A\u001b[A\u001b[A\u001b[A\u001b[A\u001b[A\u001b[A\u001b[A\u001b[A\n",
      "\n",
      "\n",
      "\n",
      "\n",
      "\n",
      "\n",
      "\n",
      "\n",
      "\n",
      "\n",
      "                                                                                \u001b[A\u001b[A\u001b[A\u001b[A\u001b[A\u001b[A\u001b[A\u001b[A\u001b[A\u001b[A\u001b[A\n",
      "\n",
      "\n",
      "\n",
      "\n",
      "\n",
      "\n",
      "\n",
      "\n",
      "\n",
      "\n",
      "\n",
      "                                                                                \u001b[A\u001b[A\u001b[A\u001b[A\u001b[A\u001b[A\u001b[A\u001b[A\u001b[A\u001b[A\u001b[A\u001b[A\n",
      "\n",
      "\n",
      "\n",
      "\n",
      "\n",
      "\n",
      "\n",
      "\n",
      "\n",
      "\n",
      "\n",
      "\n",
      "                                                                                \u001b[A\u001b[A\u001b[A\u001b[A\u001b[A\u001b[A\u001b[A\u001b[A\u001b[A\u001b[A\u001b[A\u001b[A\u001b[A\n",
      "\n",
      "\n",
      "\n",
      "\n",
      "\n",
      "\n",
      "\n",
      "\n",
      "\n",
      "\n",
      "\n",
      "\n",
      "\n",
      "                                                                                \u001b[A\u001b[A\u001b[A\u001b[A\u001b[A\u001b[A\u001b[A\u001b[A\u001b[A\u001b[A\u001b[A\u001b[A\u001b[A\u001b[A\n",
      "\n",
      "\n",
      "\n",
      "\n",
      "\n",
      "\n",
      "\n",
      "\n",
      "\n",
      "\n",
      "\n",
      "\n",
      "\n",
      "\n",
      "                                                                                \u001b[A\u001b[A\u001b[A\u001b[A\u001b[A\u001b[A\u001b[A\u001b[A\u001b[A\u001b[A\u001b[A\u001b[A\u001b[A\u001b[A\u001b[A\n",
      "\n",
      "\n",
      "\n",
      "\n",
      "\n",
      "\n",
      "\n",
      "\n",
      "\n",
      "\n",
      "\n",
      "\n",
      "\n",
      "\n",
      "\n",
      "                                                                                \u001b[A\u001b[A\u001b[A\u001b[A\u001b[A\u001b[A\u001b[A\u001b[A\u001b[A\u001b[A\u001b[A\u001b[A\u001b[A\u001b[A\u001b[A\u001b[A\n",
      "\n",
      "\n",
      "\n",
      "\n",
      "\n",
      "\n",
      "\n",
      "\n",
      "\n",
      "\n",
      "\n",
      "\n",
      "\n",
      "\n",
      "\n",
      "\n",
      "                                                                                \u001b[A\u001b[A\u001b[A\u001b[A\u001b[A\u001b[A\u001b[A\u001b[A\u001b[A\u001b[A\u001b[A\u001b[A\u001b[A\u001b[A\u001b[A\u001b[A\u001b[A\n",
      "Preparing transaction: done\n",
      "Verifying transaction: | WARNING conda.core.path_actions:verify(1051): Unable to create environments file. Path not writable.\n",
      "  environment location: /Users/zowcool/.conda/environments.txt\n",
      "\n",
      "done\n",
      "Executing transaction: - WARNING conda.core.envs_manager:register_env(52): Unable to register environment. Path not writable or missing.\n",
      "  environment location: /Users/zowcool/anaconda3\n",
      "  registry file: /Users/zowcool/.conda/environments.txt\n",
      "done\n",
      "\n",
      "Note: you may need to restart the kernel to use updated packages.\n"
     ]
    }
   ],
   "source": [
    "%conda install catboost"
   ]
  },
  {
   "cell_type": "code",
   "execution_count": 32,
   "metadata": {},
   "outputs": [],
   "source": [
    "from imblearn.over_sampling import SMOTE\n",
    "from catboost import CatBoostClassifier, Pool\n",
    "from sklearn.model_selection import train_test_split\n",
    "from sklearn.metrics import accuracy_score"
   ]
  },
  {
   "cell_type": "code",
   "execution_count": 34,
   "metadata": {},
   "outputs": [],
   "source": [
    "X = df_catboost[[\"junc_det_label\"\n",
    "                    ,\"road_type_label\"\n",
    "                    ,\"light_label\"\n",
    "                    ,\"ur_label\"\n",
    "                    ,\"speed_label\"\n",
    "                    ,\"vehicle_type_label\"\n",
    "                    ,\"weatger_label\"\n",
    "                    ,\"road_surface_label\"]]\n",
    "\n",
    "y = df_catboost[\"severity_label\"]"
   ]
  },
  {
   "cell_type": "code",
   "execution_count": 35,
   "metadata": {},
   "outputs": [],
   "source": [
    "X_train, X_test, y_train, y_test = train_test_split(X, y, test_size=0.2, random_state=42, stratify=y)"
   ]
  },
  {
   "cell_type": "code",
   "execution_count": 39,
   "metadata": {},
   "outputs": [],
   "source": [
    "# 创建 SMOTE 对象\n",
    "smote = SMOTE(random_state=42)\n",
    "\n",
    "# 进行过采样\n",
    "X_resampled, y_resampled = smote.fit_resample(X_train, y_train)\n",
    "\n",
    "# 转换为 DataFrame 便于观察\n",
    "df_resampled = pd.DataFrame(X_resampled, columns=['feature1', 'feature2'])\n",
    "df_resampled['label'] = y_resampled"
   ]
  },
  {
   "cell_type": "code",
   "execution_count": 40,
   "metadata": {},
   "outputs": [
    {
     "name": "stdout",
     "output_type": "stream",
     "text": [
      "Original dataset shape: 0    210624\n",
      "1     35754\n",
      "Name: severity_label, dtype: int64\n",
      "Resampled dataset shape: 0    210624\n",
      "1    210624\n",
      "Name: severity_label, dtype: int64\n"
     ]
    }
   ],
   "source": [
    "print(\"Original dataset shape:\", y_train.value_counts())\n",
    "print(\"Resampled dataset shape:\", y_resampled.value_counts())"
   ]
  },
  {
   "cell_type": "code",
   "execution_count": 42,
   "metadata": {},
   "outputs": [
    {
     "name": "stdout",
     "output_type": "stream",
     "text": [
      "0:\tlearn: 0.6323562\ttotal: 68.2ms\tremaining: 1m 8s\n",
      "200:\tlearn: 0.4020257\ttotal: 2.66s\tremaining: 10.6s\n",
      "400:\tlearn: 0.4002889\ttotal: 5.25s\tremaining: 7.85s\n",
      "600:\tlearn: 0.3989727\ttotal: 7.84s\tremaining: 5.21s\n",
      "800:\tlearn: 0.3979355\ttotal: 10.4s\tremaining: 2.57s\n",
      "999:\tlearn: 0.3970888\ttotal: 12.9s\tremaining: 0us\n",
      "Accuracy: 0.85\n"
     ]
    }
   ],
   "source": [
    "train_pool = Pool(X_train, y_train)\n",
    "test_pool = Pool(X_test)\n",
    "\n",
    "# 初始化 CatBoostClassifier\n",
    "model = CatBoostClassifier(iterations=1000, learning_rate=0.1, depth=6, verbose=200)\n",
    "\n",
    "# 训练模型\n",
    "model.fit(train_pool)\n",
    "\n",
    "# 预测\n",
    "y_pred = model.predict(test_pool)\n",
    "\n",
    "# 评估模型\n",
    "accuracy = accuracy_score(y_test, y_pred)\n",
    "print(f'Accuracy: {accuracy:.2f}')"
   ]
  },
  {
   "cell_type": "code",
   "execution_count": 44,
   "metadata": {},
   "outputs": [
    {
     "name": "stdout",
     "output_type": "stream",
     "text": [
      "0:\tlearn: 0.6875000\ttotal: 24ms\tremaining: 24s\n",
      "200:\tlearn: 0.6580032\ttotal: 4.07s\tremaining: 16.2s\n",
      "400:\tlearn: 0.6531010\ttotal: 8.04s\tremaining: 12s\n",
      "600:\tlearn: 0.6498382\ttotal: 12.1s\tremaining: 8.01s\n",
      "800:\tlearn: 0.6475779\ttotal: 16s\tremaining: 3.98s\n",
      "999:\tlearn: 0.6458081\ttotal: 19.9s\tremaining: 0us\n",
      "Accuracy: 0.60\n"
     ]
    }
   ],
   "source": [
    "train_pool = Pool(X_resampled, y_resampled)\n",
    "test_pool = Pool(X_test)\n",
    "\n",
    "# 初始化 CatBoostClassifier\n",
    "model = CatBoostClassifier(iterations=1000, learning_rate=0.2, depth=6, verbose=200)\n",
    "\n",
    "# 训练模型\n",
    "model.fit(train_pool)\n",
    "\n",
    "# 预测\n",
    "y_pred = model.predict(test_pool)\n",
    "\n",
    "# 评估模型\n",
    "accuracy = accuracy_score(y_test, y_pred)\n",
    "print(f'Accuracy: {accuracy:.2f}')"
   ]
  },
  {
   "cell_type": "code",
   "execution_count": 46,
   "metadata": {},
   "outputs": [
    {
     "data": {
      "image/png": "[encoded data removed]",
      "text/plain": [
       "<Figure size 800x470 with 2 Axes>"
      ]
     },
     "metadata": {},
     "output_type": "display_data"
    }
   ],
   "source": [
    "import shap\n",
    "\n",
    "# 创建一个 SHAP 解释器\n",
    "explainer = shap.TreeExplainer(model)\n",
    "\n",
    "# 计算 SHAP 值\n",
    "shap_values = explainer.shap_values(X_test)\n",
    "\n",
    "# 可视化 SHAP 值\n",
    "shap.summary_plot(shap_values, X_test)"
   ]
  },
  {
   "cell_type": "code",
   "execution_count": null,
   "metadata": {},
   "outputs": [],
   "source": []
  }
 ],
 "metadata": {
  "language_info": {
   "name": "python"
  }
 },
 "nbformat": 4,
 "nbformat_minor": 2
}
