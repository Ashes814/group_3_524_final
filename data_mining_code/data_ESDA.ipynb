{
 "cells": [
  {
   "cell_type": "code",
   "execution_count": 1,
   "metadata": {},
   "outputs": [
    {
     "data": {
      "text/html": [
       "<div>\n",
       "<style scoped>\n",
       "    .dataframe tbody tr th:only-of-type {\n",
       "        vertical-align: middle;\n",
       "    }\n",
       "\n",
       "    .dataframe tbody tr th {\n",
       "        vertical-align: top;\n",
       "    }\n",
       "\n",
       "    .dataframe thead th {\n",
       "        text-align: right;\n",
       "    }\n",
       "</style>\n",
       "<table border=\"1\" class=\"dataframe\">\n",
       "  <thead>\n",
       "    <tr style=\"text-align: right;\">\n",
       "      <th></th>\n",
       "      <th>Accident_Index</th>\n",
       "      <th>Accident Date</th>\n",
       "      <th>Day_of_Week</th>\n",
       "      <th>Junction_Control</th>\n",
       "      <th>Junction_Detail</th>\n",
       "      <th>Accident_Severity</th>\n",
       "      <th>Latitude</th>\n",
       "      <th>Light_Conditions</th>\n",
       "      <th>Local_Authority_(District)</th>\n",
       "      <th>Carriageway_Hazards</th>\n",
       "      <th>...</th>\n",
       "      <th>Number_of_Casualties</th>\n",
       "      <th>Number_of_Vehicles</th>\n",
       "      <th>Police_Force</th>\n",
       "      <th>Road_Surface_Conditions</th>\n",
       "      <th>Road_Type</th>\n",
       "      <th>Speed_limit</th>\n",
       "      <th>Time</th>\n",
       "      <th>Urban_or_Rural_Area</th>\n",
       "      <th>Weather_Conditions</th>\n",
       "      <th>Vehicle_Type</th>\n",
       "    </tr>\n",
       "  </thead>\n",
       "  <tbody>\n",
       "    <tr>\n",
       "      <th>0</th>\n",
       "      <td>200901BS70001</td>\n",
       "      <td>1/1/2021</td>\n",
       "      <td>Thursday</td>\n",
       "      <td>Give way or uncontrolled</td>\n",
       "      <td>T or staggered junction</td>\n",
       "      <td>Serious</td>\n",
       "      <td>51.512273</td>\n",
       "      <td>Daylight</td>\n",
       "      <td>Kensington and Chelsea</td>\n",
       "      <td>None</td>\n",
       "      <td>...</td>\n",
       "      <td>1</td>\n",
       "      <td>2</td>\n",
       "      <td>Metropolitan Police</td>\n",
       "      <td>Dry</td>\n",
       "      <td>One way street</td>\n",
       "      <td>30</td>\n",
       "      <td>15:11</td>\n",
       "      <td>Urban</td>\n",
       "      <td>Fine no high winds</td>\n",
       "      <td>Car</td>\n",
       "    </tr>\n",
       "    <tr>\n",
       "      <th>1</th>\n",
       "      <td>200901BS70002</td>\n",
       "      <td>1/5/2021</td>\n",
       "      <td>Monday</td>\n",
       "      <td>Give way or uncontrolled</td>\n",
       "      <td>Crossroads</td>\n",
       "      <td>Serious</td>\n",
       "      <td>51.514399</td>\n",
       "      <td>Daylight</td>\n",
       "      <td>Kensington and Chelsea</td>\n",
       "      <td>None</td>\n",
       "      <td>...</td>\n",
       "      <td>11</td>\n",
       "      <td>2</td>\n",
       "      <td>Metropolitan Police</td>\n",
       "      <td>Wet or damp</td>\n",
       "      <td>Single carriageway</td>\n",
       "      <td>30</td>\n",
       "      <td>10:59</td>\n",
       "      <td>Urban</td>\n",
       "      <td>Fine no high winds</td>\n",
       "      <td>Taxi/Private hire car</td>\n",
       "    </tr>\n",
       "    <tr>\n",
       "      <th>2</th>\n",
       "      <td>200901BS70003</td>\n",
       "      <td>1/4/2021</td>\n",
       "      <td>Sunday</td>\n",
       "      <td>Give way or uncontrolled</td>\n",
       "      <td>T or staggered junction</td>\n",
       "      <td>Slight</td>\n",
       "      <td>51.486668</td>\n",
       "      <td>Daylight</td>\n",
       "      <td>Kensington and Chelsea</td>\n",
       "      <td>None</td>\n",
       "      <td>...</td>\n",
       "      <td>1</td>\n",
       "      <td>2</td>\n",
       "      <td>Metropolitan Police</td>\n",
       "      <td>Dry</td>\n",
       "      <td>Single carriageway</td>\n",
       "      <td>30</td>\n",
       "      <td>14:19</td>\n",
       "      <td>Urban</td>\n",
       "      <td>Fine no high winds</td>\n",
       "      <td>Taxi/Private hire car</td>\n",
       "    </tr>\n",
       "    <tr>\n",
       "      <th>3</th>\n",
       "      <td>200901BS70004</td>\n",
       "      <td>1/5/2021</td>\n",
       "      <td>Monday</td>\n",
       "      <td>Auto traffic signal</td>\n",
       "      <td>T or staggered junction</td>\n",
       "      <td>Serious</td>\n",
       "      <td>51.507804</td>\n",
       "      <td>Daylight</td>\n",
       "      <td>Kensington and Chelsea</td>\n",
       "      <td>None</td>\n",
       "      <td>...</td>\n",
       "      <td>1</td>\n",
       "      <td>2</td>\n",
       "      <td>Metropolitan Police</td>\n",
       "      <td>Frost or ice</td>\n",
       "      <td>Single carriageway</td>\n",
       "      <td>30</td>\n",
       "      <td>08:10</td>\n",
       "      <td>Urban</td>\n",
       "      <td>Other</td>\n",
       "      <td>Motorcycle over 500cc</td>\n",
       "    </tr>\n",
       "    <tr>\n",
       "      <th>4</th>\n",
       "      <td>200901BS70005</td>\n",
       "      <td>1/6/2021</td>\n",
       "      <td>Tuesday</td>\n",
       "      <td>Auto traffic signal</td>\n",
       "      <td>Crossroads</td>\n",
       "      <td>Serious</td>\n",
       "      <td>51.482076</td>\n",
       "      <td>Darkness - lights lit</td>\n",
       "      <td>Kensington and Chelsea</td>\n",
       "      <td>None</td>\n",
       "      <td>...</td>\n",
       "      <td>1</td>\n",
       "      <td>2</td>\n",
       "      <td>Metropolitan Police</td>\n",
       "      <td>Dry</td>\n",
       "      <td>Single carriageway</td>\n",
       "      <td>30</td>\n",
       "      <td>17:25</td>\n",
       "      <td>Urban</td>\n",
       "      <td>Fine no high winds</td>\n",
       "      <td>Car</td>\n",
       "    </tr>\n",
       "  </tbody>\n",
       "</table>\n",
       "<p>5 rows × 21 columns</p>\n",
       "</div>"
      ],
      "text/plain": [
       "  Accident_Index Accident Date Day_of_Week          Junction_Control  \\\n",
       "0  200901BS70001      1/1/2021    Thursday  Give way or uncontrolled   \n",
       "1  200901BS70002      1/5/2021      Monday  Give way or uncontrolled   \n",
       "2  200901BS70003      1/4/2021      Sunday  Give way or uncontrolled   \n",
       "3  200901BS70004      1/5/2021      Monday       Auto traffic signal   \n",
       "4  200901BS70005      1/6/2021     Tuesday       Auto traffic signal   \n",
       "\n",
       "           Junction_Detail Accident_Severity   Latitude  \\\n",
       "0  T or staggered junction           Serious  51.512273   \n",
       "1               Crossroads           Serious  51.514399   \n",
       "2  T or staggered junction            Slight  51.486668   \n",
       "3  T or staggered junction           Serious  51.507804   \n",
       "4               Crossroads           Serious  51.482076   \n",
       "\n",
       "        Light_Conditions Local_Authority_(District) Carriageway_Hazards  ...  \\\n",
       "0               Daylight     Kensington and Chelsea                None  ...   \n",
       "1               Daylight     Kensington and Chelsea                None  ...   \n",
       "2               Daylight     Kensington and Chelsea                None  ...   \n",
       "3               Daylight     Kensington and Chelsea                None  ...   \n",
       "4  Darkness - lights lit     Kensington and Chelsea                None  ...   \n",
       "\n",
       "   Number_of_Casualties  Number_of_Vehicles         Police_Force  \\\n",
       "0                     1                   2  Metropolitan Police   \n",
       "1                    11                   2  Metropolitan Police   \n",
       "2                     1                   2  Metropolitan Police   \n",
       "3                     1                   2  Metropolitan Police   \n",
       "4                     1                   2  Metropolitan Police   \n",
       "\n",
       "  Road_Surface_Conditions           Road_Type Speed_limit   Time  \\\n",
       "0                     Dry      One way street          30  15:11   \n",
       "1             Wet or damp  Single carriageway          30  10:59   \n",
       "2                     Dry  Single carriageway          30  14:19   \n",
       "3            Frost or ice  Single carriageway          30  08:10   \n",
       "4                     Dry  Single carriageway          30  17:25   \n",
       "\n",
       "  Urban_or_Rural_Area  Weather_Conditions           Vehicle_Type  \n",
       "0               Urban  Fine no high winds                    Car  \n",
       "1               Urban  Fine no high winds  Taxi/Private hire car  \n",
       "2               Urban  Fine no high winds  Taxi/Private hire car  \n",
       "3               Urban               Other  Motorcycle over 500cc  \n",
       "4               Urban  Fine no high winds                    Car  \n",
       "\n",
       "[5 rows x 21 columns]"
      ]
     },
     "metadata": {},
     "output_type": "display_data"
    },
    {
     "name": "stdout",
     "output_type": "stream",
     "text": [
      "<class 'pandas.core.frame.DataFrame'>\n",
      "RangeIndex: 307973 entries, 0 to 307972\n",
      "Data columns (total 21 columns):\n",
      " #   Column                      Non-Null Count   Dtype  \n",
      "---  ------                      --------------   -----  \n",
      " 0   Accident_Index              307973 non-null  object \n",
      " 1   Accident Date               307973 non-null  object \n",
      " 2   Day_of_Week                 307973 non-null  object \n",
      " 3   Junction_Control            307973 non-null  object \n",
      " 4   Junction_Detail             307973 non-null  object \n",
      " 5   Accident_Severity           307973 non-null  object \n",
      " 6   Latitude                    307973 non-null  float64\n",
      " 7   Light_Conditions            307973 non-null  object \n",
      " 8   Local_Authority_(District)  307973 non-null  object \n",
      " 9   Carriageway_Hazards         307970 non-null  object \n",
      " 10  Longitude                   307973 non-null  float64\n",
      " 11  Number_of_Casualties        307973 non-null  int64  \n",
      " 12  Number_of_Vehicles          307973 non-null  int64  \n",
      " 13  Police_Force                307973 non-null  object \n",
      " 14  Road_Surface_Conditions     307656 non-null  object \n",
      " 15  Road_Type                   306439 non-null  object \n",
      " 16  Speed_limit                 307973 non-null  int64  \n",
      " 17  Time                        307956 non-null  object \n",
      " 18  Urban_or_Rural_Area         307973 non-null  object \n",
      " 19  Weather_Conditions          301916 non-null  object \n",
      " 20  Vehicle_Type                307973 non-null  object \n",
      "dtypes: float64(2), int64(3), object(16)\n",
      "memory usage: 49.3+ MB\n"
     ]
    },
    {
     "data": {
      "text/plain": [
       "None"
      ]
     },
     "metadata": {},
     "output_type": "display_data"
    },
    {
     "data": {
      "text/html": [
       "<div>\n",
       "<style scoped>\n",
       "    .dataframe tbody tr th:only-of-type {\n",
       "        vertical-align: middle;\n",
       "    }\n",
       "\n",
       "    .dataframe tbody tr th {\n",
       "        vertical-align: top;\n",
       "    }\n",
       "\n",
       "    .dataframe thead th {\n",
       "        text-align: right;\n",
       "    }\n",
       "</style>\n",
       "<table border=\"1\" class=\"dataframe\">\n",
       "  <thead>\n",
       "    <tr style=\"text-align: right;\">\n",
       "      <th></th>\n",
       "      <th>Latitude</th>\n",
       "      <th>Longitude</th>\n",
       "      <th>Number_of_Casualties</th>\n",
       "      <th>Number_of_Vehicles</th>\n",
       "      <th>Speed_limit</th>\n",
       "    </tr>\n",
       "  </thead>\n",
       "  <tbody>\n",
       "    <tr>\n",
       "      <th>count</th>\n",
       "      <td>307973.000000</td>\n",
       "      <td>307973.000000</td>\n",
       "      <td>307973.000000</td>\n",
       "      <td>307973.000000</td>\n",
       "      <td>307973.000000</td>\n",
       "    </tr>\n",
       "    <tr>\n",
       "      <th>mean</th>\n",
       "      <td>52.487005</td>\n",
       "      <td>-1.368884</td>\n",
       "      <td>1.356882</td>\n",
       "      <td>1.829063</td>\n",
       "      <td>38.866037</td>\n",
       "    </tr>\n",
       "    <tr>\n",
       "      <th>std</th>\n",
       "      <td>1.339011</td>\n",
       "      <td>1.356092</td>\n",
       "      <td>0.815857</td>\n",
       "      <td>0.710477</td>\n",
       "      <td>14.032933</td>\n",
       "    </tr>\n",
       "    <tr>\n",
       "      <th>min</th>\n",
       "      <td>49.914488</td>\n",
       "      <td>-7.516225</td>\n",
       "      <td>1.000000</td>\n",
       "      <td>1.000000</td>\n",
       "      <td>10.000000</td>\n",
       "    </tr>\n",
       "    <tr>\n",
       "      <th>25%</th>\n",
       "      <td>51.485248</td>\n",
       "      <td>-2.247937</td>\n",
       "      <td>1.000000</td>\n",
       "      <td>1.000000</td>\n",
       "      <td>30.000000</td>\n",
       "    </tr>\n",
       "    <tr>\n",
       "      <th>50%</th>\n",
       "      <td>52.225943</td>\n",
       "      <td>-1.349258</td>\n",
       "      <td>1.000000</td>\n",
       "      <td>2.000000</td>\n",
       "      <td>30.000000</td>\n",
       "    </tr>\n",
       "    <tr>\n",
       "      <th>75%</th>\n",
       "      <td>53.415517</td>\n",
       "      <td>-0.206810</td>\n",
       "      <td>1.000000</td>\n",
       "      <td>2.000000</td>\n",
       "      <td>50.000000</td>\n",
       "    </tr>\n",
       "    <tr>\n",
       "      <th>max</th>\n",
       "      <td>60.598055</td>\n",
       "      <td>1.759398</td>\n",
       "      <td>48.000000</td>\n",
       "      <td>32.000000</td>\n",
       "      <td>70.000000</td>\n",
       "    </tr>\n",
       "  </tbody>\n",
       "</table>\n",
       "</div>"
      ],
      "text/plain": [
       "            Latitude      Longitude  Number_of_Casualties  Number_of_Vehicles  \\\n",
       "count  307973.000000  307973.000000         307973.000000       307973.000000   \n",
       "mean       52.487005      -1.368884              1.356882            1.829063   \n",
       "std         1.339011       1.356092              0.815857            0.710477   \n",
       "min        49.914488      -7.516225              1.000000            1.000000   \n",
       "25%        51.485248      -2.247937              1.000000            1.000000   \n",
       "50%        52.225943      -1.349258              1.000000            2.000000   \n",
       "75%        53.415517      -0.206810              1.000000            2.000000   \n",
       "max        60.598055       1.759398             48.000000           32.000000   \n",
       "\n",
       "         Speed_limit  \n",
       "count  307973.000000  \n",
       "mean       38.866037  \n",
       "std        14.032933  \n",
       "min        10.000000  \n",
       "25%        30.000000  \n",
       "50%        30.000000  \n",
       "75%        50.000000  \n",
       "max        70.000000  "
      ]
     },
     "metadata": {},
     "output_type": "display_data"
    }
   ],
   "source": [
    "import pandas as pd\n",
    "import numpy as np\n",
    "import matplotlib.pyplot as plt\n",
    "import seaborn as sns\n",
    "\n",
    "DATA_PATH = \"/Users/zowcool/Desktop/PolyUStudy/LSGI524（A）/group_3_524_final/raw_data/data_ta.csv\"\n",
    "\n",
    "\n",
    "df_ta = pd.read_csv(DATA_PATH)\n",
    "display(df_ta.head())\n",
    "display(df_ta.info())\n",
    "display(df_ta.describe())"
   ]
  },
  {
   "cell_type": "code",
   "execution_count": 8,
   "metadata": {},
   "outputs": [
    {
     "data": {
      "text/plain": [
       "Metropolitan Police      46789\n",
       "West Midlands            13509\n",
       "West Yorkshire           12016\n",
       "Greater Manchester       11954\n",
       "Thames Valley            11483\n",
       "Kent                      9995\n",
       "Hampshire                 9492\n",
       "Lancashire                9143\n",
       "Devon and Cornwall        8804\n",
       "Sussex                    8548\n",
       "Essex                     8239\n",
       "Avon and Somerset         7929\n",
       "Surrey                    7897\n",
       "Northumbria               7557\n",
       "South Yorkshire           7258\n",
       "Staffordshire             6479\n",
       "Merseyside                6373\n",
       "Cheshire                  6288\n",
       "Nottinghamshire           6223\n",
       "West Mercia               5995\n",
       "Derbyshire                5818\n",
       "South Wales               5685\n",
       "Hertfordshire             5493\n",
       "Leicestershire            5326\n",
       "Cambridgeshire            5219\n",
       "Humberside                5024\n",
       "Lincolnshire              4780\n",
       "Strathclyde               4635\n",
       "North Yorkshire           4451\n",
       "Dorset                    3998\n",
       "Suffolk                   3759\n",
       "Norfolk                   3758\n",
       "North Wales               3419\n",
       "Bedfordshire              3184\n",
       "Durham                    3098\n",
       "Warwickshire              3071\n",
       "Dyfed-Powys               2996\n",
       "Northamptonshire          2803\n",
       "Cumbria                   2755\n",
       "Wiltshire                 2664\n",
       "Gloucestershire           2400\n",
       "Lothian and Borders       2344\n",
       "Cleveland                 1961\n",
       "Gwent                     1876\n",
       "Grampian                  1329\n",
       "Northern                  1009\n",
       "Tayside                    909\n",
       "City of London             635\n",
       "Central                    628\n",
       "Fife                       587\n",
       "Dumfries and Galloway      388\n",
       "Name: Police_Force, dtype: int64"
      ]
     },
     "execution_count": 8,
     "metadata": {},
     "output_type": "execute_result"
    }
   ],
   "source": [
    "df_ta[\"Police_Force\"].value_counts()"
   ]
  },
  {
   "cell_type": "code",
   "execution_count": 9,
   "metadata": {},
   "outputs": [
    {
     "data": {
      "text/plain": [
       "Birmingham            6165\n",
       "Leeds                 4140\n",
       "Manchester            3132\n",
       "Bradford              3006\n",
       "Westminster           2811\n",
       "                      ... \n",
       "Chester-le-Street       25\n",
       "Alnwick                 20\n",
       "South Shropshire        18\n",
       "Teesdale                15\n",
       "Berwick-upon-Tweed      13\n",
       "Name: Local_Authority_(District), Length: 422, dtype: int64"
      ]
     },
     "execution_count": 9,
     "metadata": {},
     "output_type": "execute_result"
    }
   ],
   "source": [
    "df_ta[\"Local_Authority_(District)\"].value_counts()"
   ]
  },
  {
   "cell_type": "code",
   "execution_count": 5,
   "metadata": {},
   "outputs": [
    {
     "data": {
      "application/vnd.plotly.v1+json": {
       "config": {
        "plotlyServerURL": "https://plot.ly"
       },
       "data": [
        {
         "geo": "geo",
         "hovertemplate": "Latitude=%{lat}<br>Longitude=%{lon}<extra></extra>",
         "lat": [
          51.514399,
          51.507804,
          51.518021,
          51.527806,
          51.565364,
          51.545757,
          51.476978,
          51.493122,
          51.565367,
          51.525316,
          51.532137,
          51.530032,
          51.5767,
          51.526642,
          51.551049,
          51.447218,
          51.43559,
          51.489248,
          51.48858,
          51.445726,
          51.476012,
          51.484022,
          51.417601,
          51.597082,
          51.56423,
          51.585209,
          51.481258,
          51.453262,
          51.478062,
          51.432666,
          51.644593,
          51.411215,
          51.454106,
          51.440724,
          51.474258,
          51.400974,
          51.463554,
          51.460718,
          51.508703,
          51.508144,
          51.557677,
          51.57063,
          51.580178,
          51.377255,
          51.352063,
          51.344337,
          54.53769,
          54.118163,
          54.802714,
          54.710033,
          54.210423,
          54.257741,
          53.807627,
          54.048672,
          54.022387,
          54.085066,
          53.864354,
          53.89279,
          53.583598,
          53.680605,
          53.738002,
          53.756354,
          53.791964,
          53.775367,
          53.657603,
          53.757066,
          53.831732,
          53.6917,
          53.734826,
          53.732077,
          53.489125,
          53.455221,
          53.474413,
          53.460967,
          53.380331,
          53.346788,
          53.381597,
          53.366613,
          53.471533,
          53.494105,
          53.50244,
          53.490082,
          53.495494,
          53.452624,
          53.468914,
          53.581037,
          53.558618,
          53.589035,
          53.513365,
          53.451093,
          53.461552,
          53.542745,
          53.618752,
          53.562159,
          53.485473,
          53.591097,
          53.472107,
          53.357728,
          53.249731,
          53.383979,
          53.256291,
          53.393507,
          53.377812,
          53.181235,
          53.199937,
          52.97892,
          53.388277,
          53.152058,
          53.226526,
          53.201703,
          53.364887,
          55.05835,
          54.976483,
          54.960764,
          54.949856,
          54.993009,
          54.917948,
          55.033602,
          54.964491,
          55.770376,
          54.901199,
          55.057981,
          54.789793,
          54.795099,
          54.859846,
          54.861428,
          54.656577,
          54.54743,
          54.555387,
          54.704764,
          53.79601,
          54.246678,
          53.977543,
          53.964917,
          53.95581,
          54.148977,
          53.769828,
          53.865899,
          53.802019,
          53.912744,
          53.729075,
          53.663479,
          53.801252,
          53.770369,
          53.79734,
          53.798171,
          53.65128,
          53.685073,
          53.706723,
          53.799405,
          53.70426,
          53.607838,
          53.787511,
          53.676144,
          53.758114,
          53.530768,
          53.513184,
          53.5748,
          53.508222,
          53.523031,
          53.540119,
          53.463507,
          53.421491,
          53.390884,
          53.389173,
          53.37696,
          53.597894,
          53.586198,
          53.578739,
          53.551652,
          53.689212,
          53.756665,
          54.587698,
          54.5935,
          52.470903,
          52.544319,
          52.44557,
          52.423399,
          52.429975,
          52.484899,
          52.48911,
          52.486717,
          52.475961,
          52.499813,
          52.513149,
          52.510197,
          52.558928,
          52.46811,
          52.463318,
          52.463057,
          52.477117,
          52.381465,
          52.994801,
          52.985487,
          52.667076,
          52.688471,
          52.785006,
          52.677582,
          52.621886,
          53.053684,
          52.702427,
          52.74552,
          52.991768,
          53.033406,
          53.020008,
          52.860654,
          52.656578,
          52.215345,
          52.360696,
          52.833405,
          52.955929,
          52.746465,
          52.766789,
          52.332006,
          52.28211,
          52.216811,
          52.406172,
          52.384833,
          53.294832,
          53.437957,
          53.298742,
          53.304771,
          53.261349,
          53.325209,
          53.233275,
          53.141008,
          53.244605,
          52.859148,
          52.881222,
          53.202808,
          53.17233,
          53.227771,
          53.003441,
          52.977224,
          52.831797,
          52.937668,
          52.953366,
          52.979396,
          52.900013,
          52.840475,
          52.673373,
          52.8935,
          52.994556,
          53.224239,
          53.176405,
          53.277973,
          53.13843,
          52.644928,
          52.656852,
          52.723423,
          52.409362,
          52.547837,
          52.724146,
          52.74677,
          52.634019,
          52.642098,
          52.594537,
          52.650156,
          52.481967,
          52.616516,
          52.396226,
          52.351967,
          52.300714,
          52.182196,
          52.128722,
          52.217602,
          52.350376,
          52.378025,
          52.469919,
          52.612822,
          52.231841,
          52.574287,
          52.339942,
          52.634612,
          52.739848,
          52.739141,
          52.673194,
          52.48134,
          52.863955,
          52.621193,
          52.451648,
          52.493119,
          51.941192,
          51.834327,
          51.737415,
          51.771844,
          51.784683,
          51.777592,
          51.738021,
          51.728698,
          51.80438,
          52.008529,
          51.956492,
          51.615445,
          51.653684,
          51.664716,
          51.720227,
          52.019158,
          51.568932,
          51.809562,
          51.51412,
          51.547889,
          51.652583,
          52.045998,
          51.616188,
          51.82343,
          51.562573,
          51.612222,
          51.858087,
          51.739723,
          51.823797,
          51.377439,
          51.406037,
          51.409423,
          51.451567,
          51.439055,
          51.461937,
          51.434466,
          51.39983,
          51.408807,
          51.260096,
          50.747303,
          50.976126,
          50.920205,
          50.902919,
          50.969216,
          51.207765,
          51.002896,
          51.08323,
          50.898997,
          51.320844,
          50.919742,
          51.043887,
          51.051819,
          51.407693,
          51.377094,
          51.309944,
          51.266081,
          51.236701,
          51.204043,
          51.230697,
          51.257238,
          51.279805,
          51.345337,
          51.425402,
          51.443932,
          51.297335,
          51.218843,
          51.269068,
          51.437901,
          51.134495,
          51.313734,
          51.156914,
          51.152227,
          51.292611,
          51.306168,
          51.343991,
          51.29376,
          51.283301,
          51.247414,
          51.140432,
          50.859165,
          50.896034,
          51.054065,
          50.784279,
          50.8226,
          50.831289,
          50.845959,
          50.818448,
          50.852568,
          50.857208,
          50.24934,
          50.673417,
          51.187647,
          51.015644,
          50.734582,
          50.72494,
          50.376019,
          50.449542,
          50.205471,
          50.257259,
          50.262781,
          50.525273,
          50.497135,
          50.887909,
          51.381936,
          51.423144,
          51.191419,
          51.139976,
          51.488919,
          50.946312,
          51.371096,
          51.634146,
          51.383234,
          51.50419,
          51.394128,
          51.608209,
          51.506932,
          51.092662,
          51.506931,
          51.895734,
          51.650765,
          52.027669,
          51.246391,
          51.462891,
          51.581913,
          51.071897,
          51.509724,
          50.717803,
          50.735327,
          50.60084,
          51.013239,
          50.644674,
          53.203262,
          52.9748,
          53.019529,
          53.131665,
          53.284319,
          53.205529,
          53.175928,
          51.672584,
          51.594857,
          51.512883,
          51.592225,
          51.504888,
          51.520333,
          51.850816,
          51.667603,
          52.317445,
          51.689897,
          51.789934,
          57.737435,
          57.482359,
          56.83167,
          57.464015,
          57.130012,
          57.612415,
          57.634475,
          57.075563,
          57.221795,
          56.289604,
          56.712095,
          56.117611,
          56.064441,
          56.215915,
          55.930211,
          55.952744,
          55.952566,
          55.857083,
          55.9558,
          55.963434,
          55.850049,
          55.857846,
          55.900971,
          55.97878,
          55.969127,
          56.079196,
          55.850265,
          55.824465,
          55.84702,
          55.839841,
          55.893634,
          55.882892,
          55.882802,
          55.984099,
          55.779309,
          55.774097,
          55.599426,
          55.453684,
          55.490268,
          55.397165
         ],
         "legendgroup": "",
         "lon": [
          -0.199248,
          -0.20311,
          -0.189159,
          -0.182283,
          -0.134469,
          -0.084071,
          -0.216131,
          -0.219246,
          -0.073435,
          -0.033463,
          -0.059699,
          -0.014517,
          0.04337,
          0.072269,
          0.1305,
          -0.129935,
          -0.128252,
          -0.109633,
          -0.09612,
          -0.017313,
          -0.048257,
          -0.032504,
          0.090057,
          -0.336034,
          -0.365945,
          -0.310629,
          0.065457,
          0.151996,
          0.187152,
          0.102542,
          -0.157525,
          -0.311443,
          -0.336344,
          -0.389063,
          -0.362539,
          -0.168483,
          -0.16785,
          -0.217197,
          -0.337238,
          -0.342158,
          -0.386232,
          -0.115061,
          -0.099366,
          -0.085512,
          -0.192264,
          -0.204486,
          -3.537215,
          -3.200954,
          -2.918268,
          -3.505077,
          -3.267112,
          -3.078204,
          -3.035184,
          -2.803198,
          -2.873365,
          -2.830653,
          -2.863683,
          -2.954202,
          -2.72079,
          -2.903523,
          -2.693714,
          -2.706454,
          -2.703712,
          -2.478402,
          -2.504456,
          -2.36641,
          -2.232743,
          -2.23091,
          -2.281324,
          -2.644048,
          -2.894023,
          -2.738343,
          -2.636675,
          -2.753956,
          -2.873401,
          -2.837715,
          -2.93176,
          -2.892959,
          -2.250202,
          -2.321029,
          -2.416224,
          -2.108635,
          -2.085134,
          -2.077217,
          -2.030397,
          -2.455512,
          -2.416624,
          -2.406197,
          -2.595938,
          -2.368138,
          -2.326206,
          -2.280501,
          -2.295367,
          -2.119992,
          -2.383054,
          -2.562887,
          -2.402067,
          -2.358618,
          -2.871638,
          -2.620741,
          -2.834297,
          -2.62088,
          -2.559169,
          -2.833588,
          -2.870778,
          -2.586324,
          -2.588626,
          -2.670925,
          -2.955353,
          -2.798204,
          -2.722954,
          -1.488035,
          -2.330245,
          -1.67247,
          -1.574195,
          -1.579365,
          -1.384045,
          -1.62666,
          -1.624958,
          -2.005225,
          -1.538686,
          -1.635356,
          -1.59734,
          -1.598531,
          -1.707716,
          -1.83109,
          -1.676936,
          -1.918187,
          -1.473017,
          -1.567145,
          -1.20992,
          -1.060448,
          -2.069494,
          -1.07396,
          -1.047187,
          -1.433944,
          -1.578337,
          -1.909791,
          -1.702672,
          -1.937701,
          -1.683331,
          -1.823659,
          -1.762044,
          -1.698192,
          -1.784687,
          -1.58701,
          -1.784222,
          -1.699105,
          -1.915282,
          -1.509111,
          -1.648676,
          -1.274347,
          -1.523973,
          -1.501613,
          -1.764563,
          -1.121478,
          -1.032715,
          -1.144427,
          -1.064343,
          -1.395714,
          -1.380079,
          -1.341279,
          -1.350657,
          -1.468863,
          -1.468283,
          -1.395228,
          -0.14418,
          -0.653978,
          -0.654214,
          -0.858854,
          -0.960841,
          -0.341213,
          -1.076138,
          -1.059291,
          -1.844215,
          -1.895714,
          -1.859606,
          -1.893793,
          -1.909368,
          -1.902039,
          -1.885388,
          -1.92869,
          -2.13645,
          -2.109861,
          -2.069519,
          -1.96652,
          -1.996427,
          -2.066798,
          -1.72708,
          -1.730614,
          -1.746871,
          -1.539678,
          -2.094277,
          -2.14803,
          -2.016677,
          -2.022898,
          -1.936507,
          -1.943171,
          -2.239273,
          -2.225993,
          -1.87077,
          -1.904715,
          -2.157586,
          -2.143273,
          -2.146956,
          -2.239545,
          -1.870019,
          -2.190831,
          -2.205553,
          -2.562097,
          -2.458592,
          -2.323803,
          -2.523297,
          -1.56015,
          -1.585271,
          -1.661262,
          -1.212786,
          -1.249311,
          -1.620688,
          -1.901818,
          -1.555533,
          -1.393697,
          -1.429092,
          -1.316686,
          -1.423323,
          -1.494076,
          -1.549351,
          -1.601625,
          -1.496213,
          -1.322078,
          -0.899915,
          -1.201544,
          -0.827464,
          -1.18666,
          -1.231238,
          -1.064347,
          -0.912476,
          -1.202109,
          -0.653783,
          -0.162685,
          -0.171037,
          -0.674202,
          -0.431067,
          -0.543272,
          -0.681505,
          -0.476501,
          -0.406394,
          -1.169339,
          -0.52761,
          -1.252246,
          -1.179504,
          -1.391794,
          -1.327896,
          -1.406509,
          -1.152404,
          -1.125941,
          -1.022069,
          -1.062809,
          -0.917659,
          -1.119213,
          -0.714143,
          -1.136668,
          -1.053633,
          0.087547,
          0.38019,
          0.011177,
          -0.252237,
          -0.255259,
          -0.273858,
          -0.180061,
          0.076843,
          -0.242017,
          -0.209931,
          1.511892,
          0.388326,
          0.821497,
          1.054694,
          0.661501,
          0.798836,
          1.287069,
          1.692374,
          1.726651,
          -0.516244,
          -0.084038,
          -0.205312,
          -0.59413,
          -0.622871,
          -0.430148,
          -0.470625,
          -0.359441,
          -0.409491,
          -0.047171,
          -0.273275,
          0.273924,
          0.341621,
          0.369956,
          0.221553,
          0.152967,
          0.595438,
          0.518568,
          0.420793,
          0.639678,
          0.631301,
          0.208947,
          -0.778485,
          -0.61458,
          -0.497583,
          -0.768915,
          -0.870544,
          -0.821213,
          -1.503016,
          -0.702374,
          -0.769284,
          -0.74935,
          -0.957888,
          -0.878464,
          -1.013216,
          -0.906774,
          -1.320747,
          -1.517305,
          -0.736065,
          -1.663897,
          -1.354581,
          -1.390495,
          -1.337248,
          -1.390708,
          -1.500513,
          -1.349506,
          -1.355233,
          -1.312133,
          -1.214286,
          -1.085336,
          -1.285454,
          -1.366512,
          -0.367506,
          -0.247606,
          -0.650045,
          -0.553858,
          -0.570681,
          -0.251749,
          -0.334245,
          -0.195557,
          -0.172017,
          -0.506278,
          -0.419521,
          -0.530547,
          -0.070765,
          -0.789174,
          0.526025,
          0.242214,
          1.299251,
          0.870762,
          0.303931,
          1.191959,
          0.476538,
          0.544707,
          0.275824,
          0.425963,
          0.146478,
          0.279792,
          -0.139073,
          -0.783737,
          0.061779,
          -0.786057,
          -0.670774,
          0.286153,
          -0.136627,
          0.446976,
          -0.378772,
          -0.197297,
          0.468028,
          -5.221059,
          -4.392067,
          -4.124794,
          -3.741805,
          -3.503904,
          -3.526123,
          -4.15948,
          -3.560912,
          -5.121105,
          -5.194932,
          -5.083874,
          -3.593884,
          -4.132427,
          -3.454951,
          -2.381044,
          -2.816312,
          -2.59169,
          -2.517274,
          -2.651129,
          -2.637825,
          -2.396182,
          -2.434736,
          -2.551912,
          -2.58579,
          -2.825138,
          -2.468858,
          -2.576748,
          -3.013826,
          -2.519257,
          -2.111142,
          -2.438798,
          -1.940646,
          -1.780191,
          -1.657228,
          -1.864304,
          -1.804854,
          -2.190174,
          -1.905202,
          -1.767996,
          -2.480961,
          -2.210659,
          -2.534163,
          -3.018316,
          -3.944521,
          -2.94019,
          -4.27076,
          -3.581562,
          -3.793682,
          -2.942558,
          -2.877477,
          -2.962744,
          -3.220271,
          -3.579413,
          -3.581002,
          -3.56251,
          -4.336823,
          -4.145013,
          -4.132287,
          -4.94235,
          -3.746681,
          -4.269381,
          -4.20732,
          -5.82806,
          -2.827275,
          -2.093461,
          -3.314888,
          -3.229595,
          -2.786939,
          -2.466957,
          -3.391912,
          -2.459317,
          -3.485259,
          -3.238586,
          -3.157198,
          -3.209811,
          -2.94498,
          -3.40638,
          -2.210513,
          -3.193471,
          -3.221421,
          -3.575833,
          -2.235439,
          -3.204422,
          -3.285209,
          -3.143091,
          -3.811591,
          -4.112927,
          -4.235262,
          -4.416123,
          -4.415517,
          -4.390229,
          -3.971916,
          -3.971911,
          -3.993416,
          -3.96955,
          -4.078667,
          -4.464217,
          -4.600635,
          -4.570907,
          -3.486232
         ],
         "marker": {
          "color": "#636efa",
          "symbol": "circle"
         },
         "mode": "markers",
         "name": "",
         "showlegend": false,
         "type": "scattergeo"
        }
       ],
       "layout": {
        "geo": {
         "center": {},
         "domain": {
          "x": [
           0,
           1
          ],
          "y": [
           0,
           1
          ]
         },
         "projection": {
          "type": "natural earth"
         }
        },
        "legend": {
         "tracegroupgap": 0
        },
        "template": {
         "data": {
          "bar": [
           {
            "error_x": {
             "color": "#2a3f5f"
            },
            "error_y": {
             "color": "#2a3f5f"
            },
            "marker": {
             "line": {
              "color": "#E5ECF6",
              "width": 0.5
             },
             "pattern": {
              "fillmode": "overlay",
              "size": 10,
              "solidity": 0.2
             }
            },
            "type": "bar"
           }
          ],
          "barpolar": [
           {
            "marker": {
             "line": {
              "color": "#E5ECF6",
              "width": 0.5
             },
             "pattern": {
              "fillmode": "overlay",
              "size": 10,
              "solidity": 0.2
             }
            },
            "type": "barpolar"
           }
          ],
          "carpet": [
           {
            "aaxis": {
             "endlinecolor": "#2a3f5f",
             "gridcolor": "white",
             "linecolor": "white",
             "minorgridcolor": "white",
             "startlinecolor": "#2a3f5f"
            },
            "baxis": {
             "endlinecolor": "#2a3f5f",
             "gridcolor": "white",
             "linecolor": "white",
             "minorgridcolor": "white",
             "startlinecolor": "#2a3f5f"
            },
            "type": "carpet"
           }
          ],
          "choropleth": [
           {
            "colorbar": {
             "outlinewidth": 0,
             "ticks": ""
            },
            "type": "choropleth"
           }
          ],
          "contour": [
           {
            "colorbar": {
             "outlinewidth": 0,
             "ticks": ""
            },
            "colorscale": [
             [
              0,
              "#0d0887"
             ],
             [
              0.1111111111111111,
              "#46039f"
             ],
             [
              0.2222222222222222,
              "#7201a8"
             ],
             [
              0.3333333333333333,
              "#9c179e"
             ],
             [
              0.4444444444444444,
              "#bd3786"
             ],
             [
              0.5555555555555556,
              "#d8576b"
             ],
             [
              0.6666666666666666,
              "#ed7953"
             ],
             [
              0.7777777777777778,
              "#fb9f3a"
             ],
             [
              0.8888888888888888,
              "#fdca26"
             ],
             [
              1,
              "#f0f921"
             ]
            ],
            "type": "contour"
           }
          ],
          "contourcarpet": [
           {
            "colorbar": {
             "outlinewidth": 0,
             "ticks": ""
            },
            "type": "contourcarpet"
           }
          ],
          "heatmap": [
           {
            "colorbar": {
             "outlinewidth": 0,
             "ticks": ""
            },
            "colorscale": [
             [
              0,
              "#0d0887"
             ],
             [
              0.1111111111111111,
              "#46039f"
             ],
             [
              0.2222222222222222,
              "#7201a8"
             ],
             [
              0.3333333333333333,
              "#9c179e"
             ],
             [
              0.4444444444444444,
              "#bd3786"
             ],
             [
              0.5555555555555556,
              "#d8576b"
             ],
             [
              0.6666666666666666,
              "#ed7953"
             ],
             [
              0.7777777777777778,
              "#fb9f3a"
             ],
             [
              0.8888888888888888,
              "#fdca26"
             ],
             [
              1,
              "#f0f921"
             ]
            ],
            "type": "heatmap"
           }
          ],
          "heatmapgl": [
           {
            "colorbar": {
             "outlinewidth": 0,
             "ticks": ""
            },
            "colorscale": [
             [
              0,
              "#0d0887"
             ],
             [
              0.1111111111111111,
              "#46039f"
             ],
             [
              0.2222222222222222,
              "#7201a8"
             ],
             [
              0.3333333333333333,
              "#9c179e"
             ],
             [
              0.4444444444444444,
              "#bd3786"
             ],
             [
              0.5555555555555556,
              "#d8576b"
             ],
             [
              0.6666666666666666,
              "#ed7953"
             ],
             [
              0.7777777777777778,
              "#fb9f3a"
             ],
             [
              0.8888888888888888,
              "#fdca26"
             ],
             [
              1,
              "#f0f921"
             ]
            ],
            "type": "heatmapgl"
           }
          ],
          "histogram": [
           {
            "marker": {
             "pattern": {
              "fillmode": "overlay",
              "size": 10,
              "solidity": 0.2
             }
            },
            "type": "histogram"
           }
          ],
          "histogram2d": [
           {
            "colorbar": {
             "outlinewidth": 0,
             "ticks": ""
            },
            "colorscale": [
             [
              0,
              "#0d0887"
             ],
             [
              0.1111111111111111,
              "#46039f"
             ],
             [
              0.2222222222222222,
              "#7201a8"
             ],
             [
              0.3333333333333333,
              "#9c179e"
             ],
             [
              0.4444444444444444,
              "#bd3786"
             ],
             [
              0.5555555555555556,
              "#d8576b"
             ],
             [
              0.6666666666666666,
              "#ed7953"
             ],
             [
              0.7777777777777778,
              "#fb9f3a"
             ],
             [
              0.8888888888888888,
              "#fdca26"
             ],
             [
              1,
              "#f0f921"
             ]
            ],
            "type": "histogram2d"
           }
          ],
          "histogram2dcontour": [
           {
            "colorbar": {
             "outlinewidth": 0,
             "ticks": ""
            },
            "colorscale": [
             [
              0,
              "#0d0887"
             ],
             [
              0.1111111111111111,
              "#46039f"
             ],
             [
              0.2222222222222222,
              "#7201a8"
             ],
             [
              0.3333333333333333,
              "#9c179e"
             ],
             [
              0.4444444444444444,
              "#bd3786"
             ],
             [
              0.5555555555555556,
              "#d8576b"
             ],
             [
              0.6666666666666666,
              "#ed7953"
             ],
             [
              0.7777777777777778,
              "#fb9f3a"
             ],
             [
              0.8888888888888888,
              "#fdca26"
             ],
             [
              1,
              "#f0f921"
             ]
            ],
            "type": "histogram2dcontour"
           }
          ],
          "mesh3d": [
           {
            "colorbar": {
             "outlinewidth": 0,
             "ticks": ""
            },
            "type": "mesh3d"
           }
          ],
          "parcoords": [
           {
            "line": {
             "colorbar": {
              "outlinewidth": 0,
              "ticks": ""
             }
            },
            "type": "parcoords"
           }
          ],
          "pie": [
           {
            "automargin": true,
            "type": "pie"
           }
          ],
          "scatter": [
           {
            "fillpattern": {
             "fillmode": "overlay",
             "size": 10,
             "solidity": 0.2
            },
            "type": "scatter"
           }
          ],
          "scatter3d": [
           {
            "line": {
             "colorbar": {
              "outlinewidth": 0,
              "ticks": ""
             }
            },
            "marker": {
             "colorbar": {
              "outlinewidth": 0,
              "ticks": ""
             }
            },
            "type": "scatter3d"
           }
          ],
          "scattercarpet": [
           {
            "marker": {
             "colorbar": {
              "outlinewidth": 0,
              "ticks": ""
             }
            },
            "type": "scattercarpet"
           }
          ],
          "scattergeo": [
           {
            "marker": {
             "colorbar": {
              "outlinewidth": 0,
              "ticks": ""
             }
            },
            "type": "scattergeo"
           }
          ],
          "scattergl": [
           {
            "marker": {
             "colorbar": {
              "outlinewidth": 0,
              "ticks": ""
             }
            },
            "type": "scattergl"
           }
          ],
          "scattermapbox": [
           {
            "marker": {
             "colorbar": {
              "outlinewidth": 0,
              "ticks": ""
             }
            },
            "type": "scattermapbox"
           }
          ],
          "scatterpolar": [
           {
            "marker": {
             "colorbar": {
              "outlinewidth": 0,
              "ticks": ""
             }
            },
            "type": "scatterpolar"
           }
          ],
          "scatterpolargl": [
           {
            "marker": {
             "colorbar": {
              "outlinewidth": 0,
              "ticks": ""
             }
            },
            "type": "scatterpolargl"
           }
          ],
          "scatterternary": [
           {
            "marker": {
             "colorbar": {
              "outlinewidth": 0,
              "ticks": ""
             }
            },
            "type": "scatterternary"
           }
          ],
          "surface": [
           {
            "colorbar": {
             "outlinewidth": 0,
             "ticks": ""
            },
            "colorscale": [
             [
              0,
              "#0d0887"
             ],
             [
              0.1111111111111111,
              "#46039f"
             ],
             [
              0.2222222222222222,
              "#7201a8"
             ],
             [
              0.3333333333333333,
              "#9c179e"
             ],
             [
              0.4444444444444444,
              "#bd3786"
             ],
             [
              0.5555555555555556,
              "#d8576b"
             ],
             [
              0.6666666666666666,
              "#ed7953"
             ],
             [
              0.7777777777777778,
              "#fb9f3a"
             ],
             [
              0.8888888888888888,
              "#fdca26"
             ],
             [
              1,
              "#f0f921"
             ]
            ],
            "type": "surface"
           }
          ],
          "table": [
           {
            "cells": {
             "fill": {
              "color": "#EBF0F8"
             },
             "line": {
              "color": "white"
             }
            },
            "header": {
             "fill": {
              "color": "#C8D4E3"
             },
             "line": {
              "color": "white"
             }
            },
            "type": "table"
           }
          ]
         },
         "layout": {
          "annotationdefaults": {
           "arrowcolor": "#2a3f5f",
           "arrowhead": 0,
           "arrowwidth": 1
          },
          "autotypenumbers": "strict",
          "coloraxis": {
           "colorbar": {
            "outlinewidth": 0,
            "ticks": ""
           }
          },
          "colorscale": {
           "diverging": [
            [
             0,
             "#8e0152"
            ],
            [
             0.1,
             "#c51b7d"
            ],
            [
             0.2,
             "#de77ae"
            ],
            [
             0.3,
             "#f1b6da"
            ],
            [
             0.4,
             "#fde0ef"
            ],
            [
             0.5,
             "#f7f7f7"
            ],
            [
             0.6,
             "#e6f5d0"
            ],
            [
             0.7,
             "#b8e186"
            ],
            [
             0.8,
             "#7fbc41"
            ],
            [
             0.9,
             "#4d9221"
            ],
            [
             1,
             "#276419"
            ]
           ],
           "sequential": [
            [
             0,
             "#0d0887"
            ],
            [
             0.1111111111111111,
             "#46039f"
            ],
            [
             0.2222222222222222,
             "#7201a8"
            ],
            [
             0.3333333333333333,
             "#9c179e"
            ],
            [
             0.4444444444444444,
             "#bd3786"
            ],
            [
             0.5555555555555556,
             "#d8576b"
            ],
            [
             0.6666666666666666,
             "#ed7953"
            ],
            [
             0.7777777777777778,
             "#fb9f3a"
            ],
            [
             0.8888888888888888,
             "#fdca26"
            ],
            [
             1,
             "#f0f921"
            ]
           ],
           "sequentialminus": [
            [
             0,
             "#0d0887"
            ],
            [
             0.1111111111111111,
             "#46039f"
            ],
            [
             0.2222222222222222,
             "#7201a8"
            ],
            [
             0.3333333333333333,
             "#9c179e"
            ],
            [
             0.4444444444444444,
             "#bd3786"
            ],
            [
             0.5555555555555556,
             "#d8576b"
            ],
            [
             0.6666666666666666,
             "#ed7953"
            ],
            [
             0.7777777777777778,
             "#fb9f3a"
            ],
            [
             0.8888888888888888,
             "#fdca26"
            ],
            [
             1,
             "#f0f921"
            ]
           ]
          },
          "colorway": [
           "#636efa",
           "#EF553B",
           "#00cc96",
           "#ab63fa",
           "#FFA15A",
           "#19d3f3",
           "#FF6692",
           "#B6E880",
           "#FF97FF",
           "#FECB52"
          ],
          "font": {
           "color": "#2a3f5f"
          },
          "geo": {
           "bgcolor": "white",
           "lakecolor": "white",
           "landcolor": "#E5ECF6",
           "showlakes": true,
           "showland": true,
           "subunitcolor": "white"
          },
          "hoverlabel": {
           "align": "left"
          },
          "hovermode": "closest",
          "mapbox": {
           "style": "light"
          },
          "paper_bgcolor": "white",
          "plot_bgcolor": "#E5ECF6",
          "polar": {
           "angularaxis": {
            "gridcolor": "white",
            "linecolor": "white",
            "ticks": ""
           },
           "bgcolor": "#E5ECF6",
           "radialaxis": {
            "gridcolor": "white",
            "linecolor": "white",
            "ticks": ""
           }
          },
          "scene": {
           "xaxis": {
            "backgroundcolor": "#E5ECF6",
            "gridcolor": "white",
            "gridwidth": 2,
            "linecolor": "white",
            "showbackground": true,
            "ticks": "",
            "zerolinecolor": "white"
           },
           "yaxis": {
            "backgroundcolor": "#E5ECF6",
            "gridcolor": "white",
            "gridwidth": 2,
            "linecolor": "white",
            "showbackground": true,
            "ticks": "",
            "zerolinecolor": "white"
           },
           "zaxis": {
            "backgroundcolor": "#E5ECF6",
            "gridcolor": "white",
            "gridwidth": 2,
            "linecolor": "white",
            "showbackground": true,
            "ticks": "",
            "zerolinecolor": "white"
           }
          },
          "shapedefaults": {
           "line": {
            "color": "#2a3f5f"
           }
          },
          "ternary": {
           "aaxis": {
            "gridcolor": "white",
            "linecolor": "white",
            "ticks": ""
           },
           "baxis": {
            "gridcolor": "white",
            "linecolor": "white",
            "ticks": ""
           },
           "bgcolor": "#E5ECF6",
           "caxis": {
            "gridcolor": "white",
            "linecolor": "white",
            "ticks": ""
           }
          },
          "title": {
           "x": 0.05
          },
          "xaxis": {
           "automargin": true,
           "gridcolor": "white",
           "linecolor": "white",
           "ticks": "",
           "title": {
            "standoff": 15
           },
           "zerolinecolor": "white",
           "zerolinewidth": 2
          },
          "yaxis": {
           "automargin": true,
           "gridcolor": "white",
           "linecolor": "white",
           "ticks": "",
           "title": {
            "standoff": 15
           },
           "zerolinecolor": "white",
           "zerolinewidth": 2
          }
         }
        },
        "title": {
         "text": "Traffic Accidents"
        }
       }
      }
     },
     "metadata": {},
     "output_type": "display_data"
    }
   ],
   "source": [
    "import plotly.express as px\n",
    "# 使用 Plotly Express 创建地图\n",
    "fig = px.scatter_geo(\n",
    "    df_ta[df_ta[\"Accident Date\"] == \"1/5/2021\"],\n",
    "    lat='Latitude',\n",
    "    lon='Longitude',  # 在地图上显示地点名称\n",
    "    title='Traffic Accidents',\n",
    "    projection='natural earth'  # 选择地图投影类型\n",
    ")\n",
    "\n",
    "# 显示地图\n",
    "fig.show()"
   ]
  },
  {
   "cell_type": "code",
   "execution_count": null,
   "metadata": {},
   "outputs": [],
   "source": []
  }
 ],
 "metadata": {
  "language_info": {
   "name": "python"
  }
 },
 "nbformat": 4,
 "nbformat_minor": 2
}
